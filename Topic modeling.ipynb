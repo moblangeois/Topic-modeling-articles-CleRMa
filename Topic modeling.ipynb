{
 "cells": [
  {
   "cell_type": "code",
   "execution_count": 1,
   "metadata": {},
   "outputs": [
    {
     "data": {
      "text/plain": [
       "<spacy_language_detection.spacy_language_detector.LanguageDetector at 0x1e0de098150>"
      ]
     },
     "execution_count": 1,
     "metadata": {},
     "output_type": "execute_result"
    }
   ],
   "source": [
    "# Import des modules généraux\n",
    "import pandas as pd\n",
    "import re\n",
    "from collections import Counter\n",
    "from dotenv import load_dotenv\n",
    "import os\n",
    "\n",
    "# Import des modules de NLP\n",
    "from bertopic import BERTopic\n",
    "from bertopic.representation import KeyBERTInspired, MaximalMarginalRelevance, OpenAI, PartOfSpeech\n",
    "from bertopic.vectorizers import ClassTfidfTransformer\n",
    "\n",
    "import spacy\n",
    "from spacy.language import Language\n",
    "from spacy_language_detection import LanguageDetector\n",
    "\n",
    "from nltk.tokenize import sent_tokenize, word_tokenize\n",
    "from sentence_transformers import SentenceTransformer\n",
    "from sklearn.feature_extraction.text import CountVectorizer\n",
    "\n",
    "# Import des modules de clustering\n",
    "from hdbscan import HDBSCAN\n",
    "from umap import UMAP\n",
    "\n",
    "# Import des modules de visualisation\n",
    "import matplotlib.pyplot as plt\n",
    "import seaborn as sns\n",
    "\n",
    "# Import de openai pour la représentation des topics améliorée\n",
    "import openai\n",
    "\n",
    "# Chargement des variables d'environnement et initialisations\n",
    "load_dotenv()\n",
    "openai_api_key = os.getenv(\"OPENAI_API_KEY\")\n",
    "nlp = spacy.load(\"fr_core_news_md\")\n",
    "\n",
    "def get_lang_detector(nlp, name):\n",
    "    return LanguageDetector(seed=42)  # We use the seed 42\n",
    "\n",
    "Language.factory(\"language_detector\", func=get_lang_detector)\n",
    "nlp.add_pipe('language_detector', last=True)"
   ]
  },
  {
   "cell_type": "code",
   "execution_count": 2,
   "metadata": {},
   "outputs": [
    {
     "data": {
      "text/html": [
       "<div>\n",
       "<style scoped>\n",
       "    .dataframe tbody tr th:only-of-type {\n",
       "        vertical-align: middle;\n",
       "    }\n",
       "\n",
       "    .dataframe tbody tr th {\n",
       "        vertical-align: top;\n",
       "    }\n",
       "\n",
       "    .dataframe thead th {\n",
       "        text-align: right;\n",
       "    }\n",
       "</style>\n",
       "<table border=\"1\" class=\"dataframe\">\n",
       "  <thead>\n",
       "    <tr style=\"text-align: right;\">\n",
       "      <th></th>\n",
       "      <th>Cites</th>\n",
       "      <th>Authors</th>\n",
       "      <th>Title</th>\n",
       "      <th>Year</th>\n",
       "      <th>Source</th>\n",
       "      <th>Publisher</th>\n",
       "      <th>ArticleURL</th>\n",
       "      <th>CitesURL</th>\n",
       "      <th>GSRank</th>\n",
       "      <th>QueryDate</th>\n",
       "      <th>...</th>\n",
       "      <th>StartPage</th>\n",
       "      <th>EndPage</th>\n",
       "      <th>ECC</th>\n",
       "      <th>CitesPerYear</th>\n",
       "      <th>CitesPerAuthor</th>\n",
       "      <th>AuthorCount</th>\n",
       "      <th>Age</th>\n",
       "      <th>Abstract</th>\n",
       "      <th>FullTextURL</th>\n",
       "      <th>RelatedURL</th>\n",
       "    </tr>\n",
       "  </thead>\n",
       "  <tbody>\n",
       "    <tr>\n",
       "      <th>0</th>\n",
       "      <td>677</td>\n",
       "      <td>A Aouadi, S Marsat</td>\n",
       "      <td>Do ESG controversies matter for firm value? Ev...</td>\n",
       "      <td>2018</td>\n",
       "      <td>Journal of business ethics</td>\n",
       "      <td>Springer</td>\n",
       "      <td>https://link.springer.com/article/10.1007/s105...</td>\n",
       "      <td>https://scholar.google.com/scholar?cites=74317...</td>\n",
       "      <td>6.0</td>\n",
       "      <td>2024-03-19 21:03:25</td>\n",
       "      <td>...</td>\n",
       "      <td>NaN</td>\n",
       "      <td>NaN</td>\n",
       "      <td>677.0</td>\n",
       "      <td>112.83</td>\n",
       "      <td>339.0</td>\n",
       "      <td>2.0</td>\n",
       "      <td>6.0</td>\n",
       "      <td>The aim of this paper is to investigate the re...</td>\n",
       "      <td>https://www.jstor.org/stable/pdf/45022714.pdf?...</td>\n",
       "      <td>https://scholar.google.com/scholar?q=related:V...</td>\n",
       "    </tr>\n",
       "    <tr>\n",
       "      <th>1</th>\n",
       "      <td>193</td>\n",
       "      <td>D Talbot</td>\n",
       "      <td>Les institutions créatrices de proximités: Ins...</td>\n",
       "      <td>2008</td>\n",
       "      <td>Revue d'économie régionale &amp;urbaine</td>\n",
       "      <td>cairn.info</td>\n",
       "      <td>https://www.cairn.info/revue-d-economie-region...</td>\n",
       "      <td>https://scholar.google.com/scholar?cites=31866...</td>\n",
       "      <td>10.0</td>\n",
       "      <td>2024-03-20 08:00:14</td>\n",
       "      <td>...</td>\n",
       "      <td>NaN</td>\n",
       "      <td>NaN</td>\n",
       "      <td>193.0</td>\n",
       "      <td>12.06</td>\n",
       "      <td>193.0</td>\n",
       "      <td>1.0</td>\n",
       "      <td>16.0</td>\n",
       "      <td>En mobilisant les apports des institutionnalis...</td>\n",
       "      <td>https://www.cairn.info/revue-d-economie-region...</td>\n",
       "      <td>https://scholar.google.com/scholar?q=related:2...</td>\n",
       "    </tr>\n",
       "    <tr>\n",
       "      <th>2</th>\n",
       "      <td>177</td>\n",
       "      <td>M Arouri, G Pijourlet</td>\n",
       "      <td>CSR performance and the value of cash holdings...</td>\n",
       "      <td>2017</td>\n",
       "      <td>Journal of Business Ethics</td>\n",
       "      <td>Springer</td>\n",
       "      <td>https://link.springer.com/article/10.1007/s105...</td>\n",
       "      <td>https://scholar.google.com/scholar?cites=17119...</td>\n",
       "      <td>1.0</td>\n",
       "      <td>2024-03-19 20:53:14</td>\n",
       "      <td>...</td>\n",
       "      <td>NaN</td>\n",
       "      <td>NaN</td>\n",
       "      <td>177.0</td>\n",
       "      <td>25.29</td>\n",
       "      <td>89.0</td>\n",
       "      <td>2.0</td>\n",
       "      <td>7.0</td>\n",
       "      <td>Using a worldwide sample, we examine whether c...</td>\n",
       "      <td>https://www.jstor.org/stable/pdf/44164262.pdf?...</td>\n",
       "      <td>https://scholar.google.com/scholar?q=related:8...</td>\n",
       "    </tr>\n",
       "    <tr>\n",
       "      <th>3</th>\n",
       "      <td>166</td>\n",
       "      <td>P Lacomme, M Larabi, N Tchernev</td>\n",
       "      <td>Job-shop based framework for simultaneous sche...</td>\n",
       "      <td>2013</td>\n",
       "      <td>International Journal of Production …</td>\n",
       "      <td>Elsevier</td>\n",
       "      <td>https://www.sciencedirect.com/science/article/...</td>\n",
       "      <td>https://scholar.google.com/scholar?cites=13514...</td>\n",
       "      <td>1.0</td>\n",
       "      <td>2024-03-20 08:02:20</td>\n",
       "      <td>...</td>\n",
       "      <td>NaN</td>\n",
       "      <td>NaN</td>\n",
       "      <td>166.0</td>\n",
       "      <td>15.09</td>\n",
       "      <td>55.0</td>\n",
       "      <td>3.0</td>\n",
       "      <td>11.0</td>\n",
       "      <td>This paper deals with the problem of simultane...</td>\n",
       "      <td>https://scholar.google.com/scholar?output=inst...</td>\n",
       "      <td>https://scholar.google.com/scholar?q=related:x...</td>\n",
       "    </tr>\n",
       "    <tr>\n",
       "      <th>4</th>\n",
       "      <td>165</td>\n",
       "      <td>F Aubert, G Grudnitski</td>\n",
       "      <td>The impact and importance of mandatory adoptio...</td>\n",
       "      <td>2011</td>\n",
       "      <td>… Financial Management &amp;Accounting</td>\n",
       "      <td>Wiley Online Library</td>\n",
       "      <td>https://onlinelibrary.wiley.com/doi/abs/10.111...</td>\n",
       "      <td>https://scholar.google.com/scholar?cites=10244...</td>\n",
       "      <td>4.0</td>\n",
       "      <td>2024-03-19 20:40:42</td>\n",
       "      <td>...</td>\n",
       "      <td>NaN</td>\n",
       "      <td>NaN</td>\n",
       "      <td>165.0</td>\n",
       "      <td>12.69</td>\n",
       "      <td>83.0</td>\n",
       "      <td>2.0</td>\n",
       "      <td>13.0</td>\n",
       "      <td>… significant relationship between accounting ...</td>\n",
       "      <td>https://onlinelibrary.wiley.com/doi/pdf/10.111...</td>\n",
       "      <td>https://scholar.google.com/scholar?q=related:N...</td>\n",
       "    </tr>\n",
       "    <tr>\n",
       "      <th>...</th>\n",
       "      <td>...</td>\n",
       "      <td>...</td>\n",
       "      <td>...</td>\n",
       "      <td>...</td>\n",
       "      <td>...</td>\n",
       "      <td>...</td>\n",
       "      <td>...</td>\n",
       "      <td>...</td>\n",
       "      <td>...</td>\n",
       "      <td>...</td>\n",
       "      <td>...</td>\n",
       "      <td>...</td>\n",
       "      <td>...</td>\n",
       "      <td>...</td>\n",
       "      <td>...</td>\n",
       "      <td>...</td>\n",
       "      <td>...</td>\n",
       "      <td>...</td>\n",
       "      <td>...</td>\n",
       "      <td>...</td>\n",
       "      <td>...</td>\n",
       "    </tr>\n",
       "    <tr>\n",
       "      <th>979</th>\n",
       "      <td>0</td>\n",
       "      <td>C Zumbo-lebrument, N Lebrument, ...</td>\n",
       "      <td>Quels sont les déterminants de l'acceptation d...</td>\n",
       "      <td>2021</td>\n",
       "      <td>Systèmes d'Information et …</td>\n",
       "      <td>revuesim.org</td>\n",
       "      <td>http://revuesim.org/index.php/sim/article/view...</td>\n",
       "      <td>NaN</td>\n",
       "      <td>66.0</td>\n",
       "      <td>2024-03-20 07:59:28</td>\n",
       "      <td>...</td>\n",
       "      <td>NaN</td>\n",
       "      <td>NaN</td>\n",
       "      <td>0.0</td>\n",
       "      <td>0.00</td>\n",
       "      <td>0.0</td>\n",
       "      <td>3.0</td>\n",
       "      <td>3.0</td>\n",
       "      <td>In recent years, the smart mobility inherent i...</td>\n",
       "      <td>http://revuesim.org/index.php/sim/article/view...</td>\n",
       "      <td>https://scholar.google.com/scholar?q=related:-...</td>\n",
       "    </tr>\n",
       "    <tr>\n",
       "      <th>980</th>\n",
       "      <td>0</td>\n",
       "      <td>RM Borges</td>\n",
       "      <td>Les brevets sur les inventions biotechnologiqu...</td>\n",
       "      <td>2013</td>\n",
       "      <td>The Innovation Journal</td>\n",
       "      <td>innovation.cc</td>\n",
       "      <td>https://innovation.cc/wp-content/uploads/2013_...</td>\n",
       "      <td>NaN</td>\n",
       "      <td>2.0</td>\n",
       "      <td>2024-03-19 20:41:41</td>\n",
       "      <td>...</td>\n",
       "      <td>NaN</td>\n",
       "      <td>NaN</td>\n",
       "      <td>0.0</td>\n",
       "      <td>0.00</td>\n",
       "      <td>0.0</td>\n",
       "      <td>1.0</td>\n",
       "      <td>11.0</td>\n",
       "      <td>Les demandes de brevet portant sur des végétau...</td>\n",
       "      <td>https://innovation.cc/wp-content/uploads/2013_...</td>\n",
       "      <td>https://scholar.google.com/scholar?q=related:E...</td>\n",
       "    </tr>\n",
       "    <tr>\n",
       "      <th>981</th>\n",
       "      <td>0</td>\n",
       "      <td>F Cassiere, G Paché</td>\n",
       "      <td>Internationalization of large retailers and cr...</td>\n",
       "      <td>2010</td>\n",
       "      <td>Timisoara Journal of Economics</td>\n",
       "      <td>ideas.repec.org</td>\n",
       "      <td>https://ideas.repec.org/a/wun/journl/tjev03y20...</td>\n",
       "      <td>NaN</td>\n",
       "      <td>9.0</td>\n",
       "      <td>2024-03-19 20:41:57</td>\n",
       "      <td>...</td>\n",
       "      <td>NaN</td>\n",
       "      <td>NaN</td>\n",
       "      <td>0.0</td>\n",
       "      <td>0.00</td>\n",
       "      <td>0.0</td>\n",
       "      <td>2.0</td>\n",
       "      <td>14.0</td>\n",
       "      <td>This article discusses the large retailers' in...</td>\n",
       "      <td>NaN</td>\n",
       "      <td>https://scholar.google.com/scholar?q=related:F...</td>\n",
       "    </tr>\n",
       "    <tr>\n",
       "      <th>983</th>\n",
       "      <td>0</td>\n",
       "      <td>JF Hoarau, M Goujon, F Rivière</td>\n",
       "      <td>Compared economic and environnemental vulnerab...</td>\n",
       "      <td>2014</td>\n",
       "      <td>Tourism specialization and …</td>\n",
       "      <td>inria.hal.science</td>\n",
       "      <td>https://inria.hal.science/hal-01483903/</td>\n",
       "      <td>NaN</td>\n",
       "      <td>69.0</td>\n",
       "      <td>2024-03-19 20:52:37</td>\n",
       "      <td>...</td>\n",
       "      <td>NaN</td>\n",
       "      <td>NaN</td>\n",
       "      <td>0.0</td>\n",
       "      <td>0.00</td>\n",
       "      <td>0.0</td>\n",
       "      <td>3.0</td>\n",
       "      <td>10.0</td>\n",
       "      <td>Compared economic and environnemental vulnerab...</td>\n",
       "      <td>NaN</td>\n",
       "      <td>https://scholar.google.com/scholar?q=related:m...</td>\n",
       "    </tr>\n",
       "    <tr>\n",
       "      <th>984</th>\n",
       "      <td>0</td>\n",
       "      <td>D Talbot</td>\n",
       "      <td>Une compréhension institutionnaliste de la pro...</td>\n",
       "      <td>2005</td>\n",
       "      <td>Une compréhension institutionnaliste de la pro...</td>\n",
       "      <td>shs.hal.science</td>\n",
       "      <td>https://shs.hal.science/hal-00153238/</td>\n",
       "      <td>NaN</td>\n",
       "      <td>135.0</td>\n",
       "      <td>2024-03-20 08:00:14</td>\n",
       "      <td>...</td>\n",
       "      <td>NaN</td>\n",
       "      <td>NaN</td>\n",
       "      <td>0.0</td>\n",
       "      <td>0.00</td>\n",
       "      <td>0.0</td>\n",
       "      <td>1.0</td>\n",
       "      <td>19.0</td>\n",
       "      <td>Une compréhension institutionnaliste de la pro...</td>\n",
       "      <td>NaN</td>\n",
       "      <td>https://scholar.google.com/scholar?q=related:k...</td>\n",
       "    </tr>\n",
       "  </tbody>\n",
       "</table>\n",
       "<p>913 rows × 26 columns</p>\n",
       "</div>"
      ],
      "text/plain": [
       "     Cites                              Authors  \\\n",
       "0      677                   A Aouadi, S Marsat   \n",
       "1      193                             D Talbot   \n",
       "2      177                M Arouri, G Pijourlet   \n",
       "3      166      P Lacomme, M Larabi, N Tchernev   \n",
       "4      165               F Aubert, G Grudnitski   \n",
       "..     ...                                  ...   \n",
       "979      0  C Zumbo-lebrument, N Lebrument, ...   \n",
       "980      0                            RM Borges   \n",
       "981      0                  F Cassiere, G Paché   \n",
       "983      0       JF Hoarau, M Goujon, F Rivière   \n",
       "984      0                             D Talbot   \n",
       "\n",
       "                                                 Title  Year  \\\n",
       "0    Do ESG controversies matter for firm value? Ev...  2018   \n",
       "1    Les institutions créatrices de proximités: Ins...  2008   \n",
       "2    CSR performance and the value of cash holdings...  2017   \n",
       "3    Job-shop based framework for simultaneous sche...  2013   \n",
       "4    The impact and importance of mandatory adoptio...  2011   \n",
       "..                                                 ...   ...   \n",
       "979  Quels sont les déterminants de l'acceptation d...  2021   \n",
       "980  Les brevets sur les inventions biotechnologiqu...  2013   \n",
       "981  Internationalization of large retailers and cr...  2010   \n",
       "983  Compared economic and environnemental vulnerab...  2014   \n",
       "984  Une compréhension institutionnaliste de la pro...  2005   \n",
       "\n",
       "                                                Source             Publisher  \\\n",
       "0                           Journal of business ethics              Springer   \n",
       "1                  Revue d'économie régionale &urbaine            cairn.info   \n",
       "2                           Journal of Business Ethics              Springer   \n",
       "3                International Journal of Production …              Elsevier   \n",
       "4                   … Financial Management &Accounting  Wiley Online Library   \n",
       "..                                                 ...                   ...   \n",
       "979                        Systèmes d'Information et …          revuesim.org   \n",
       "980                             The Innovation Journal         innovation.cc   \n",
       "981                     Timisoara Journal of Economics       ideas.repec.org   \n",
       "983                       Tourism specialization and …     inria.hal.science   \n",
       "984  Une compréhension institutionnaliste de la pro...       shs.hal.science   \n",
       "\n",
       "                                            ArticleURL  \\\n",
       "0    https://link.springer.com/article/10.1007/s105...   \n",
       "1    https://www.cairn.info/revue-d-economie-region...   \n",
       "2    https://link.springer.com/article/10.1007/s105...   \n",
       "3    https://www.sciencedirect.com/science/article/...   \n",
       "4    https://onlinelibrary.wiley.com/doi/abs/10.111...   \n",
       "..                                                 ...   \n",
       "979  http://revuesim.org/index.php/sim/article/view...   \n",
       "980  https://innovation.cc/wp-content/uploads/2013_...   \n",
       "981  https://ideas.repec.org/a/wun/journl/tjev03y20...   \n",
       "983            https://inria.hal.science/hal-01483903/   \n",
       "984              https://shs.hal.science/hal-00153238/   \n",
       "\n",
       "                                              CitesURL  GSRank  \\\n",
       "0    https://scholar.google.com/scholar?cites=74317...     6.0   \n",
       "1    https://scholar.google.com/scholar?cites=31866...    10.0   \n",
       "2    https://scholar.google.com/scholar?cites=17119...     1.0   \n",
       "3    https://scholar.google.com/scholar?cites=13514...     1.0   \n",
       "4    https://scholar.google.com/scholar?cites=10244...     4.0   \n",
       "..                                                 ...     ...   \n",
       "979                                                NaN    66.0   \n",
       "980                                                NaN     2.0   \n",
       "981                                                NaN     9.0   \n",
       "983                                                NaN    69.0   \n",
       "984                                                NaN   135.0   \n",
       "\n",
       "              QueryDate  ... StartPage EndPage    ECC  CitesPerYear  \\\n",
       "0   2024-03-19 21:03:25  ...       NaN     NaN  677.0        112.83   \n",
       "1   2024-03-20 08:00:14  ...       NaN     NaN  193.0         12.06   \n",
       "2   2024-03-19 20:53:14  ...       NaN     NaN  177.0         25.29   \n",
       "3   2024-03-20 08:02:20  ...       NaN     NaN  166.0         15.09   \n",
       "4   2024-03-19 20:40:42  ...       NaN     NaN  165.0         12.69   \n",
       "..                  ...  ...       ...     ...    ...           ...   \n",
       "979 2024-03-20 07:59:28  ...       NaN     NaN    0.0          0.00   \n",
       "980 2024-03-19 20:41:41  ...       NaN     NaN    0.0          0.00   \n",
       "981 2024-03-19 20:41:57  ...       NaN     NaN    0.0          0.00   \n",
       "983 2024-03-19 20:52:37  ...       NaN     NaN    0.0          0.00   \n",
       "984 2024-03-20 08:00:14  ...       NaN     NaN    0.0          0.00   \n",
       "\n",
       "     CitesPerAuthor  AuthorCount   Age  \\\n",
       "0             339.0          2.0   6.0   \n",
       "1             193.0          1.0  16.0   \n",
       "2              89.0          2.0   7.0   \n",
       "3              55.0          3.0  11.0   \n",
       "4              83.0          2.0  13.0   \n",
       "..              ...          ...   ...   \n",
       "979             0.0          3.0   3.0   \n",
       "980             0.0          1.0  11.0   \n",
       "981             0.0          2.0  14.0   \n",
       "983             0.0          3.0  10.0   \n",
       "984             0.0          1.0  19.0   \n",
       "\n",
       "                                              Abstract  \\\n",
       "0    The aim of this paper is to investigate the re...   \n",
       "1    En mobilisant les apports des institutionnalis...   \n",
       "2    Using a worldwide sample, we examine whether c...   \n",
       "3    This paper deals with the problem of simultane...   \n",
       "4    … significant relationship between accounting ...   \n",
       "..                                                 ...   \n",
       "979  In recent years, the smart mobility inherent i...   \n",
       "980  Les demandes de brevet portant sur des végétau...   \n",
       "981  This article discusses the large retailers' in...   \n",
       "983  Compared economic and environnemental vulnerab...   \n",
       "984  Une compréhension institutionnaliste de la pro...   \n",
       "\n",
       "                                           FullTextURL  \\\n",
       "0    https://www.jstor.org/stable/pdf/45022714.pdf?...   \n",
       "1    https://www.cairn.info/revue-d-economie-region...   \n",
       "2    https://www.jstor.org/stable/pdf/44164262.pdf?...   \n",
       "3    https://scholar.google.com/scholar?output=inst...   \n",
       "4    https://onlinelibrary.wiley.com/doi/pdf/10.111...   \n",
       "..                                                 ...   \n",
       "979  http://revuesim.org/index.php/sim/article/view...   \n",
       "980  https://innovation.cc/wp-content/uploads/2013_...   \n",
       "981                                                NaN   \n",
       "983                                                NaN   \n",
       "984                                                NaN   \n",
       "\n",
       "                                            RelatedURL  \n",
       "0    https://scholar.google.com/scholar?q=related:V...  \n",
       "1    https://scholar.google.com/scholar?q=related:2...  \n",
       "2    https://scholar.google.com/scholar?q=related:8...  \n",
       "3    https://scholar.google.com/scholar?q=related:x...  \n",
       "4    https://scholar.google.com/scholar?q=related:N...  \n",
       "..                                                 ...  \n",
       "979  https://scholar.google.com/scholar?q=related:-...  \n",
       "980  https://scholar.google.com/scholar?q=related:E...  \n",
       "981  https://scholar.google.com/scholar?q=related:F...  \n",
       "983  https://scholar.google.com/scholar?q=related:m...  \n",
       "984  https://scholar.google.com/scholar?q=related:k...  \n",
       "\n",
       "[913 rows x 26 columns]"
      ]
     },
     "execution_count": 2,
     "metadata": {},
     "output_type": "execute_result"
    }
   ],
   "source": [
    "# Texte complet contenant tous les articles (data\\Articles CleRMa.xlsx)\n",
    "df = pd.read_excel(\"data/Articles CleRMa.xlsx\")\n",
    "\n",
    "# Les year qui n'existent pas sont des NaN, on les drop\n",
    "df = df.dropna(subset=['Year'])\n",
    "\n",
    "# Les year sont des float, on les convertit en int\n",
    "df['Year'] = df['Year'].astype(int)\n",
    "df"
   ]
  },
  {
   "cell_type": "code",
   "execution_count": 3,
   "metadata": {},
   "outputs": [
    {
     "data": {
      "text/html": [
       "<div>\n",
       "<style scoped>\n",
       "    .dataframe tbody tr th:only-of-type {\n",
       "        vertical-align: middle;\n",
       "    }\n",
       "\n",
       "    .dataframe tbody tr th {\n",
       "        vertical-align: top;\n",
       "    }\n",
       "\n",
       "    .dataframe thead th {\n",
       "        text-align: right;\n",
       "    }\n",
       "</style>\n",
       "<table border=\"1\" class=\"dataframe\">\n",
       "  <thead>\n",
       "    <tr style=\"text-align: right;\">\n",
       "      <th></th>\n",
       "      <th>Date</th>\n",
       "      <th>Sentence</th>\n",
       "    </tr>\n",
       "  </thead>\n",
       "  <tbody>\n",
       "    <tr>\n",
       "      <th>0</th>\n",
       "      <td>2018</td>\n",
       "      <td>do esg controversies matter for firm value? ev...</td>\n",
       "    </tr>\n",
       "    <tr>\n",
       "      <th>1</th>\n",
       "      <td>2008</td>\n",
       "      <td>les institutions créatrices de proximités: ins...</td>\n",
       "    </tr>\n",
       "    <tr>\n",
       "      <th>2</th>\n",
       "      <td>2017</td>\n",
       "      <td>csr performance and the value of cash holdings...</td>\n",
       "    </tr>\n",
       "    <tr>\n",
       "      <th>3</th>\n",
       "      <td>2013</td>\n",
       "      <td>job-shop based framework for simultaneous sche...</td>\n",
       "    </tr>\n",
       "    <tr>\n",
       "      <th>4</th>\n",
       "      <td>2011</td>\n",
       "      <td>the impact and importance of mandatory adoptio...</td>\n",
       "    </tr>\n",
       "    <tr>\n",
       "      <th>...</th>\n",
       "      <td>...</td>\n",
       "      <td>...</td>\n",
       "    </tr>\n",
       "    <tr>\n",
       "      <th>907</th>\n",
       "      <td>2021</td>\n",
       "      <td>quels sont les déterminants de l'acceptation d...</td>\n",
       "    </tr>\n",
       "    <tr>\n",
       "      <th>909</th>\n",
       "      <td>2013</td>\n",
       "      <td>les brevets sur les inventions biotechnologiqu...</td>\n",
       "    </tr>\n",
       "    <tr>\n",
       "      <th>910</th>\n",
       "      <td>2010</td>\n",
       "      <td>internationalization of large retailers and cr...</td>\n",
       "    </tr>\n",
       "    <tr>\n",
       "      <th>911</th>\n",
       "      <td>2014</td>\n",
       "      <td>compared economic and environnemental vulnerab...</td>\n",
       "    </tr>\n",
       "    <tr>\n",
       "      <th>912</th>\n",
       "      <td>2005</td>\n",
       "      <td>une compréhension institutionnaliste de la pro...</td>\n",
       "    </tr>\n",
       "  </tbody>\n",
       "</table>\n",
       "<p>874 rows × 2 columns</p>\n",
       "</div>"
      ],
      "text/plain": [
       "     Date                                           Sentence\n",
       "0    2018  do esg controversies matter for firm value? ev...\n",
       "1    2008  les institutions créatrices de proximités: ins...\n",
       "2    2017  csr performance and the value of cash holdings...\n",
       "3    2013  job-shop based framework for simultaneous sche...\n",
       "4    2011  the impact and importance of mandatory adoptio...\n",
       "..    ...                                                ...\n",
       "907  2021  quels sont les déterminants de l'acceptation d...\n",
       "909  2013  les brevets sur les inventions biotechnologiqu...\n",
       "910  2010  internationalization of large retailers and cr...\n",
       "911  2014  compared economic and environnemental vulnerab...\n",
       "912  2005  une compréhension institutionnaliste de la pro...\n",
       "\n",
       "[874 rows x 2 columns]"
      ]
     },
     "execution_count": 3,
     "metadata": {},
     "output_type": "execute_result"
    }
   ],
   "source": [
    "# Initialize an empty list to store the rows\n",
    "data = []\n",
    "\n",
    "for index, row in df.iterrows():\n",
    "    date = row[\"Year\"]\n",
    "    sentences = row[\"Title\"]\n",
    "    \n",
    "    # Tokenize the content into sentences\n",
    "    #sentences = sent_tokenize(sentences)\n",
    "\n",
    "    # Enlever les caractères spéciaux, les espaces en trop et mettre en minuscule\n",
    "    #sentences = [re.sub(r\"[^a-zA-Z0-9\\s]\", \"\", sentence) for sentence in sentences]\n",
    "    #sentences = [\" \".join(sentence.split()) for sentence in sentences]\n",
    "    sentences = sentences.lower()\n",
    "    \n",
    "    # Enlever les phrases qui ont moins de 16 mots\n",
    "    #sentences = [sentence for sentence in sentences if len(word_tokenize(sentence)) > 16]\n",
    "\n",
    "    # Enlever les phrases en langue étrangère\n",
    "    #sentences = [sentence for sentence in sentences if nlp(sentence)._.language[\"language\"] == \"fr\"]\n",
    "\n",
    "    # Enlever les phrases qui ont plus de 10 caractères spéciaux\n",
    "    #sentences = [sentence for sentence in sentences if len(re.findall(r\"[^a-zA-Z0-9\\s]\", sentence)) < 10]\n",
    "\n",
    "    # Enlever les phrases contenant \"operator\"\n",
    "    #sentences = [sentence for sentence in sentences if \"operator\" not in sentence.lower()]\n",
    "\n",
    "    # Enlever les \" --\" à l'intérieur des phrases\n",
    "    #sentences = [sentence.replace(\" --\", \"\") for sentence in sentences]\n",
    "\n",
    "    # Enlever les phrases en double\n",
    "    #sentences = list(set(sentences))\n",
    "    \n",
    "    # Append each sentence with its date to the list\n",
    "    data.extend([[date, sentences]])\n",
    "\n",
    "# Create a new DataFrame from the accumulated data\n",
    "df_dates_sentences = pd.DataFrame(data, columns=[\"Date\", \"Sentence\"])\n",
    "\n",
    "# Supprimer les phrases en double\n",
    "df_dates_sentences = df_dates_sentences.drop_duplicates(subset=[\"Sentence\"])\n",
    "\n",
    "df_dates_sentences"
   ]
  },
  {
   "cell_type": "code",
   "execution_count": 4,
   "metadata": {},
   "outputs": [
    {
     "name": "stdout",
     "output_type": "stream",
     "text": [
      "Moyenne: 12.654462242562929\n",
      "Ecart-type: 5.317378152875759\n",
      "\n",
      "Number of dates: 874\n",
      "Number of sentences: 874\n"
     ]
    }
   ],
   "source": [
    "# Print le nombre de mots par phrase en moyenne avec l'écart-type\n",
    "print(f\"Moyenne: {df_dates_sentences['Sentence'].str.split().str.len().mean()}\")\n",
    "print(f\"Ecart-type: {df_dates_sentences['Sentence'].str.split().str.len().std()}\")\n",
    "\n",
    "dates = df_dates_sentences[\"Date\"].tolist()\n",
    "sentences = df_dates_sentences[\"Sentence\"].tolist()\n",
    "\n",
    "# Print the length of the dates and sentences\n",
    "print(f\"\\nNumber of dates: {len(dates)}\")\n",
    "print(f\"Number of sentences: {len(sentences)}\")"
   ]
  },
  {
   "cell_type": "code",
   "execution_count": 5,
   "metadata": {},
   "outputs": [
    {
     "data": {
      "application/vnd.jupyter.widget-view+json": {
       "model_id": "72be7965cac24d338c6a72f338166781",
       "version_major": 2,
       "version_minor": 0
      },
      "text/plain": [
       "Batches:   0%|          | 0/28 [00:00<?, ?it/s]"
      ]
     },
     "metadata": {},
     "output_type": "display_data"
    }
   ],
   "source": [
    "# Pre-calculate embeddings\n",
    "embedding_model = SentenceTransformer(\"all-MiniLM-L6-v2\")\n",
    "embeddings = embedding_model.encode(sentences, show_progress_bar=True)"
   ]
  },
  {
   "cell_type": "code",
   "execution_count": 6,
   "metadata": {},
   "outputs": [
    {
     "data": {
      "text/plain": [
       "'\\nhdbscan_model = HDBSCAN(min_cluster_size=40, metric=\\'euclidean\\', cluster_selection_method=\\'eom\\', prediction_data=True)\\nvectorizer_model = CountVectorizer(stop_words=\"french\", min_df=2, ngram_range=(1, 2))\\nctfidf_model = ClassTfidfTransformer(reduce_frequent_words=False, bm25_weighting=False)\\n'"
      ]
     },
     "execution_count": 6,
     "metadata": {},
     "output_type": "execute_result"
    }
   ],
   "source": [
    "umap_model = UMAP(n_neighbors=15, n_components=5, min_dist=0.0, metric='cosine', random_state=42)\n",
    "\"\"\"\n",
    "hdbscan_model = HDBSCAN(min_cluster_size=40, metric='euclidean', cluster_selection_method='eom', prediction_data=True)\n",
    "vectorizer_model = CountVectorizer(stop_words=\"french\", min_df=2, ngram_range=(1, 2))\n",
    "ctfidf_model = ClassTfidfTransformer(reduce_frequent_words=False, bm25_weighting=False)\n",
    "\"\"\""
   ]
  },
  {
   "cell_type": "code",
   "execution_count": 7,
   "metadata": {},
   "outputs": [],
   "source": [
    "# KeyBERT\n",
    "keybert_model = KeyBERTInspired()\n",
    "\n",
    "# Part-of-Speech\n",
    "pos_model = PartOfSpeech(\"en_core_web_sm\")\n",
    "\n",
    "# MMR\n",
    "mmr_model = MaximalMarginalRelevance(diversity=0.3)\n",
    "\n",
    "# GPT-3.5 Turbo\n",
    "prompt = \"\"\"\n",
    "I have a topic that contains the following documents:\n",
    "[DOCUMENTS]\n",
    "The topic is described by the following keywords: [KEYWORDS]\n",
    "\n",
    "En se basant sur les information ci-dessus, extrais un titre très descriptif du topic en français de maximum 7 mots. C'est un topic qui doit représenter le sujet des recherche mener dans un laboratoire en sciences de gestion. Make sure it is in the following format:\n",
    "topic: <topic label>\n",
    "\"\"\"\n",
    "\n",
    "client = openai.OpenAI(api_key=openai_api_key)\n",
    "openai_model = OpenAI(client,\n",
    "                       model=\"gpt-4\",\n",
    "                       exponential_backoff=True, \n",
    "                       chat=True, \n",
    "                       nr_docs=5,\n",
    "                       prompt=prompt)\n",
    "\n",
    "# Création du modèle de topic modeling\n",
    "representation_model = {\n",
    "    \"KeyBERT\": keybert_model,\n",
    "    \"OpenAI\": openai_model,\n",
    "    \"MMR\": mmr_model,\n",
    "    \"POS\": pos_model\n",
    "}"
   ]
  },
  {
   "cell_type": "code",
   "execution_count": 8,
   "metadata": {},
   "outputs": [
    {
     "name": "stderr",
     "output_type": "stream",
     "text": [
      "2024-03-26 13:09:43,925 - BERTopic - Dimensionality - Fitting the dimensionality reduction algorithm\n",
      "2024-03-26 13:09:50,115 - BERTopic - Dimensionality - Completed ✓\n",
      "2024-03-26 13:09:50,117 - BERTopic - Cluster - Start clustering the reduced embeddings\n",
      "2024-03-26 13:09:50,142 - BERTopic - Cluster - Completed ✓\n",
      "2024-03-26 13:09:50,145 - BERTopic - Representation - Extracting topics from clusters using representation models.\n",
      "100%|██████████| 22/22 [00:34<00:00,  1.56s/it]\n",
      "2024-03-26 13:10:28,512 - BERTopic - Representation - Completed ✓\n"
     ]
    }
   ],
   "source": [
    "topic_model = BERTopic(\n",
    "\n",
    "  # Pipeline models\n",
    "  embedding_model=embedding_model,\n",
    "  umap_model=umap_model,\n",
    "  #hdbscan_model=hdbscan_model,\n",
    "  #vectorizer_model=vectorizer_model,\n",
    "  representation_model=representation_model,\n",
    "  #ctfidf_model=ctfidf_model,\n",
    "\n",
    "  # Hyperparameters\n",
    "  #language=\"french\",\n",
    "  #top_n_words=10,\n",
    "  #min_topic_size=70,\n",
    "  verbose=True\n",
    ")\n",
    "\n",
    "topics, probs = topic_model.fit_transform(sentences, embeddings)"
   ]
  },
  {
   "cell_type": "code",
   "execution_count": 9,
   "metadata": {},
   "outputs": [],
   "source": [
    "gpt_topic_labels = {topic: \" | \".join(list(zip(*values))[0]) for topic, values in topic_model.topic_aspects_[\"OpenAI\"].items()}\n",
    "gpt_topic_labels[-1] = \"Outlier Topic\"\n",
    "topic_model.set_topic_labels(gpt_topic_labels)"
   ]
  },
  {
   "cell_type": "code",
   "execution_count": 10,
   "metadata": {},
   "outputs": [],
   "source": [
    "# Reduce dimensionality of embeddings, this step is optional but much faster to perform iteratively:\n",
    "reduced_embeddings = UMAP(metric='cosine', random_state=42).fit_transform(embeddings)"
   ]
  },
  {
   "cell_type": "code",
   "execution_count": 11,
   "metadata": {},
   "outputs": [
    {
     "data": {
      "application/vnd.plotly.v1+json": {
       "config": {
        "plotlyServerURL": "https://plot.ly"
       },
       "data": [
        {
         "hoverinfo": "text",
         "hovertext": [
          "environnement et processus d'adaptation des chaînes logistiques",
          "acceptance of maas mobile applications: an application of utaut2 in the context of french smart cities [l'acceptation des applications mobiles de maas: une …",
          "conception et évaluation d'outils décisionnels pour des systèmes réactifs d'aide à la mobilité",
          "eive-economic impacts of volcanic eruptions",
          "the impact of recommendation agents' type of voice on perceived social presence, trust and users intentions on an insurance website",
          "internal violence index: a composite and quantitative measure of internal violence and crime in developing countries",
          "internet watch",
          "série études et documents",
          "exploring individual workplace values in a french departmental fire and rescue service",
          "crowdfunding in france: a new revolution?",
          "intérêts et limites d'une approche cartographique et géographique pour le management des parcours de soins en santé: l'exemple de l'auvergne",
          "resilience of organisations and territories: the role of pivot firms",
          "les vertus de l'interdisciplinarité",
          "les ingénieurs d'etat: une profession «établie»? le cas français du corps des ingénieurs des eaux, des ponts et des forêts",
          "enjeux et principaux facteurs de reussite de l'expatriation dans un contexte de mondialisation",
          "les effets des proximités sur la relation entre le degré de décentralisation et la performance: l'exemple d'une université française",
          "de la détermination de son activité à la détermination de sa protection sociale. une première évaluation de la politique publique concernant la protection …",
          "essais sur les politiques de capitalisation, d'investissement et de gestion des risques des sociétés d'assurance non-vie",
          "super-resolution in clinical conditions: deep brain stimulation case study",
          "the sustainable value proposition of psss: the case of ecobel “shower head”",
          "analysis of the internet impact on the real estate industry",
          "le phénomène corporatiste au prisme de l'analyse des professions. le cas des ingénieurs des ponts, des eaux et des forêts: une profession résiliente?",
          "emergency management in organisations? the answers provided by napoleon bonaparte",
          "optimal investment and capital management decisions for a non-life insurance company",
          "qualification juridique des données numériques",
          "the different impacts of different types of natural resources on political institutions in developing countries",
          "proximités: retour sur 25 années d'analyse",
          "la fabrique locale de la santé: approche à partir du design participatif d'une communauté de communes autour de l'activité physique et la sédentarité",
          "does the market value social pillar?",
          "bien-être et santé: pour une autre lecture des territoires durables: introduction du cahier «santé, bien-être, socle d'un renouveau pratiques et relations au …",
          "proximities, a framework for analyzing the control environment at the university",
          "internationalization of large retailers and cross-cultural determinants–the singular trajectory of carrefour in romania",
          "on the impact of firm size on risk and return: fresh evidence from the american stock market over the recent years",
          "263 journals list",
          "object oriented methodology for urban traffic modelling and simulation",
          "le défi des pme sénégalaises: concilier tradition et modernité. le cas de l'entreprise guirassy.",
          "real estate services structure evolution with internet and swot analysis",
          "cas 5-edf comment le groupe edf intègre plus de durabilité dans l'achat des vêtements de travail de ses agents?",
          "evaluation: the cornerstone of public learning organisations",
          "documents de travail e3i",
          "is physical fitness associated with the type of attended school? a cross-sectional analysis among 20.000 adolescents.",
          "les brevets sur les inventions biotechnologiques végétales: un moyen d'appropriation des ressources phytogénétiques?",
          "les déterminants de la satisfaction à l'égard de la couverture maladie pour les expatriés",
          "managerial innovation in public hospitals: a nursing empowerment perspective",
          "groupe, technologie et territoire: le cas des activités spatiales à toulouse",
          "smart city et applications de m-santé: test d'un modèle étendu des déterminants de l'acceptation de la technologie par les habitants",
          "le bricolage en gestion des ressources humaines et ses évolutions: l'exemple de la gestion de l'absentéisme de courte durée à l'hôpital face à la covid-19",
          "volatility spillovers between oil prices and stock returns: a focus on frontier markets",
          "«les stratégies de marquages collectifs: un outil au service de l'implication des acteurs et de la valorisation des produits sur un territoire. le cas de la « …",
          "parall elisme et applications irr eguli eres, chapter 7: parlist: une structure de donn ee parall ele pour l'equilibrage des charges",
          "interactions between risk-taking, capital, and reinsurance for property-liability insurance firms",
          "le placement de produits: une innovation de la directive «services de médias audiovisuels»",
          "fragility of small island developing states",
          "corporatism analyzed by profession. the case of civil engineering (road construction, water and forestry) in france: a …",
          "sukuk as an alternative financing source for infrastructure and agriculture investments in turkey and model suggestions for implementation of sukuk …",
          "information, reputation and imitative choice. a simple bayesian model",
          "reassessing tax effort in developing countries: a proposal of a vulnerability-adjusted tax effort index (vatei)",
          "floodlight or spotlight? public attention and the selective disclosure of environmental information",
          "age management and intergenerational equity",
          "internationalization of the retailer on emerging markets between strategic choices and cultural choices, the romanian example",
          "la fonction de la séquence génétique dans les brevets biotechnologiques au sens de la directive 98/44",
          "clustérisation et délocalisation: les proximités construites par thales avionics",
          "tool for the evaluation of innovative therapies",
          "veille internet",
          "has structural economic vulnerability decreased in least developed countries? lessons drawn from retrospective indices",
          "quel sort pour les produits issus de procédés essentiellement biologiques d'obtention de végétaux?",
          "de la possibilité d'accroître l'éthique de l'auditeur: le cas d'une formation",
          "a database of the economic impacts of historical volcanic eruptions",
          "the effects of space on the interdependence of management control practices at the university: what avenues for research on temporality?",
          "recherche, industrie et services: structures et mutations",
          "\" la technologie crispr-cas9: enjeux juridiques\", le dossier: quelles limites pour les technosciences en santé?, actes du colloque de clermont-ferrand du 13 …",
          "tourist islands at the mercy of climate change: an assessment using a synthetic index of physical vulnerability",
          "removed: cerebral atrophy is linked to clinical severity and worsens with aging in patients with pelizaeus–merzbacher disease and spastic paraplegia type 2",
          "importance des stratégies logistiques dans l'efficience de la gestion des déchets industriels banaux: exemple d'une zone industrielle",
          "toward a functional connectome of the brain: a medical perspective",
          "exploring the role of language in shaping corporate environmental practices",
          "conscious behaviors following bilateral pallido-thalamic low frequency stimulation in patients with continuing disorders of consciousness.",
          "le défi des pme sénégalaises: concilier tradition et modernité. le cas de l'entreprise guirassy",
          "réussir dans les peco en introduisant l'orientation marché: une réflexion à partir du cas roumain",
          "extreme heat and stock market activity",
          "détection de défauts d'un processus industriel basée sur l'analyse en composantes principales des données",
          "la prise en charge du risque dépendance, un exemple de transfert de la société civile vers l'entreprise.",
          "le phénomène corporatiste à l'épreuve des réseaux d'action publique: le cas français du corps des ingénieurs des ponts, des eaux et des forêts",
          "calcul de la tangente d'une courbe discr ete en temps optimal: application a la courbure",
          "l'influence des caractéristiques anthropomorphiques des agents virtuels sur les réactions des internautes: le cas de la voix",
          "computational aspects of tomographic and neuroscientific problems: preface",
          "optimal economic capital and investment: decisions for a non-life insurance company",
          "the role of norms in the evolution of a relationship: the case of an asymmetrical process in the banking industry",
          "la proximité comme perception de la distance: le cas de la télémédecine",
          "real exchange rate and competitiveness of an eu's ultra-peripheral region: la reunion island",
          "human assets index: insights from a retrospective series analysis",
          "à la recherche d'un équilibre dans la gestion des tensions: comparaison de deux associations d'insertion sociale",
          "le sentiment de fin de vie professionnelle: une spécificité française?",
          "automated position control in conformal radiotherapy",
          "public manager at the heart of contradictory logics. the case of shared services centers",
          "isolement géographique et état de santé maternel et néonatal dans un réseau de santé en périnatalité: étude en population générale contexte",
          "le rôle des normes dans l'évolution d'une relation",
          "politiques de ressources humaines et sentiment de fin de vie professionnelle: une approche comparative secteur privé/secteur public",
          "etude des stéréotypes en sciences de gestion: applications épistémologiques",
          "the competitive advantage as a result of an organizational chart based on market orientation",
          "enjeux managériaux et mixité statutaire dans les réseaux de franchise",
          "a multi-criteria approach to collaborative product-service systems design",
          "influence du prix sur le choix des marques discount: quels effets de la situation macro-économique?",
          "a system modelling approach to collaborative pss design",
          "vendre à l'international: des compétences en réseau au service des pme",
          "war and cryptocurrency markets: an empirical investigation",
          "health management of patients with covid-19: is there a room for hydrotherapeutic approaches?",
          "mieux comprendre les démarches de marquages collectifs initiées par les acteurs d'un territoire: le cas de la «clémentine de corse",
          "how logistics service quality and product quality matter in the retailer–customer relationship of food drive-throughs: the role of perceived convenience",
          "time‐course of myelination and atrophy on cerebral imaging in 35 patients with plp1‐related disorders",
          "réinventer l'agence bancaire de demain: mise en œuvre d'un processus d'innovation collaborative",
          "l'animal de compagnie, encore un sujet de niche pour l'entreprise?",
          "the auditor facing ethical dilemnas: the impact of an ethical training on the compliance with deontological code [l'auditeur face aux dilemmes éthiques: l' …",
          "inequalities and vulnerabilities in new-caledonia",
          "the effects of organizational values attachment and living place attachment on the organizational commitment of the staff of healthcare institutions",
          "the retrospective economic vulnerability index, 2015 update",
          "les conseillers virtuels anthropomorphes et les réactions des internautes: une expérimentation portant sur la voix du conseiller",
          "how consumers process unexpected online advertisements: the effects of motion and abrupt onset on consumers' attention and attitude",
          "infrastructure et économie numérique en afrique subsaharienne et dans l'uemoa: état des lieux, acteurs, et nouvelles vulnérabilités",
          "une approche intégrée d'optimisation et de modélisation/simulation à évènements discrets pour la planification d'une chaîne logistique hybride",
          "le confinement, un accélérateur pour la télémédecine",
          "les compétences en responsabilité sociale de l'entreprise",
          "the brainstem and cerebral activation.",
          "eads et les stratégies territoriales dans le sud ouest de la france",
          "reinvent the bank branch of the future: implementation of a collaborative innovation process",
          "l'émergence d'une communauté en ligne entre une logique de projet et une logique de communauté",
          "tool for the evaluation of innovative therapies-multi-agent based system.",
          "innovation frugale et culture chinoise: le cas de l'innovation shanzhai 1",
          "vers une définition du sentiment de fin de vie professionnelle",
          "in search of balance in the management of tensions: a comparison of two social integration associations",
          "la construction d'une infrastructure logistique: objet-frontière dans les circuits de proximité",
          "an indicator of intensity of cyclone activity at country level",
          "une analyse des effets de proximité sur les pratiques de contrôle de gestion: le cas d'une université française",
          "financial volatility, macroprudential regulation and economic growth in low-income countries: completion report for esrc-dfid project es/l012022",
          "cooperation inter‐regionale: vers un echange d'experience",
          "performance des modèles d'estimation du ratio de couverture optimal: une nouvelle approche et application au contrat a terme sur cac 40.",
          "human assets index retrospective series: 2013 update",
          "les valeurs publiques entre stabilité et dynamisme: une exploration du management public marocain",
          "les négociateurs commerciaux et les réseaux sociaux: de l'usage intuitif à l'outil de gestion",
          "le suicide: les lourdes responsabilites et les consequences pour l'employeur français. l'interet d'une fonction rh …",
          "research on cache mechanism for vod based on p 2 p network",
          "la présence de l'animal de compagnie au travail a t'elle un impact sur l'engagement organisationnel et le stress? une recherche à partir de la théorie de la facilitation …",
          "eads y las estrategias territoriales del suroeste europeo, european report for programa de la iniciativa comunitaria interreg iiib sudoe.",
          "approches de la genèse des comportements mimétiques sur le marché des actions",
          "proximities: return over 25 years of analysis",
          "the physical vulnerability to climate change index computed at the sub-national level",
          "les drh face au suicide en lien avec le travail",
          "l'instrumentation du contrôle de gestion dans les organisations publiques: entre complexification, simplification, hybridation et autres formes d' …",
          "l'influence de la motivation intrinsèque et de l'innovation managériale sur la motivation de service public: conception et test d'un modèle appliqué à la …",
          "le suicide en milieu professionnel: les responsabilités légales des employeurs. le cas français.",
          "les simplifications instrumentales et processuelles: un dispositif de gestion des tensions de gouvernance publique a l'université",
          "a retrospective economic vulnerability index, 1990-2011-using the 2012 un-cdp definitions",
          "«le marketing et la communication du sacré dans la société contemporaine», dossier «les religieux, le sacré, le symbolique et la communication», n° 3.",
          "ppcm: some new features",
          "well-being and health for a different reading of sustainable territories (health and well-being, basement of renewed praxises and relations to the territories …",
          "les proximités, un cadre d'analyse de l'environnement de contrôle à l'université",
          "caractéristiques structurelles et industrialisation en afrique: une première exploration",
          "pour une culture raisonnable et raisonnée du chiffre dans le management public, regards croisés, questions de management 10.3917/qdm. 219.0147",
          "the impact of sox on opportunistic management behavior",
          "does environmental performance help firms to be more resilient against environmental controversies? international evidence",
          "le suicide au travail. une approche comparative entre salariés et dirigeants de petites entreprises indépendantes",
          "eads et les stratégies territoriales en aquitaine",
          "etude de l'influence des plateaux de carrière sur la satisfaction des employés-cas d'une pme marocaine",
          "les dynamiques spatiales des activités productives",
          "attitudes towards robots measure (arm): a new measurement tool aggregating previous scales assessing attitudes toward robots",
          "le sentiment de fin de vie professionnelle chez les plus de cinquante ans: définition, mesure et déterminants",
          "du prix «juste» à la valeur «durable»: complémentarité des approches dans la relation «prix-demande»",
          "related variety and the dynamics of european photonic clusters",
          "l'impact de la gouvernance sur le niveau de divulgation d'information des grandes sociétés cotées françaises",
          "is aid unfriendly to tax? african evidence of heterogeneous direct and indirect effects",
          "la diffusion des outils et services e-santé auprès de leurs utilisateurs: l'exemple de\" mon espace santé\" en france",
          "variation maps of 18f-fluorodesoxyglucose pet-scans of severe brain injured patients: individual comparison of deep brain stimulation in on and off …",
          "interactions between risk taking, capital, and reinsurance for property–liability insurance firms",
          "compétences: la reference le la gestion des employs. thévenet, maurice, dejoux, cécile, marbot, éléonore, bender, anne-françoise. fonctions …",
          "co-construction d'un design logistique des circuits courts en territoire rural: le cas de saint-flour communauté",
          "a methodological framework to support the sustainable innovation development process: a collaborative approach",
          "l'auditeur face aux dilemmes éthiques: l'impact d'une formation à l'éthique sur la conformité au code de déontologie",
          "la réflexivité des acteurs universitaires: un mode d'appropriation par simplification des logiques d'évaluation du npm?",
          "une exploration des valeurs individuelles au travail dans un service départemental d'incendie et de secours (sdis) français",
          "marketing stratégique et organisations caritatives ou de recherche",
          "politiques et institutions dans la résilience des petites économies insulaires face aux chocs. présentation",
          "a composite index of formal sovereignty for small islands and coastal territories.",
          "les marques région à l'épreuve de la réforme territoriale",
          "pour l'établissement de systèmes de gestion de crise résilients",
          "etude de l'influence de l'équité sur la satisfaction des employés. cas d'une pme marocaine",
          "the auditor facing ethical dilemmas: the impact of ethical training on compliance with a code of conduct",
          "anthropomorphic virtual assistants and the reactions of internet users: an experiment on the assistant's voice",
          "indice de la violence interne: une mesure composite et quantitative de la violence et de la criminalité internes dans les pays en développement",
          "la méthodologie de la théorie enracinée (mte) en sciences de gestion: application aux pme du pôle de compétitivité «images et réseaux» de bretagne",
          "dossier:\" quelles limites pour les technosciences en santé?\", actes du colloque de clermont-ferrand du 13 mars 2018, textes réunis par rm. borgès et c. lassalas …",
          "proximités et contrôles",
          "article no. pc981471",
          "problèmes de coordination de tournées dans le cadre du wsrp: résolution par ppc",
          "time management, activity selection and sales performance: a new way to reposition the role of management and salespeople",
          "innovation managériale à l'hôpital public: une lecture à partir de l'empowerment infirmier",
          "capa: parallélisme et applications irrégulières, volume 2, chapter parlist: une structure de donnée parallèle pour l'équilibrage des charges",
          "urban traffic systems modelling methodology",
          "l'évaluation de la performance des universités françaises: entre simplification de la complexité et complexification de la simplicité",
          "compared economic and environnemental vulnerabilities in french overseas territories",
          "démarches collectives et enjeux du marquage: entre labellisation et marques collectives. workshop: dynamiser un territoire au travers de pratiques …",
          "marketer le territoire, les leçons d'une démarche d'une marque territoire: le cas auvergne nouveau-monde. workshop: dynamiser un territoire au travers …",
          "analyse du rôle de l'internet dans le processus d'acquisition d'un produit financier par le consommateur: contribution de la variable temps",
          "la gouvernance locale, une forme de développement local et durable? une illustration par les pays",
          "l'afrique entre industrialisation et désindustrialisation",
          "proximité et institutions: nouveaux éclairages. présentation du numéro",
          "enjeux managériaux et mixité statutaire dans les réseaux de franchise: une relecture par l'école de la proximité",
          "corrigendum to extreme heat and stock market activity",
          "professional life and maternity: comparative representations of young entrepreneurs and executives at growing smes",
          "les valeurs publiques à la frontière publique/privée: le cas des concours de la fonction publique en chine",
          "introduction à la finance quantitative",
          "stratégies logistiques et territoires",
          "l'appropriation par simplification des logiques d'évaluation du npm dans les universités francaises",
          "vie professionnelle et maternité: représentations comparées de jeunes entrepreneures et cadres en tpe et pme en croissance",
          "positionnement épistémologique et orientation de la recherche: un focus sur l'étude des stéréotypes",
          "l'impact des déséquilibres du taux de change réel sur la performance du secteur manufacturier au sénégal 1",
          "la satisfaction à l'égard de la couverture maladie française accordée aux expatriés",
          "stratégies collectives et contrepouvoir: diversité des formes et impact sur la performance. l'exemple de la gestion des déchets industriels”, working …",
          "a quantitative indicator of the immigration policy's restrictiveness",
          "le marketing relationnel, un prérequis à l'orientation marché?: proposition d'un modèle de déploiement de l'orientation relationnelle",
          "for the establishment of resilient crisis management systems [pour l'établissement de systèmes de gestion de crise résilients]",
          "les services de télévision transfrontalière",
          "lawrence j. o'toole: la décision publique à l'épreuve des réseaux",
          "le comportement du consommateur face au prix: le concept du prix élargi",
          "contrôle de gestion",
          "dna methylation signatures of adolescent victimization: analysis of a longitudinal monozygotic twin sample",
          "spontaneous humanization of robots in passive observation of human-robot interaction: a path toward ethical consideration and human-robot cooperation",
          "les institutions créatrices de proximités: institutions as creators of proximities",
          "does the presence of a pet at work impact organizational commitment and stress?",
          "africa between industrialization and deindustrialization",
          "elisabetta falcetti, tatiana lysenko, and peter sanfey. reforms and growth in tran",
          "el asentamiento de eads en aquitania: actividades productivas débiles, relaciones institucionales reforzadas.",
          "comparison of three objective functions for conceptual clustering",
          "problèmes d'ordonnancement dans un flowshop hybride avec recirculation sous contraintes de gestion du personnel",
          "exemple de pratique de gestion de la diversité à la française: réalité, opportunité et aliénation",
          "for the establishment of resilient crisis management systems",
          "pauvreté, environnement et développement",
          "reconciling entrepreneurship with motherhood in france",
          "parcours de santé versus soin de la personne âgée en auvergne: proposition d'une définition organisationnelle",
          "financement et territorialisation des établissements de santé français: une relation dissymétrique",
          "human assets index retrospective series: 2016 update",
          "für den aufbau eines belastbaren krisenmanagementsystems [for the establishment of resilient crisis management system]",
          "rôle de l'influence sociale sur l'interprétation de l'information comptable: une expérimentation",
          "health and territorial attractiveness strategies",
          "le réseau social du dirigeant de petite et moyenne entreprise: un outil stratégique au service de sa communication?",
          "the effects of attachment to organisational values and to the place of life on the organisational involvement of staff in hospitals [les effets de l'attachement aux …",
          "les responsabilités légales des employeurs à l'égard du suicide en milieu professionnel: le cas de la france",
          "clusters, proximities and networks",
          "métaheuristiques, modèles mathématiques, modèles d'évaluation de performances pour le problème d'ordonnancement de projets sous contraintes de ressources",
          "les agents virtuels anthropomorphes et la relation client: effets du langage verbal et non verbal de l'agent virtuel sur les perceptions et les réactions des …",
          "rites d'interaction et management en chine: le cas de la province du guangxi",
          "le repositionnement du rôle de l'encadrement commercial intermédiaire: une approche par les représentations",
          "brocoli, le retour: un produit obtenu par un procédé essentiellement biologique est brevetable",
          "grid computing, high performance and distributed applications (gada) 2006 international conference-parallel applications-parallelization of a discrete …",
          "web services definition for operational research problems",
          "le capital social dans un processus de reprise d'entreprise",
          "revaloriser le travail des seniors: un enjeu stratégique pour les entreprises",
          "culture and capital structure: what else to the puzzle?",
          "la présence de l'animal de compagnie au travail a t'elle un lien avec l'engagement organisationnel et le stress?",
          "«clusters, proximites and networks",
          "la dimension politique dans l'approche de la proximité",
          "le suicide au travail",
          "comment les pme peuvent-elles s' allier pour se faire entendre de leurs fournisseurs? une approche par les stratégies collectives",
          "facteurs de risque des stratégies collectives entrepreneuriales: trois études de cas longitudinales (2002-2011)",
          "human vs. synthetic recommendation agents' voice: the effects on consumer reactions",
          "l'innovation organisationnelle à l'hôpital: s' appuyer sur l'évolution des fonctions infirmières",
          "an experimental study of partition quality indices in clustering",
          "accroître le taux de féminisation des cadres par l'identification des stéréotypes de genre: une méthode innovante mise en œuvre par une grande entreprise …",
          "\" l'exemption du sélectionneur face à la pratique des «bag tag» et des «shrink wrap»\", in: jurisclasseur-propriété industrielle, lexisnexis, 2014",
          "la gestion de l'insatisfaction sur les réseaux sociaux numériques: quelles stratégies adopter auprès des clients connectés",
          "le regard d'étudiant (e) s d'une école de management française à l'égard de de la réforme liée au congé paternité",
          "gamification for educational purposes: actors' perceptions and avenues for development",
          "maturité de la dette et gouvernance d'entreprise",
          "l'instrumentation des tensions de gouvernance publique (tgp): l'exemple des simplifications des indicateurs dans le système universitaire français 1",
          "les stratégies comptables précédant un changement de dirigeant en france",
          "personalized mapping of the deep brain with a white matter attenuated inversion recovery (wair) sequence at 1.5-tesla: experience based on a series of 156 …",
          "l'inscription spatiale des modèles industriels",
          "ce que le cinéma dit (ou ne dit pas) de la bioéthique et du droit, actes du colloque de clermont-ferrand du 24 novembre 2022, c. lassalas et rm. borgès (dir.)",
          "la marque publique",
          "la gamification pour apprendre: perceptions des acteurs et pistes de développement",
          "l'utilisation de variables explicatives estimées dans les régressions économétriques",
          "an analysis of proximity effects on management control practices: the case of a french university",
          "l'impact à court terme de la crise covid19 sur l'industrie manufacturière en afrique: évaluations d'experts africains",
          "techniques d'imagerie pour l'aide au positionnement en dosimétrie conformationnelle",
          "human development index: an evaluation for mayotte",
          "chronic dbs stimulation of minimally conscious state: methodological issues.",
          "efficience informationnelle et équilibre du marché boursier des actions: spéculation rationnelle et anomalies",
          "rôle des supply chains locales dans la résilience des territoires : l'exemple des produits alimentaires en auvergne",
          "evaluation of a hierarchical ascendant clustering process implemented in a veterinary syndromic surveillance system",
          "the emouverecherche application competes with research devices to evaluate energy expenditure, physical activity and still time in free-living conditions",
          "outsourcing of strategic resources and capabilities: opposing choices in the commercial aircraft manufacturing",
          "frugal innovation and chinese culture: the case of shanzhai innovation",
          "quelles caractéristiques un agent virtuel doit-il présenter de manière à générer de la confiance chez l'internaute? une étude exploratoire",
          "les stratégies comptables entourant un changement de dirigeant en france",
          "l'étude de la convergence entre l'orientation client et le marketing relationnel",
          "a new classification of small island economies based on geography, demography and sovereignty",
          null
         ],
         "marker": {
          "color": "#CFD8DC",
          "opacity": 0.5,
          "size": 5
         },
         "mode": "markers+text",
         "name": "other",
         "showlegend": false,
         "type": "scattergl",
         "x": [
          5.0272374,
          7.3682003,
          7.054823,
          7.7773705,
          7.6088343,
          8.196299,
          7.761164,
          9.20377,
          8.822881,
          7.889735,
          7.011767,
          6.545112,
          7.6517324,
          9.475361,
          9.111656,
          8.034154,
          9.750877,
          9.355341,
          9.150408,
          8.582629,
          6.003475,
          9.541601,
          8.755669,
          9.554883,
          9.246559,
          8.016307,
          6.58032,
          9.199845,
          8.948437,
          9.272464,
          7.3304906,
          6.940401,
          9.883844,
          9.624028,
          3.8657196,
          8.178459,
          6.0022526,
          8.721877,
          8.461035,
          9.11714,
          8.191827,
          9.806641,
          9.359193,
          8.718847,
          7.1524777,
          7.191746,
          9.375902,
          8.999759,
          8.388043,
          8.699578,
          9.597543,
          7.9719586,
          7.7247977,
          9.503352,
          8.958111,
          7.414708,
          8.1873045,
          8.92621,
          9.515869,
          6.9145727,
          10.0018215,
          6.2181625,
          8.679034,
          7.788614,
          8.149888,
          9.569998,
          9.088328,
          7.744441,
          7.2937284,
          6.132471,
          9.965727,
          7.71774,
          9.239303,
          6.543551,
          9.140311,
          8.81478,
          9.181757,
          8.164541,
          7.267186,
          8.560564,
          6.334964,
          9.197631,
          9.45684,
          4.297031,
          8.052533,
          9.135626,
          9.514768,
          7.9452186,
          8.31773,
          7.7039833,
          9.034335,
          7.7083983,
          9.488802,
          3.6575425,
          8.864522,
          9.126226,
          9.903755,
          9.31041,
          7.0847054,
          7.0644064,
          7.5918164,
          4.5491667,
          9.219561,
          4.519034,
          9.00377,
          8.3790655,
          8.841247,
          8.639316,
          6.2840223,
          9.174629,
          7.8615265,
          8.0939045,
          9.320163,
          7.659472,
          8.720181,
          8.135571,
          8.039429,
          7.2276745,
          7.305584,
          4.183282,
          9.179473,
          9.155934,
          9.114964,
          7.846944,
          7.6993523,
          8.5547695,
          8.691729,
          8.032468,
          9.458017,
          7.6326394,
          6.859624,
          7.783306,
          8.073018,
          8.61831,
          6.776039,
          4.363014,
          8.965533,
          9.462161,
          7.755573,
          9.906454,
          3.150536,
          8.208439,
          7.4817715,
          10.032839,
          6.6381,
          7.841497,
          10.015013,
          8.96038,
          8.415382,
          9.948701,
          8.92857,
          8.150549,
          7.753854,
          3.380949,
          8.947154,
          7.398009,
          6.3740096,
          7.9816623,
          6.8059807,
          8.892542,
          9.992161,
          7.8225346,
          9.365106,
          6.957513,
          7.2948914,
          9.512139,
          9.14828,
          6.2895603,
          8.754269,
          8.179873,
          9.073015,
          9.12949,
          9.531012,
          9.545547,
          7.6108317,
          7.4930735,
          9.147293,
          8.595929,
          9.005386,
          7.272166,
          8.068369,
          7.662175,
          7.716834,
          8.16235,
          9.47765,
          9.374134,
          7.514439,
          10.144521,
          7.0133247,
          9.723869,
          7.6461983,
          9.930819,
          7.0460362,
          6.8677115,
          8.372268,
          3.591356,
          3.7680767,
          8.936868,
          7.767931,
          8.045037,
          8.182039,
          7.6104426,
          7.6473427,
          6.539896,
          8.551829,
          7.705877,
          8.392006,
          7.874694,
          9.528603,
          9.123813,
          8.916124,
          8.919216,
          8.105043,
          7.1162653,
          7.474737,
          9.324463,
          7.8397646,
          8.068326,
          7.1229835,
          8.198742,
          7.861329,
          9.342441,
          9.197307,
          9.242827,
          9.022207,
          7.5507474,
          8.305537,
          8.499254,
          6.600349,
          7.853572,
          7.941236,
          6.156242,
          4.7349386,
          8.529656,
          8.242919,
          7.3089437,
          7.924471,
          8.949361,
          7.8466644,
          8.991161,
          8.192523,
          7.521483,
          6.5537224,
          8.129852,
          8.77009,
          9.96598,
          6.3190727,
          4.306757,
          7.9753065,
          9.219724,
          7.706039,
          9.390994,
          3.3014166,
          4.653878,
          9.239018,
          9.494775,
          8.888299,
          8.266459,
          6.42043,
          7.6869698,
          10.022948,
          9.086619,
          7.9327607,
          7.3718543,
          8.008943,
          6.156741,
          7.108548,
          8.37568,
          7.51862,
          8.815509,
          7.430609,
          9.4573555,
          9.114494,
          9.242207,
          9.122779,
          6.4744062,
          9.680961,
          9.624281,
          7.4621143,
          9.087947,
          7.0863395,
          7.032778,
          3.8002253,
          8.859485,
          9.159833,
          9.125492,
          5.476487,
          6.1461062,
          8.129828,
          5.4661174,
          7.976059,
          8.157291,
          9.112631,
          7.137366,
          7.687258,
          8.04072
         ],
         "y": [
          6.7941346,
          10.083883,
          9.891767,
          4.439103,
          9.4076,
          4.7918954,
          9.593815,
          6.8426704,
          8.721872,
          7.9529896,
          6.346107,
          6.3782296,
          7.681206,
          7.9198437,
          7.297119,
          7.3471417,
          8.467511,
          7.154091,
          11.18779,
          4.185095,
          7.624481,
          7.9331336,
          8.227919,
          3.2909358,
          6.6048164,
          5.2071986,
          5.675624,
          8.447801,
          3.13632,
          8.374858,
          6.996239,
          8.061702,
          3.187309,
          7.0818315,
          6.8553143,
          6.765189,
          7.466511,
          7.986134,
          8.320186,
          6.813115,
          10.148422,
          6.652802,
          7.4555454,
          9.030003,
          6.2330465,
          10.089016,
          6.4330773,
          3.6994202,
          6.93027,
          5.2236915,
          3.3047097,
          8.785911,
          4.8787847,
          7.821898,
          3.2408154,
          9.291685,
          4.3314724,
          4.0062375,
          6.918893,
          8.064086,
          6.835219,
          5.5251718,
          9.8658285,
          9.3322,
          4.4562216,
          6.463766,
          7.5572314,
          4.4478593,
          7.3367805,
          7.241779,
          7.0551634,
          4.597449,
          11.002618,
          6.0966563,
          11.179377,
          4.1769843,
          11.177024,
          6.7793913,
          8.850105,
          3.7514205,
          6.057608,
          6.962691,
          8.204442,
          5.9515123,
          9.412416,
          11.162531,
          3.314583,
          8.056941,
          9.440122,
          4.1570306,
          4.4407167,
          7.5737343,
          7.5684347,
          5.5088916,
          8.551972,
          8.432549,
          6.6231856,
          7.8882427,
          9.265126,
          8.750465,
          7.5287285,
          7.7019553,
          5.247269,
          7.5864387,
          7.236807,
          3.6363409,
          9.889864,
          6.967194,
          8.35416,
          11.1257715,
          8.275742,
          8.784244,
          7.7762837,
          4.9921627,
          8.864244,
          4.535729,
          9.477966,
          9.180283,
          6.0980206,
          6.52226,
          6.494288,
          7.7466087,
          11.188971,
          6.586289,
          8.0227,
          7.0065556,
          9.838984,
          8.285939,
          7.6729736,
          7.568742,
          6.2594166,
          4.458548,
          6.4782352,
          4.044065,
          6.701643,
          5.9451675,
          4.6157317,
          8.382982,
          8.85464,
          7.438989,
          6.6166344,
          8.74543,
          6.478927,
          6.726669,
          5.757754,
          4.392723,
          7.26104,
          8.158174,
          8.640766,
          7.5951004,
          8.194499,
          4.518118,
          8.726741,
          6.2309923,
          9.070396,
          6.430626,
          6.143354,
          7.642278,
          7.430105,
          3.9504302,
          7.5267096,
          6.723243,
          7.6162205,
          6.091996,
          9.584247,
          7.6560025,
          5.7370696,
          5.5926056,
          7.517434,
          4.160403,
          8.38151,
          11.19996,
          3.25517,
          7.7425013,
          7.0457354,
          8.059279,
          7.57468,
          8.213847,
          7.2990923,
          8.578971,
          5.0926013,
          5.075951,
          6.6147265,
          5.1863465,
          7.6024184,
          7.8552876,
          9.54673,
          7.7304826,
          5.8266473,
          7.2277083,
          6.384365,
          7.007236,
          6.3739734,
          7.4804873,
          8.576713,
          6.1963677,
          6.9226027,
          8.149257,
          4.934266,
          6.8908844,
          6.708082,
          9.108691,
          6.333409,
          6.0844135,
          7.163248,
          7.558684,
          3.8713288,
          8.101683,
          8.642727,
          4.516373,
          5.930272,
          8.150262,
          8.0772915,
          9.129926,
          6.079258,
          7.4701695,
          7.499241,
          4.832628,
          8.724658,
          5.02467,
          8.791899,
          8.343649,
          6.064576,
          6.3374143,
          5.3309245,
          9.570679,
          7.2451873,
          8.94377,
          6.119671,
          6.2853336,
          6.8432403,
          5.5318346,
          6.1571875,
          7.2804317,
          4.9756794,
          5.915012,
          7.9500046,
          8.37858,
          6.289789,
          4.588866,
          5.1929264,
          9.151046,
          7.6349835,
          8.643143,
          8.765302,
          7.5330496,
          5.629572,
          6.08047,
          9.465526,
          8.535799,
          8.688548,
          6.3850174,
          6.2064633,
          7.8292174,
          7.234579,
          7.008969,
          7.3031926,
          8.835714,
          5.7029114,
          6.157043,
          7.472507,
          6.0264425,
          8.196483,
          9.405033,
          8.311183,
          5.510165,
          9.035031,
          7.0624666,
          8.872326,
          7.45998,
          8.537463,
          6.6161113,
          8.295391,
          5.750169,
          11.201846,
          6.1237183,
          7.2766685,
          8.66109,
          8.551493,
          4.9227896,
          7.2124076,
          6.1840115,
          5.501301,
          5.1592207,
          11.1518955,
          5.251655,
          6.834653,
          5.503628,
          10.232268,
          6.682557,
          8.312,
          9.391654,
          5.837858,
          8.766478,
          4.9075646,
          7.147793
         ]
        },
        {
         "hoverinfo": "text",
         "hovertext": [
          "les effets des proximités sur l'apprentissage: le cas de la prise en charge de la douleur chronique en france",
          "fonction rh politique, métier et outils des ressources humaines",
          "l'indice de pauvreté humaine: une évaluation pour la réunion",
          "les drh face au choc démographique: 20, 40, 60--comment les faire travailler ensemble",
          "vingt-cinq ans de proximité",
          "multiplier les aptitudes pour répondre à l'antifragilité",
          "ukraine et biélorussie: des crises jumelles?",
          "la gestion des âges et l'équité entre les générations",
          "comment faire évoluer les prix en situation de crise? le cas d'une pénurie de carburant",
          "un indicateur de politique d'ouverture à l'immigration",
          "l'implication des équipes de campagne électorale à l'épreuve de l'adoption de whatsapp: conception et test d'un modèle appliqué aux élections municipales …",
          "brevets et végétaux: quels enjeux?",
          "les chimères homme/animal: entre dystopie et réalité",
          "l'indice de développement humain: une évaluation pour mayotte",
          "les politiques macroprudentielles dans l'uemoa",
          "une lecture institutionnaliste des catégories de la proximité",
          "vers une réelle valorisation de la participation citoyenne?",
          "une relecture du ba d'ikujiro nonaka par l'ecole de la proximité. le cas d'un échec de conversion de connaissances entre la france et la chine",
          "grh1: gestiondes seniors, état des lieux",
          "un temps pour les pères à mieux valoriser",
          "langage et sensible chez merleau-ponty, l'interrogation d'une existence",
          "nos achats font-ils de nous des citoyens engagés pour l'environnement? etude de l'impact du comportement d'achat éco-responsable sur l'efficacité politique interne …",
          "logistique et territoire",
          "les seniors dans l'entreprise",
          "le brevet unitaire européen et la juridiction du brevet européen: enfin l'aboutissement?",
          "cahier n 2009-06",
          "comment ne pas suivre les autres dans le monde de la gestion d'actifs?",
          "la modification de la politique de change chinoise. logique, portée et développements récents",
          "taux de change réel et compétitivité de l'économie réunionnaise",
          "\" pokémon et réalité virtuelle: des droits d'auteur bien réels\", revue de l'union européenne, dalloz, 2017, n° 605, pp. 85-89",
          "fonctions rh: politiques, métiers et outils des ressources humaines: 3e édition",
          "indice de développement humain: des progrès depuis 20 ans mais un retard persistant",
          "la place des seniors dans l'entreprise: une comparaison internationale",
          "fonctions rh: politiques, métiers et outils des ressources humaines",
          "la pauvreté à mayotte: une évaluation par l'indice de la pauvreté humaine",
          "travailler mieux pour vivre mieux",
          "l'article 2-4 du règlement européen au regard du droit de la concurrence",
          "\" le terrain c'est la (vraie) vie\"(claussmann b., 2018-discussion interne)",
          "le corps comme pivot des rapports du langage et du sensible chez le premier merleau-ponty",
          "réforme de l'hôpital: la logique reste productiviste",
          "\" les nouvelles règles de brevetabilité des végétaux à la lumière des modifications du règlement d'exécution de la convention sur le brevet européen\", étude n° …",
          "un guide critique des indicateurs de politique de développement",
          "human development index: an evaluation for mayotte [l'indice de développement humain: une évaluation pour mayotte]",
          "les indicateurs de politique économique révélée: une présentation générale de la méthode",
          "les points forts de ce numéro",
          "projet res-ter",
          "l'indice de développement humain: une évaluation rétrospective pour la réunion (1985-2005)",
          "droit de l'ingénierie sociétaire, 3e édition, les précis joly",
          "l'abeille et l'entreprise histoire d'une analogie récurrente",
          "une éthique en creux du chercheur qualitatif: une lecture merleau-pontienne",
          "centre d'etudes et de recherche sur le développement international",
          "un indicateur d'intensité cyclonique au niveau pays",
          "chapitre 13. attributs de bord",
          "un indicateur de politique d'ouverture «révélée» des pays ocde à la migration du sud",
          "le développement humain des territoires ultramarins français: des progrès certains, mais un retard encore persistant",
          "l'institution créatrice de proximité.",
          "l'indice de développement humain: une évaluation pour la réunion",
          "démarches d'attractivité des métropoles en matière de santé et bien-être",
          "ferdi databases 1.0. une base de données d'indicateurs de politiques de développement",
          "éléments de cadrage sur les cadres débutants entre qualité de vie et carrière",
          "la gestion du changement, une question d'actualité",
          "les âges, existent-ils?",
          "les proximités, entre contrainte et libération de l'action: le cas d'eads",
          null
         ],
         "marker": {
          "opacity": 0.5,
          "size": 5
         },
         "mode": "markers+text",
         "name": "L'Indice de Développement Humain: Évaluation et Politique",
         "text": [
          "",
          "",
          "",
          "",
          "",
          "",
          "",
          "",
          "",
          "",
          "",
          "",
          "",
          "",
          "",
          "",
          "",
          "",
          "",
          "",
          "",
          "",
          "",
          "",
          "",
          "",
          "",
          "",
          "",
          "",
          "",
          "",
          "",
          "",
          "",
          "",
          "",
          "",
          "",
          "",
          "",
          "",
          "",
          "",
          "",
          "",
          "",
          "",
          "",
          "",
          "",
          "",
          "",
          "",
          "",
          "",
          "",
          "",
          "",
          "",
          "",
          "",
          "",
          "L'Indice de Développement Humain: Évaluation et Politique"
         ],
         "textfont": {
          "size": 12
         },
         "type": "scattergl",
         "x": [
          8.806638,
          8.245824,
          8.575177,
          8.996689,
          8.692982,
          8.911494,
          8.501908,
          9.425206,
          9.197594,
          8.3412895,
          7.984797,
          8.725355,
          8.308922,
          8.780316,
          8.188791,
          8.42232,
          9.04861,
          8.808893,
          9.510587,
          9.157132,
          8.641633,
          8.047406,
          8.778076,
          9.471095,
          8.530195,
          8.743661,
          9.328072,
          8.046525,
          8.566243,
          8.592229,
          8.240234,
          8.75953,
          9.484379,
          8.22455,
          8.694835,
          8.946594,
          8.487549,
          8.570789,
          8.66324,
          8.910741,
          8.466197,
          8.097054,
          8.809259,
          8.138808,
          9.239813,
          8.735288,
          8.7572,
          8.931792,
          8.626858,
          8.597683,
          8.824333,
          8.744253,
          8.72784,
          8.269108,
          8.751306,
          8.708022,
          8.693884,
          8.428791,
          8.063642,
          9.300474,
          9.102185,
          9.371524,
          8.842279,
          8.707709
         ],
         "y": [
          6.4368305,
          5.82971,
          5.451881,
          6.357077,
          6.684702,
          6.4219847,
          6.102172,
          6.6241183,
          6.086885,
          5.872167,
          5.842336,
          6.292449,
          5.8638177,
          5.448263,
          6.0042295,
          6.9833393,
          6.628155,
          6.5133276,
          6.808717,
          6.609619,
          6.239112,
          5.9328957,
          6.1056867,
          6.8395863,
          6.2939115,
          6.711679,
          6.5131674,
          5.783323,
          5.984037,
          6.2803564,
          5.9125347,
          5.529021,
          6.964496,
          5.8985095,
          5.6218667,
          6.559148,
          6.4250736,
          6.3151417,
          6.2004843,
          6.093546,
          6.3364434,
          5.822623,
          5.227082,
          5.7377872,
          6.539107,
          6.601731,
          5.4360366,
          6.6892357,
          5.76956,
          6.276059,
          5.4650598,
          6.1136627,
          6.548621,
          6.057636,
          5.9085646,
          6.813578,
          5.4766707,
          6.3116198,
          5.9734964,
          6.112137,
          6.10973,
          6.657667,
          6.5861554,
          6.184693
         ]
        },
        {
         "hoverinfo": "text",
         "hovertext": [
          "an milp for scheduling problems in an fms with one vehicle",
          "comparison between two approaches to solve the job shop scheduling problem with routing",
          "a memetic algorithm for the job-shop with time-lags",
          "job-shop based framework for simultaneous scheduling of machines and automated guided vehicles",
          "a population-based metaheuristic for the capacitated lot-sizing problem with unrelated parallel machines",
          "an optimization approach for job-shop with financial constraints-in the context of supply chain scheduling considering payment delay between …",
          "particle swarm optimization: a study of particle displacement for solving continuous and combinatorial optimization problems",
          "shortest path resolution using hadoop",
          "linear formulation of the driver-scheduling problem under the european driving rules regulation.",
          "a graspxels for scheduling of job-shop like manufacturing systems and co2 emission reduction",
          "shortest path for mobile devices in urban area",
          "exact and heuristic methods for the integrated berth allocation and specific time-invariant quay crane assignment problems",
          "a mapreduce-based approach for shortest path problem in large-scale networks",
          "shortest path problem for mobile devices in urban area",
          "joint resolution of a job-shop scheduling problem with routing problem",
          "simulation based scheduling with wip consideration for fms using tri-based material handling systems",
          "an effective multi-start multi-level evolutionary local search for the flexible job-shop problem",
          "a multi-start split based path relinking (msspr) approach for the vehicle routing problem with route balancing",
          "a dial-a-ride evaluation for solving the job-shop with routing considerations",
          "a reduced vns based approach for the dynamic continuous berth allocation problem in bulk terminals with tidal constraints",
          "a dial-a-ride evaluation for solving the job-shop problem with transport",
          "a simple metaheuristic approach to the simultaneous scheduling of machines and automated guided vehicles",
          "nouvelle heuristique pour le job-shop avec time-lags",
          "a hybrid ils/vnd heuristic for the one-commodity pickup-and-delivery traveling salesman problem",
          "an efficient heuristic for the multi-product straight pipeline scheduling problem",
          "an efficient grasp-like algorithm for the multi-product straight pipeline scheduling problem",
          "a label setting algorithm for the truck driver-scheduling problem under the european community social legislation",
          "a grasp× els approach for the job-shop with a web service paradigm packaging",
          "a graspxels approach for the job shop with generic time-lags and new statistical determination of the parameters",
          "a multi-start multi-level els for the group-shop scheduling problem",
          "a split based approach for the vehicle routing problem with route balancing",
          "a milp model for the scheduling of a multiproduct tree-structure pipeline network in mining industry",
          "solving resource-constrained project scheduling problem with particle swarm optimization",
          "exact and metaheuristic approaches to solve the integrated production scheduling, berth allocation and storage yard allocation problem",
          "shortest path challenging problem",
          "scheduling model for a tool evaluating new radiotherapies",
          "constraint programming based decomposition method to the generalised workforce scheduling and routing problem",
          "a constraint-programming based decomposition method for the generalised workforce scheduling and routing problem (gwsrp)",
          "parlist: a parallel data structure for dynamic load balancing",
          "job-shop based framework for simultaneous scheduling of machines and automated guided vehicles [j]",
          "job-shop like manufacturing system with time dependent energy threshold and operations with peak consumption",
          "resolution of a job‐shop problem with transportation constraints: a master/slave approach",
          "bi-objective optimization of the job-shop problème with time-lags",
          "job-shop like manufacturing system with variable power threshold and operations with power requirements",
          "un système de voisinage efficace pour le problème du job-shop avec transport",
          "a linear programming-based framework for handling missing data in multi-granular data warehouses",
          "simultaneous job input sequencing and vehicle dispatching in a single-vehicle automated guided vehicle system: a heuristic branch-and-bound approach coupled …",
          "une approche bi-objectif au problème du job-shop sous contrainte de pics de consommation énergétique",
          "bi-objective optimisation approaches to job-shop problem with power requirements",
          "exact and heuristic methods for the berth allocation problem with multiple continuous quays in tidal bulk terminals",
          "continuous time and volume batch formulation for the multiproduct pipeline network scheduling problem",
          "object-oriented methodology for fms modelling and simulation",
          "modelling and solving a multimode and multisite industrial problem: lagrangean relaxation and heuristic approaches",
          "algorithme split pour le problème de tournées de véhicules bi-objectif",
          "a grasp algorithm for scheduling of open-pit phosphate mine extraction",
          null
         ],
         "marker": {
          "opacity": 0.5,
          "size": 5
         },
         "mode": "markers+text",
         "name": "Planification et Routage dans l'Atelier de Travail",
         "text": [
          "",
          "",
          "",
          "",
          "",
          "",
          "",
          "",
          "",
          "",
          "",
          "",
          "",
          "",
          "",
          "",
          "",
          "",
          "",
          "",
          "",
          "",
          "",
          "",
          "",
          "",
          "",
          "",
          "",
          "",
          "",
          "",
          "",
          "",
          "",
          "",
          "",
          "",
          "",
          "",
          "",
          "",
          "",
          "",
          "",
          "",
          "",
          "",
          "",
          "",
          "",
          "",
          "",
          "",
          "",
          "Planification et Routage dans l'Atelier de Travail"
         ],
         "textfont": {
          "size": 12
         },
         "type": "scattergl",
         "x": [
          2.818737,
          3.239688,
          3.4248555,
          2.8248343,
          2.7979221,
          3.285484,
          3.0586739,
          3.0107064,
          2.831701,
          3.3909848,
          3.0630584,
          2.7092671,
          3.0427387,
          3.01718,
          3.2383256,
          2.9075274,
          3.3500261,
          2.9899616,
          3.419515,
          2.66818,
          3.4610553,
          2.7348099,
          3.602516,
          2.8948627,
          2.9306479,
          2.8495805,
          2.961544,
          3.7840114,
          3.565747,
          3.1268988,
          2.9592295,
          3.1447368,
          2.994846,
          2.7507625,
          2.958908,
          2.9104667,
          2.9377797,
          3.0355153,
          3.1076748,
          2.8032575,
          3.3419902,
          3.197979,
          3.4043083,
          3.387972,
          3.634392,
          3.3218372,
          2.7428389,
          3.6001294,
          3.2289197,
          2.7167048,
          3.0490446,
          4.017773,
          3.2440798,
          3.593344,
          3.3321025,
          3.1348658
         ],
         "y": [
          7.660241,
          7.543377,
          7.609564,
          7.758812,
          7.6135373,
          7.5645533,
          7.3245034,
          6.8193984,
          7.632214,
          7.7008348,
          6.8441567,
          7.5558586,
          6.798794,
          6.817296,
          7.483653,
          7.6295156,
          7.598946,
          7.110461,
          7.5284905,
          7.50396,
          7.380437,
          7.6570053,
          7.404949,
          7.4811716,
          7.5204597,
          7.517188,
          7.5832877,
          7.7366085,
          7.6704235,
          7.539368,
          7.0166035,
          7.486105,
          7.5317845,
          7.5988874,
          6.921221,
          7.7180586,
          7.5378633,
          7.4479337,
          6.6847324,
          7.771885,
          7.6794276,
          7.5006213,
          7.5497665,
          7.711451,
          7.2738566,
          7.5401125,
          7.710325,
          7.240481,
          7.685351,
          7.5522842,
          7.4219303,
          6.863367,
          7.447418,
          6.453882,
          7.8030634,
          7.431591
         ]
        },
        {
         "hoverinfo": "text",
         "hovertext": [
          "des organisations sous pression: quand la légitimité, l'identité et le sensemaking sont menacés",
          "für den aufbau eines belastbaren krisenmanagementsystems",
          "une compréhension institutionnaliste de la proximité organisationnelle. le cas d'eads, xli colloque de l'asrdlf",
          "la réflexivité des acteurs face à la complexité des organisations publiques: un levier interactif de contrôle de la performance universitaire?",
          "pour une consécration légale de l'administrateur indépendant",
          "the effects of proximities on the relationship between the degree of decentralization and performance: the example of a french university",
          "organisations under pressure: when legitimacy, identity and sensemaking are put in jeopardy",
          "le contrôle de l'information. la réorganisation du conseil d'administration",
          "effets de l'environnement sur le controle inter-organisationnel: une approche par la proximite",
          "des rites un levier déterminant mais pas suffisant dans les organisations",
          "la confiance dans les organisations à l'heure de l'incertitude informationnelle», regards croisés, questions de management",
          "quelques thèses récentes en management public",
          "innovation, autonomie et normes de gestion: les équipes universitaires de direction face aux nouveaux indicateurs de la perfomance",
          "innovation, autonomie et normes de gestion: les équipes de direction universitaire face à l'évaluation de la performance",
          "management de la force de vente",
          "filemanagement des ventes",
          "the hybridization of management instruments. the example of a french university's performance management",
          "organisational proximity: an institutionalist point of view. the case of eads (in french)",
          "nouvelles idées sur le management public, un champ en construction?",
          "ranking and university branding: towards complementarity?[le classement et la marque universitaire: vers une complémentarité?]",
          "simplification of means and processes: a way of managing tensions generated by public governance in universities",
          "les nouvelles organisations entre souffrance et performance",
          "management public: de la remise en cause à la mise en question: éditorial",
          "le management public en idées: un champ en construction?",
          "définition d'un cadre stratégique adapté à la spécificité des organisations humnaintaires",
          "le management de l'urgence dans les organisations? les réponses apportées par napoléon bonaparte",
          "ranking and university branding: towards complementarity?",
          "face aux incertitudes, une certitude: le manager se doit d'être exemplaire",
          "pour un développement des communications collectives des organisations humanitaires.: le groupement d'intérêt général (gig)",
          "nietzschean dissolution of the individual: foundations and implications for organisation theory",
          "un essai de compréhension institutionnaliste de la dynamique des firmes: le cas d'eads.",
          "institutions, organisation et espace: les formes de la proximité",
          "les nouvelles organisations du travail: entre souffrance et performance",
          "une explication de la défection réglementaire des entreprises en matière de déchets: absence de leadership reconnu au sein des organisations bi-latérales « …",
          "evaluating competencies: the conception and implementation of a 360° feedback instrument for managers. a case study",
          "spiritual organization vs. rational organization",
          "l'évaluation des experts dans les organisations",
          "les outils d'évaluation de la performance universitaire: entre prescription, appropriation et innovation",
          "eads, an incomplete transition",
          "les technologies de l'information, outil de repositionnement du management intermédiaire",
          "une compréhension institutionnaliste de la proximité organisationnelle: le cas d'eads",
          "une compréhension institutionnaliste de la dynamique des organisations. ecole d'été de la rochelle,«analyse des changements institutionnels",
          "les effets de l'attachement aux valeurs organisationnelles et au lieu de vie sur l'implication organisationnelle des personnels des établissements de santé",
          null
         ],
         "marker": {
          "opacity": 0.5,
          "size": 5
         },
         "mode": "markers+text",
         "name": "Gestion de la Performance dans les Organisations",
         "text": [
          "",
          "",
          "",
          "",
          "",
          "",
          "",
          "",
          "",
          "",
          "",
          "",
          "",
          "",
          "",
          "",
          "",
          "",
          "",
          "",
          "",
          "",
          "",
          "",
          "",
          "",
          "",
          "",
          "",
          "",
          "",
          "",
          "",
          "",
          "",
          "",
          "",
          "",
          "",
          "",
          "",
          "",
          "",
          "Gestion de la Performance dans les Organisations"
         ],
         "textfont": {
          "size": 12
         },
         "type": "scattergl",
         "x": [
          8.236224,
          8.574306,
          8.422711,
          8.437959,
          8.832724,
          8.052804,
          8.273609,
          8.68633,
          7.4246244,
          8.596198,
          8.488651,
          8.684848,
          7.9255366,
          7.864188,
          8.808206,
          8.839039,
          7.887483,
          8.222591,
          8.689054,
          7.551516,
          8.322062,
          8.332455,
          8.690677,
          8.718218,
          8.137383,
          8.8365,
          7.426337,
          8.886419,
          8.2697735,
          8.331403,
          8.384669,
          8.230976,
          8.162254,
          8.29873,
          7.9355655,
          8.313792,
          8.588694,
          8.234452,
          8.287416,
          8.482484,
          8.308552,
          8.217107,
          8.585831,
          8.336752
         ],
         "y": [
          8.242419,
          7.688516,
          7.751522,
          8.058487,
          7.379682,
          7.4100294,
          8.166568,
          7.5365386,
          6.9045486,
          7.511201,
          7.7454534,
          7.7172065,
          8.255107,
          8.370064,
          7.9626384,
          7.8006063,
          7.665661,
          7.7086363,
          7.595791,
          8.207385,
          8.114977,
          7.7962976,
          8.356171,
          7.7154484,
          7.78582,
          7.887033,
          8.303567,
          7.38035,
          8.20215,
          8.174488,
          7.7767854,
          7.718352,
          7.8550973,
          7.850077,
          7.792163,
          7.995982,
          8.247551,
          8.352038,
          7.6340036,
          7.6825013,
          7.8197975,
          7.9278464,
          8.207673,
          7.866377
         ]
        },
        {
         "hoverinfo": "text",
         "hovertext": [
          "towards a management of public governance tensions in health care institutions? a proposal for a response through the analysis of proximities",
          "bricolage in human resource management and its evolution: the example of the management of short-term absenteeism in hospitals in the face of covid-19",
          "governance tensions in the healthcare sector: a contrasting case study in france",
          "the management of patient pathway in onco-senology: an exploratory approach based on the shared experience of the disease on social media",
          "a grounded theory-based qualitative approach for examining local implementation of public health policies during crises",
          "les médecins: la crise du système conventionnel",
          "résolution de problèmes d'ordonnancement dans des procédés innovants de l'industrie pharmaceutique",
          "proposition de valeur durable: quels freins à l'adoption d'une offre innovante produit/service? le cas de la douchette dans le domaine hospitalier",
          "les conventions nationales médicales",
          "institutional communication in healthcare organizations as a marker of patient orientation chapter 4",
          "participatory science, a design-based lever for social innovation in healthcare.",
          "la cartographie du parcours patient en cancérologie: éléments liminaires",
          "\" personnalisation des soins et risques liés aux données de santé\", in: technologies médicales innovantes et protection des droits fondamentaux des patients …",
          "a relational and geographic method for integrating cancer care pathways",
          "40 years of dutch disease literature: lessons for developing countries",
          "les outils de contrôle et de pilotage par résultats des activités publiques. le cas du calcul de coût d'un centre de lutte contre le cancer dans un …",
          "le site internet institutionnel des établissements de santé: un support de communication au service de l'empowerment des patients?",
          "local implementation of public health policies revealed by the covid-19 crisis: the french case",
          "la confiance interpersonnelle en milieu hospitalier: une proposition de lecture par la proximité",
          "l'influence de l'attitude envers le risque sanitaire et la confiance envers les parties prenantes sur les réactions du patient: le cas des plateformes de santé …",
          "blood substrate collection and handling procedures under pseudo-field conditions: evaluation of suitability for inflammatory biomarker measurement",
          "les effets de la proximité sur la fabrique des politiques publiques: l'exemple d'un centre de lutte contre le cancer (clcc)",
          "protocole de nagoya, accès aux pathogènes et urgence sanitaire: la fin du monde d'avant?",
          "une lecture organisationnelle de l'intégration des soins en cancérologie: approche ethnographique exploratoire autour du cas d'un centre de lutte contre …",
          "telephone follow-up of oncology patients: the contribution of the nurse specialist for a service-dominant logic in hospital",
          "comportements conscients après cérébrolésions: support anatomofonctionnel et perspectives thérapeutiques",
          "health care pathway versus care of the elderly in auvergne: proposal for an organisational definition",
          "interpersonal trust in a hospital context: a proposed analysis of the effects of proximities",
          "data segmentation in electronic health information exchange: policy considerations and analysis september 29, 2010",
          "a framework to link patient satisfaction with customer satisfaction",
          "revealing the role of subjective geographic proximity in the use of medical services: a quantitative case study in a french metropolitan suburb",
          "intercommunalité, mobilité et santé, l'intérêt du diagnostic partagé entre acteurs: le cas d'un établissement public de coopération intercommunale.",
          "do personal health concerns and trust in healthcare providers mitigate privacy concerns? effects on patients' intention to share personal health data on …",
          "integrated care pathway for breast cancer: a relational and geographical approach",
          "electronic health record adopters: a typology based on patients' privacy concerns and perceived benefits",
          "une lecture des soins intégrés à partir des pratiques et perceptions des médecins: le cas de la prise en charge de l'insuffisance cardiaque dans le haut cantal",
          "07. les effets de la proximité sur l'exécution des politiques publiques: l'exemple d'un centre de lutte contre le cancer (clcc)",
          "proximité et distance perçues dans la gestion des relations médecins-patients: application au cas du traitement du cancer du sein",
          "investigating the healthcare pathway through patients' experience and profiles: implications for breast cancer healthcare providers",
          "the effects of proximity on pubic policy execution: the cas of a french comprehensive cancer center (fccc).",
          "a qualitative method for identifying actors and levels of local implementation of public health policies",
          "financing and territorialisation of french health care institutions: an asymmetrical relationship",
          null
         ],
         "marker": {
          "opacity": 0.5,
          "size": 5
         },
         "mode": "markers+text",
         "name": "Gestion des soins patients en oncologie",
         "text": [
          "",
          "",
          "",
          "",
          "",
          "",
          "",
          "",
          "",
          "",
          "",
          "",
          "",
          "",
          "",
          "",
          "",
          "",
          "",
          "",
          "",
          "",
          "",
          "",
          "",
          "",
          "",
          "",
          "",
          "",
          "",
          "",
          "",
          "",
          "",
          "",
          "",
          "",
          "",
          "",
          "",
          "",
          "Gestion des soins patients en oncologie"
         ],
         "textfont": {
          "size": 12
         },
         "type": "scattergl",
         "x": [
          8.842251,
          8.760823,
          8.980148,
          9.550304,
          9.032206,
          9.721135,
          9.671,
          9.579742,
          9.763442,
          9.021233,
          8.964044,
          9.775063,
          9.7579365,
          9.510706,
          9.299388,
          9.799269,
          9.413535,
          9.069805,
          9.67187,
          9.832095,
          9.327553,
          9.845586,
          9.889515,
          9.727284,
          9.284674,
          9.778797,
          9.46256,
          9.252363,
          9.285397,
          9.345901,
          9.123867,
          9.327211,
          9.239748,
          9.469821,
          9.233768,
          9.740932,
          9.8403635,
          9.6448965,
          9.409041,
          9.791573,
          9.060863,
          8.986013,
          9.430565
         ],
         "y": [
          9.318171,
          9.766525,
          9.47031,
          9.706973,
          9.526896,
          9.329904,
          9.050364,
          9.168594,
          9.391023,
          9.44715,
          9.375312,
          9.711734,
          9.245493,
          9.822514,
          9.659217,
          9.424816,
          9.387988,
          9.613741,
          9.3005295,
          9.266746,
          9.697629,
          9.394256,
          9.118266,
          9.652272,
          9.592743,
          9.835837,
          9.194442,
          9.403824,
          9.747113,
          9.374428,
          9.594826,
          9.378738,
          9.529131,
          9.786264,
          9.597291,
          9.279618,
          9.404486,
          9.751289,
          9.749911,
          9.648186,
          9.449499,
          9.538279,
          9.492912
         ]
        },
        {
         "hoverinfo": "text",
         "hovertext": [
          "the aeronautical sector: recent tendencies",
          "proximites et logique modulaire dans l'automobile et l'aeronautique: vers une dualisation des espaces d'approvisionnement",
          "les principes institutionnalistes des dynamiques industrielle et spatiale: le cas du groupe aérospatiale",
          "institutions and coordination: what is the contribution of a proximity-based analysis? the case of airbus and its relations with the subcontracting network",
          "spatial dynamics of firms (in french)",
          "control by proximity: evidence from the 'aerospace valley'competitiveness cluster",
          "l'industrie aéronautique et spatiale: d'une logique d'arsenal à une logique commerciale",
          "relational rent and underperformance of hub firms in the aeronautics value chain",
          "relationship between aerospatiale and its subcontractors: an example of institutional dynamics",
          "les territoires de l'aéronautique: eads, entre mondialisation et ancrage",
          "gestion des interactions techniques et organisationnelles par la proximité: les firmes pivots de l'aéronautique",
          "externalisation de ressources et compétences stratégiques: airbus et boeing, des choix opposés",
          "la dynamique institutionnelle à l'origine d'un nouveau mode d'insertion\" locale\": le cas des relations entre aérospatiale et ses sous-traitants",
          "hub firms and the dynamics of territorial innovation: case studies of thales and liebherr in toulouse",
          "proximity–impacts of geographic, organizational and cognitive proximities on innovation",
          "chapter six territorial innovation dynamics: a knowledge based perspective",
          "contenu et effets de la proximité institutionnelle: un cas d'enfermement dans l'industrie aéronautique 1",
          "territorial innovation dynamics: a knowledge based perspective",
          "l'industrie aéronautique civile européenne: vers une banalisation?",
          "les firmes-pivots dans le secteur aéronautique régional",
          "cognitive proximity and knowledge spillover in the avionics industry an analysis from patents and scientific publications",
          "the content and effects of institutional proximity: a case of lock-in in the aeronautical industry",
          "mondialisation et dynamiques des coordinations inter-firmes: le cas dans la sous-traitance aéronautique",
          "control by proximity: evidence from aerospace valley competitiveness cluster (in french)",
          "rente relationnelle et sous-performance des firmes pivots dans la chaîne de valeur aéronautique",
          "global/local articulation in industrial models for phamaceuticals, automobile and aeronautics (in french)",
          "the transformation of the french civil aeronautics industry: concentration, externalisation and pivotal firms",
          "les mutations de l'industrie aéronautique civile française: concentration, externalisation et firme-pivot",
          "the european civil aviation industry: towards normalization?",
          "le couple franco-allemand dans l'industrie aéronautique: à la recherche d'un compromis fragile",
          "les firmes-pivots dans le secteur aéronautique régional: le plan power 8 et les reconfigurations du réseau de sous-traitants aquitains et midi-pyrénéens",
          "le contrôle par la proximité: l'analyse du réseau du pole de compétitivité aerospace valley",
          "technological determinism and modularity: lessons from a comparison between aircraft and auto industries in europe",
          "management of technical and organisational interactions by proximity: the hub firms in aeronautical sector (in french)",
          "institutional dynamics and localized inter-firm relations: the case of aérospatiale and its subcontractors in toulouse",
          "political dimension in the proximity approach",
          "partenariats internationaux, extension de la chaîne de valeur et influence sur l'ensemble du système productif: une étude de cas: le secteur aéronautique",
          "coopération inter-régionale: les conditions d'un échange d'expériences 4th proximity congress «proximity, networks and co-ordination.",
          null
         ],
         "marker": {
          "opacity": 0.5,
          "size": 5
         },
         "mode": "markers+text",
         "name": "Dynamiques des Firmes Pivots en Aéronautique",
         "text": [
          "",
          "",
          "",
          "",
          "",
          "",
          "",
          "",
          "",
          "",
          "",
          "",
          "",
          "",
          "",
          "",
          "",
          "",
          "",
          "",
          "",
          "",
          "",
          "",
          "",
          "",
          "",
          "",
          "",
          "",
          "",
          "",
          "",
          "",
          "",
          "",
          "",
          "",
          "Dynamiques des Firmes Pivots en Aéronautique"
         ],
         "textfont": {
          "size": 12
         },
         "type": "scattergl",
         "x": [
          5.872497,
          5.7247095,
          5.993105,
          6.171274,
          6.2235208,
          6.1387935,
          5.855621,
          5.9879737,
          5.9483395,
          5.8214703,
          5.8269467,
          5.415317,
          5.8754616,
          6.333122,
          6.3823814,
          6.3379917,
          5.789433,
          6.3961577,
          5.7191553,
          5.7224636,
          6.2135286,
          6.058805,
          5.801978,
          6.242596,
          5.648556,
          6.0853124,
          5.7864327,
          5.744538,
          5.745012,
          5.7209525,
          5.7534842,
          6.1576343,
          5.805342,
          6.0466595,
          6.043492,
          6.5039425,
          5.6591926,
          6.511284,
          5.9753814
         ],
         "y": [
          6.532992,
          6.232713,
          6.267243,
          6.664717,
          6.743096,
          6.696741,
          6.2171793,
          6.6268344,
          6.296607,
          6.1975574,
          6.450804,
          6.7284055,
          6.209886,
          6.9841323,
          6.993355,
          7.020031,
          6.371747,
          6.9457116,
          6.240255,
          6.269825,
          6.9203677,
          6.659539,
          6.230834,
          6.743829,
          6.3109207,
          6.183016,
          6.458446,
          6.3092847,
          6.5196385,
          6.29408,
          6.198657,
          6.596108,
          6.510361,
          6.6318364,
          6.531725,
          6.9343333,
          6.241774,
          6.82107,
          6.520675
         ]
        },
        {
         "hoverinfo": "text",
         "hovertext": [
          "effects of earnings management on firms' marketadjusted return",
          "earnings management across publicly traded and privately held french smes",
          "the relative informativeness of gaap and pro forma earnings announcements in france",
          "convergence consensus analyst earnings estimates and option pricing in modeling material accounting misstatements",
          "why do firms release profit warnings?''",
          "analyzing brokers' expertise: did analysts fully anticipate the impact of ifrs adoption on earnings? the european evidence",
          "ownership structure and corporate financial performance: evidence from france",
          "corporate governance code and earnings management: the french case",
          "the effect of earnings management on debt maturity: an international study [l'effet de la gestion des résultats sur la maturité: une étude internationale]",
          "analysts' estimates: what they could be telling us about the impact of ifrs on earnings manipulation in europe",
          "determinants of corporate financial disclosure timing: the french empirical evidence",
          "earnings management surrounding ceo changes in france",
          "the impact and importance of mandatory adoption of international financial reporting standards in europe",
          "the impact of mandatory adoption of ifrs on income statement and balance sheet properties",
          "the informative impact of profit warnings on annual earnings announcements",
          "ifrs-9 adoption and income smoothing nexus: a comparison of the post-adoption effects between european and sub-saharan african banks",
          "analyst earnings forecast revision activity around profit warnings across four european countries",
          "abnormal stock returns and profit warnings",
          "do french listed companies manage their earnings so as to limit losses and earnings decreases?",
          "determinants of financial corporate disclosures timing: an empirical examination with french data",
          "the effect of earnings management on debt maturity: an international study",
          "the role of reconciliation quality in limiting mispricing of non-gaap earnings announcements by euro stoxx firms",
          "accounting policies preceding ceo changes in france",
          "effect of the legal system country of european commercial banks on the financial distress",
          "the impact of leverage on earnings management and the trade-off between discretionary accruals and real earnings management",
          "do analysts predict managed or unmanaged earnings?",
          "assessing the impact of basel iii on bank behaviour: a micro-founded approach",
          "dividend policy and earnings quality: the french evidence",
          "how to better detect cases of financial reporting fraud: some new findings from earnings restatements",
          "earnings management and ownership structure: evidence from france",
          "earnings management surrounding ceo changes in france [la gestion du résultat comptable autour d'un changement de dirigeant en france]",
          "determinants of corporate financial reporting lag: the french empirical evidence",
          "assessing the impact of basel iii on european bank lending",
          "does public/private status affect smes earnings management practices? a study on french case",
          null
         ],
         "marker": {
          "opacity": 0.5,
          "size": 5
         },
         "mode": "markers+text",
         "name": "Gestion Financière des Bénéfices en France",
         "text": [
          "",
          "",
          "",
          "",
          "",
          "",
          "",
          "",
          "",
          "",
          "",
          "",
          "",
          "",
          "",
          "",
          "",
          "",
          "",
          "",
          "",
          "",
          "",
          "",
          "",
          "",
          "",
          "",
          "",
          "",
          "",
          "",
          "",
          "",
          "Gestion Financière des Bénéfices en France"
         ],
         "textfont": {
          "size": 12
         },
         "type": "scattergl",
         "x": [
          10.587324,
          10.674373,
          10.550739,
          10.504613,
          10.431849,
          10.317016,
          10.300886,
          10.650923,
          10.743304,
          10.433684,
          10.361961,
          10.670734,
          10.19553,
          10.150183,
          10.489585,
          9.944662,
          10.436612,
          10.2677355,
          10.667197,
          10.348744,
          10.694703,
          10.503235,
          10.618569,
          9.900969,
          10.77925,
          10.587311,
          9.849579,
          10.705482,
          10.359094,
          10.701296,
          10.69661,
          10.207041,
          9.852043,
          10.694326,
          10.437564
         ],
         "y": [
          2.8283646,
          2.8984184,
          2.8560722,
          2.6502092,
          2.5806124,
          2.6080494,
          3.0489573,
          2.9456096,
          2.9924042,
          2.5952263,
          2.8823051,
          2.9652784,
          2.8015473,
          2.606874,
          2.6644406,
          2.6303961,
          2.5700545,
          2.6935613,
          2.984146,
          2.845842,
          2.9087942,
          2.7225227,
          3.0266745,
          2.7599623,
          2.7684102,
          2.6989958,
          2.7984672,
          2.9730413,
          2.6227274,
          3.0032954,
          2.9877818,
          2.9694607,
          2.810598,
          2.8981793,
          2.8116848
         ]
        },
        {
         "hoverinfo": "text",
         "hovertext": [
          "implementation of a denoising algorithm based on high-order singular value decomposition of tensors",
          "poster presentations 2-pattern recognition, image processing, and applications-fast guaranteed polygonal approximations of closed digital curves",
          "application of a discrete tomography approach to computerized tomography",
          "optimal multiple intervals discretization of continuous attributes for supervised learning",
          "on the min dss problem of closed discrete curves",
          "an envelope operator for full convexity to define polyhedral models in digital spaces",
          "reconstructions of noisy digital contours with maximal primitives based on multi-scale/irregular geometric representation and generalized linear programming",
          "on digital plane preimage structure",
          "optimal blurred segments decomposition of noisy shapes in linear time",
          "the cerdi-seadistance database",
          "tangential cover for thick digital curves",
          "approches locales sectorielles pour l'étude de surfaces digitales",
          "poster presentations 2-pattern recognition, image processing, and applications-maximal digital straight segments and convergence of discrete …",
          "optimal blurred segments decomposition in linear time",
          "an approach for the estimation of the precision of a real object from its digitization",
          "regularity of digital lines",
          "gift-wrapping based preimage computation algorithm",
          "digital level layers for digital curve decomposition and vectorization",
          "digital plane preimage structure",
          "parallelization of a discrete radiosity method using scene division",
          "optimal time computation of the tangent of a discrete curve: application to the curvature",
          "generating isotropic discrete waves on cellular automata",
          "urban building classification (ubc) v2-a benchmark for global building detection and fine-grained classification from satellite imagery",
          "application of a discrete tomography algorithm to computerized tomography",
          "robust reconstructions by multi-scale/irregular tangential covering",
          "maximal digital straight segments and convergence of discrete geometric estimators",
          "shape analysis with geometric primitives",
          "canonical representations of discrete curves",
          "computing efficiently the lattice width in any dimension",
          "convex digital polygons, maximal digital straight segments and convergence of discrete geometric estimators",
          "urban building classification (ubc)-a dataset for individual building detection and classification from satellite imagery",
          null
         ],
         "marker": {
          "opacity": 0.5,
          "size": 5
         },
         "mode": "markers+text",
         "name": "Segments Numériques Maximaux et Géométrie Discrète",
         "text": [
          "",
          "",
          "",
          "",
          "",
          "",
          "",
          "",
          "",
          "",
          "",
          "",
          "",
          "",
          "",
          "",
          "",
          "",
          "",
          "",
          "",
          "",
          "",
          "",
          "",
          "",
          "",
          "",
          "",
          "",
          "",
          "Segments Numériques Maximaux et Géométrie Discrète"
         ],
         "textfont": {
          "size": 12
         },
         "type": "scattergl",
         "x": [
          2.8789136,
          3.0680373,
          3.247758,
          3.1864772,
          2.9969215,
          3.0478547,
          2.975352,
          3.1272202,
          2.9824047,
          3.432521,
          3.1620116,
          3.3441336,
          3.1154442,
          2.9822133,
          3.1210537,
          3.2158952,
          3.190422,
          3.1536214,
          3.1514673,
          3.2187362,
          3.0769336,
          3.0857687,
          3.4865253,
          3.3041544,
          3.0065396,
          3.0932555,
          3.1215637,
          3.108284,
          2.9030566,
          3.0152516,
          3.44496,
          3.1369276
         ],
         "y": [
          5.034158,
          4.9428344,
          5.051664,
          5.0302777,
          4.8146515,
          4.9448647,
          4.933795,
          4.968432,
          4.909128,
          5.0352774,
          4.8610992,
          4.929558,
          5.0151024,
          5.042119,
          4.9451113,
          4.8027754,
          5.2068205,
          4.872151,
          4.991938,
          5.3316836,
          4.906057,
          4.758577,
          5.1997275,
          5.109641,
          4.8523736,
          4.862294,
          4.9186473,
          4.8120327,
          4.9300017,
          4.8578134,
          5.2143993,
          4.9704843
         ]
        },
        {
         "hoverinfo": "text",
         "hovertext": [
          "un environnement de modélisation pour le système d'information de la supply chain: application au nouvel hôpital d'estaing.",
          "modélisation du processus logistique dans les systèmes flexibles de production",
          "a multiple modeling for a health care supply chain: a case study with clermont-ferrand public dental hospital",
          "generic health care unit modelling for the new hospital estaing supply chain decision-making software",
          "regards de pierre martin huet sur les problématiques de stocks et la reconfiguration des supply chains internationales: le cas du groupe michelin",
          "optimal cash flow and operational planning in a company supply chain",
          "a generic hybrid flow-shop simulation model using simula",
          "a decisional modeling for network franchise and supply chain management",
          "from advanced planning system to advanced budgeting system: the next step in supply chain management software",
          "towards an integration of lifecycle thinking into pss business models",
          "environnement et processus d'adaptation des supply chains",
          "recomposition de la supply chain aéronautique",
          "the benefits of the digital supply chain for horizontal resource pooling–the case of the bio loire océan farmers' association",
          "generic simulation model for hybrid flow-shop",
          "a decisional modelling for supply chain management in network franchise: applied to franchise bakery networks",
          "a combined financial and physical flows evaluation for logistic process and tactical production planning: application in a company supply chain",
          "les 14e rencontres de l'airl-scm : la logistique et le supply chain management à la croisée des chemins",
          "a decisional modelling for supply chain management in franchised networks: application in franchise bakery networks",
          "the demand-pull approach to business model innovation through product-service systems: a case study",
          "a grasp for supply chain optimization with financial constraints per production unit",
          "contrôles et proximités au sein de la supply chain aéronautique",
          "model for flexibility evaluation in manufacturing network strategic planning",
          "un environnement de modelisation pour le systeme d'information de la supply chain: application sur le nouvel hopital d …",
          "linear model for supply chain operational planning and carbon footprint optimization",
          "optimisation des flux financiers et physiques de la supply chain d'une firme industrielle",
          "une modélisation systémique du management des réseaux mixtes de franchise: vers un équilibre des pratiques des opérateurs",
          "an optimization approach for a strategic balance of supply and demand in the process industry of bulk materials",
          "la modélisation d'une unité générique de soins pour le système d'information et d'aide à la décision de la supply chain du nouvel hôpital d'estaing",
          "la modélisation d'une unité générique de soins: une brique essentielle pour le système d'information et d'aide à la déecision de la supply chain du nouvel hôpital d' …",
          "special issue on supply chain design",
          null
         ],
         "marker": {
          "opacity": 0.5,
          "size": 5
         },
         "mode": "markers+text",
         "name": "Modélisation Décisionnelle de la Supply Chain",
         "text": [
          "",
          "",
          "",
          "",
          "",
          "",
          "",
          "",
          "",
          "",
          "",
          "",
          "",
          "",
          "",
          "",
          "",
          "",
          "",
          "",
          "",
          "",
          "",
          "",
          "",
          "",
          "",
          "",
          "",
          "",
          "Modélisation Décisionnelle de la Supply Chain"
         ],
         "textfont": {
          "size": 12
         },
         "type": "scattergl",
         "x": [
          4.7251873,
          4.521062,
          4.533369,
          4.5430655,
          5.05681,
          4.3821735,
          4.00427,
          4.622743,
          4.345039,
          4.5902457,
          5.1254497,
          5.2535176,
          5.153208,
          4.0716186,
          4.6248765,
          4.3299084,
          5.0889125,
          4.596111,
          4.628357,
          4.294554,
          5.2679214,
          4.570781,
          4.6019344,
          4.399362,
          4.7166653,
          4.7669992,
          3.9823458,
          4.7795706,
          4.72468,
          4.512167,
          4.627097
         ],
         "y": [
          6.872176,
          6.6793046,
          7.064402,
          7.112506,
          6.798528,
          7.219229,
          6.97092,
          7.1218805,
          7.2308125,
          7.518213,
          6.825151,
          6.67271,
          6.8342857,
          6.8975525,
          7.2012005,
          7.1380777,
          6.8214297,
          7.158158,
          7.428824,
          7.241756,
          6.6788006,
          7.1549277,
          6.890026,
          7.1788263,
          6.956371,
          7.1182885,
          7.303212,
          6.9369564,
          6.885014,
          7.1498423,
          7.035312
         ]
        },
        {
         "hoverinfo": "text",
         "hovertext": [
          "determinants of stakeholder participation in a place marketing approach: the case of a french place brand",
          "positionnement épistémologique et méthodologique du marketing des territoires comme champ de recherche",
          "l'implication des parties prenantes dans la mise en marque des régions bretagne et auvergne",
          "the impact of private sales on the process of valuation of luxury brands: the moderating effect of the promotional message [les effets des ventes …",
          "la gestion stratégique territoriale: le cas de l'usine robert bosch à rodez",
          "co-construction of a territorial marketing approach: the case of the stakeholders of a shared brand",
          "la co-construction d'une démarche de marketing territorial: une lecture des parties prenantes d'une marque partagée",
          "why do consumers respond negatively to brand activism campaigns? an investigation into the perceived corporate motives",
          "initiation au marketing",
          "consumers' perceptions of retail business ethics and loyalty to the retailer: the moderating role of social discount practices",
          "on the inconsistency of negotiation style among young sales representatives",
          "when the territorial reform questions the destiny and the springs of the place branding: an approach by the proximities [quand la réforme territoriale questionne le …",
          "from korea to the world: women's role as peer-leaders in k-pop transnational online brand communities",
          "identification des enjeux pour les parties prenantes et les acteurs engagés dans la construction d'une marque région: le cas de la marque auvergne …",
          "retailing et localisation: une approche multidisciplinaire",
          "initiation au marketing: les concepts-clés",
          "les déterminants de la participation des parties prenantes à une démarche de marketing territorial: le cas d'une marque de territoire française",
          "customer loyalty for a stock clearance retailer. an analysis of its antecedents and formation processes",
          "the impact of private sales on the process of valuation of luxury brands: the moderating effect of the promotional …",
          "quand la réforme territoriale questionne le devenir et les ressorts de la marque territoire: une approche par les proximités",
          "la fabrique d'une marque région: le cas de la marque «auvergne nouveau monde»",
          "the creation process of a territorial brand: the case of the brand “auvergne nouveau monde",
          "the stakeholders in two french regional branding processes (auvergne and brittany): what kind of involvement?",
          "how do cultural factors affect loyalty behaviour in retailing? the central role of social proximity",
          "marketing territorial des intercommunalités en matière de santé",
          "toward the characterization of 'toy-packaging': an exploratory research",
          "\" the creation process of a territorial brand: the case of the brand “auvergne nouveau monde”[\" la fabrique d'une marque région: le cas de la marque « …",
          "determinants of stakeholder participation in a place marketing approach: the case of a french place brand [les déterminants de la participation des parties prenantes …",
          "legitimate or not, does it really matter? a reading of the pdo label's legitimacy through consumers' perception",
          null
         ],
         "marker": {
          "opacity": 0.5,
          "size": 5
         },
         "mode": "markers+text",
         "name": "Marketing Territorial: Marque et Participation des Parties",
         "text": [
          "",
          "",
          "",
          "",
          "",
          "",
          "",
          "",
          "",
          "",
          "",
          "",
          "",
          "",
          "",
          "",
          "",
          "",
          "",
          "",
          "",
          "",
          "",
          "",
          "",
          "",
          "",
          "",
          "",
          "Marketing Territorial: Marque et Participation des Parties"
         ],
         "textfont": {
          "size": 12
         },
         "type": "scattergl",
         "x": [
          6.6484013,
          6.8185625,
          7.7184963,
          6.488258,
          7.717536,
          6.6652427,
          6.7370152,
          6.642166,
          6.977253,
          6.429271,
          6.5372195,
          7.09504,
          6.7690873,
          7.93506,
          6.8573484,
          6.9527473,
          6.794968,
          6.3748584,
          6.436359,
          7.8487577,
          7.695944,
          6.67041,
          6.633035,
          6.5088444,
          6.818279,
          6.5291443,
          6.870494,
          6.6281295,
          6.544062,
          6.873862
         ],
         "y": [
          8.311286,
          8.558332,
          6.7719946,
          8.453393,
          6.712255,
          8.111159,
          7.9793515,
          8.54898,
          8.460234,
          8.400799,
          8.360348,
          7.5790415,
          8.35709,
          6.915881,
          8.030443,
          8.523472,
          7.981533,
          8.422129,
          8.437942,
          6.587042,
          6.8516026,
          8.17617,
          8.315898,
          8.30245,
          8.06262,
          8.263253,
          7.9472785,
          8.369866,
          8.505313,
          8.010247
         ]
        },
        {
         "hoverinfo": "text",
         "hovertext": [
          "proximité cognitive et knowledge spillover dans l'avionique: une analyse à partir des brevets et des publications scientifiques",
          "l'influence explicative du capital social des dirigeants sur le développement des pratiques d'intelligence économique: le cas des pme du grand ouest",
          "intelligence économique et stratégie: une approche par la théorie des ressources.",
          "bart nooteboom-une théorie cognitive de la firme",
          "economix",
          "the influence of top management's social capital on the development of competitive intelligence: the case of french smbs",
          "la propriété intellectuelle: un droit pluriel en mouvement",
          "la polyvalence stratégique des pratiques d'intelligence économique: une approche par les ressources appliquée aux pme",
          "de la politique publique d'intelligence économique à la politique publique de sécurité économique: analyse contextuelle du rôle de l'influence",
          "l'intelligence économique, créatrice de valeur publique dans les pme",
          "accroître les capacités stratégiques de l'intelligence économique: les apports du management des connaissances",
          "prolégomènes à une compréhension du concept de responsabilité en intelligence économique",
          "participation citoyenne à la ville intelligente: test d'un modèle des déterminants de la participation à la ville intelligente",
          "l'intelligence économique au service des grands projets",
          "pratiques d'intelligence économique des pme du pôle de compétitivité «images et réseaux»: une conceptualisation selon les principes de la théorisation …",
          "le capital social des managers publics engagés dans un dispositif d'intelligence économique territoriale: retour sur le cas du schéma régional d'intelligence …",
          "triggering participation in smart cities: political efficacy, public administration satisfaction and sense of belonging as drivers of citizens' intention",
          "capacités d'absorption et gestion de crise: les pratiques d'intelligence économique des pme",
          "personal networks management and competitive intelligence in french smes",
          "la polyvalence stratégique de l'intelligence économique en question: une lecture selon l'approche basée sur les ressources",
          "quel paradigme stratégique pour l'intelligence économique?",
          "unplugged-thinking the organisational and managerial challenges of intelligent towns and cities: a critical approach to the smart cities phenomenon",
          "l'intelligence artificielle, un levier de progrès à condition de répondre aux problématiques éthiques et juridiques.",
          "prolégomènes à une compréhension des responsabilités de l'intelligence économique",
          "quel est l'impact de la posture stratégique sur les pratiques d'intelligence économique des tpe/pme?",
          "la mission intelligence économique de la gendarmerie nationale au prisme des entreprises",
          "intelligence économique et management stratégique: le cas des pratiques d'intelligence économique des pme",
          null
         ],
         "marker": {
          "opacity": 0.5,
          "size": 5
         },
         "mode": "markers+text",
         "name": "Pratiques d'Intelligence Économique en PME Stratégiques",
         "text": [
          "",
          "",
          "",
          "",
          "",
          "",
          "",
          "",
          "",
          "",
          "",
          "",
          "",
          "",
          "",
          "",
          "",
          "",
          "",
          "",
          "",
          "",
          "",
          "",
          "",
          "",
          "",
          "Pratiques d'Intelligence Économique en PME Stratégiques"
         ],
         "textfont": {
          "size": 12
         },
         "type": "scattergl",
         "x": [
          6.4658766,
          6.2993307,
          6.230804,
          6.7163134,
          6.3857846,
          6.278602,
          6.5636187,
          6.2800603,
          6.163645,
          6.1881766,
          6.2613473,
          6.274859,
          6.654455,
          6.2448707,
          6.2731485,
          6.417552,
          7.032849,
          6.290882,
          6.461784,
          6.3299723,
          6.3400664,
          6.78393,
          6.3617053,
          6.202686,
          6.308975,
          6.2450027,
          6.2700977,
          6.382459
         ],
         "y": [
          9.889523,
          10.301845,
          10.35262,
          9.775175,
          9.903478,
          10.210096,
          10.008504,
          10.269023,
          10.453383,
          10.40635,
          10.337385,
          10.264119,
          10.148086,
          10.330339,
          10.267602,
          10.248639,
          10.03959,
          10.286005,
          9.843896,
          10.295459,
          10.235657,
          10.151881,
          10.341105,
          10.389817,
          10.290985,
          10.328589,
          10.329787,
          10.211071
         ]
        },
        {
         "hoverinfo": "text",
         "hovertext": [
          "les minoritaires face à la gestion des résultats comptables dans les sociétés contrôlées",
          "vers une information comptable plus transparente: l'apport des recherches portant sur la gestion des résultats comptables",
          "trois essais sur l'impact de la rse sur les politiques financières des entreprises",
          "structure de l'actionnariat et performance financière de l'entreprise: le cas français",
          "l'impact des changements de méthodes comptables sur les rentabilités boursières",
          "les sociétés françaises cotées gèrent-elles leurs chiffres comptables afin d'éviter les pertes et les baisses de résultats?",
          "déterminants et instruments de la gestion des résultats comptables: étude empirique sur un échantillon d'entreprises françaises cotées",
          "gestion des résultats comptables et structure de l'actionnariat: le cas français",
          "la gestion du résultat comptable autour d'un changement de dirigeant en france",
          "gestion des résultats, contrôle et implication familiale au sein de la gouvernance",
          "quels sont les effets de la pression exercée par les analystes financiers? le cas carrefour",
          "gestion des résultats comptables: l'influence de la politique financière, de la performance et du contrôle",
          "final reporting of monitoring results in all three sites: deliverable d. 3.8",
          "l'impact informationnel de l'alerte aux résultats sur l'annonce du résultat annuel",
          "une analyse du comportement d'achat du consommateur en contexte multi-canaux: contribution des variables temps et confiance; application au domaine …",
          "l'hybridation des instruments de gestion. l'exemple du pilotage de la performance universitaire en france",
          "code de gouvernance et gestion des résultats comptables: le cas des sociétés françaises cotées",
          "les cessions d'actifs: un moyen de gérer le résultat comptable?",
          "cessions d'actifs et gestion des résultats comptables: le cas français",
          "bonne instrumentation et bons usages: comment éviter l'instrumentalisation dans le développement des pratiques de gestion?",
          "maturité de la dette et structure de l'actionnariat-debt maturity and ownership structure",
          "maturité de la dette et structure de l'actionnariat",
          "vers une autre approche de la gestion des fins de carrière?",
          "performance comptable et gestion des résultats",
          null
         ],
         "marker": {
          "opacity": 0.5,
          "size": 5
         },
         "mode": "markers+text",
         "name": "Gestion des Résultats Comptables en France",
         "text": [
          "",
          "",
          "",
          "",
          "",
          "",
          "",
          "",
          "",
          "",
          "",
          "",
          "",
          "",
          "",
          "",
          "",
          "",
          "",
          "",
          "",
          "",
          "",
          "",
          "Gestion des Résultats Comptables en France"
         ],
         "textfont": {
          "size": 12
         },
         "type": "scattergl",
         "x": [
          9.841346,
          10.248477,
          9.653514,
          10.055201,
          9.696733,
          9.943228,
          10.200417,
          9.99935,
          9.717797,
          9.7435875,
          9.582166,
          10.012553,
          10.370272,
          10.230427,
          10.142772,
          10.062255,
          10.03197,
          10.004466,
          10.079071,
          10.117954,
          10.407551,
          9.901019,
          9.26369,
          10.147184,
          9.977208
         ],
         "y": [
          6.136658,
          5.8409805,
          6.5622525,
          5.980507,
          5.767933,
          6.042732,
          5.8411965,
          6.0429106,
          5.8515673,
          6.157189,
          6.979733,
          6.225891,
          5.763111,
          5.8647766,
          5.730726,
          5.944258,
          6.0647607,
          6.077056,
          5.959139,
          5.9457593,
          3.4516532,
          6.1716323,
          6.3179064,
          5.963515,
          5.94516
         ]
        },
        {
         "hoverinfo": "text",
         "hovertext": [
          "initiation à l'algorithmique et aux structures de données en c",
          "fracture toughness and flexural strength of sm (co, fe, cu, zr) 7− 8 magnetic alloys",
          "a theoretical study on shape control of arbitrary lay-up laminates using piezoelectric actuators",
          "data acquisition and processing based on the multi-microcomputers data communication system for the physics experiments of hl-1 tokamak",
          "fatigue effects in bulk lead-zirconate-titanate",
          "fatigue anisotropy in lead-zirconate-titanate",
          "dynamic punch shear behavior of unidirectional and plain weave s-2 glass/sc15 composites",
          "high strength soft magnetic composites",
          "continuous chemical operations and modifications on magnetic γ-fe 2 o 3 nanoparticles confined in nanoliter droplets for the assembly of fluorescent and magnetic …",
          "numerical simulation of discrete particles in fluidized bed with immersed tube",
          "mechanical properties of magnetic intermetallic materials",
          "erosion investigation of dimple wall using erosion-coupled dynamic mesh",
          "wave dispersion in cylindrical tubes: applications to hopkinson pressure bar experimental techniques",
          "cured shape of cross-ply composite thin shells",
          "la maitrise des algorithmes pour éviter des dérives",
          "initiation à l'algorithmique et à la programmation en c-3e éd.: cours avec 129 exercices corrigés",
          "métaheuristiques, modèles mathématiques, modèles d'évaluation de performances pour le problème d'ordonnancement de projets sous contraintes de …",
          "a model for shape control of cross-ply laminated shells using a piezoelectric actuator",
          "fatigue studies in compensated bulk lead zirconate titanate",
          "cfd-dem simulation of bubbling and particle mixing properties in pulsed jet tluidized bed",
          "theoretical study on shape control of thin cross-ply laminates using piezoelectric actuators",
          "influence of transverse shearing on the cured shape of cross-ply unsymmetrical lamina",
          "the study on reaction performance of viscoelastic gelled acid fracturing fluid",
          null
         ],
         "marker": {
          "opacity": 0.5,
          "size": 5
         },
         "mode": "markers+text",
         "name": "Contrôle de Forme des Plis Croisés Piezoélectriques",
         "text": [
          "",
          "",
          "",
          "",
          "",
          "",
          "",
          "",
          "",
          "",
          "",
          "",
          "",
          "",
          "",
          "",
          "",
          "",
          "",
          "",
          "",
          "",
          "",
          "Contrôle de Forme des Plis Croisés Piezoélectriques"
         ],
         "textfont": {
          "size": 12
         },
         "type": "scattergl",
         "x": [
          3.8018925,
          4.504738,
          4.1514587,
          3.8984015,
          4.6466904,
          4.6588326,
          4.336877,
          4.382759,
          4.5579185,
          4.05414,
          4.4968624,
          3.8113747,
          4.118985,
          4.2348313,
          3.7792966,
          3.856183,
          4.240511,
          4.2082176,
          4.6380835,
          4.0952053,
          4.274509,
          4.1721773,
          4.16551,
          4.221107
         ],
         "y": [
          6.0923367,
          4.752534,
          4.967228,
          5.656251,
          4.6976194,
          4.6803017,
          4.8407507,
          4.8263044,
          4.713245,
          5.504993,
          4.750573,
          5.0339513,
          5.4229937,
          4.9176745,
          6.0516386,
          6.1163745,
          6.0937037,
          4.915004,
          4.704535,
          5.6011357,
          4.8573813,
          4.949857,
          5.591282,
          5.2059855
         ]
        },
        {
         "hoverinfo": "text",
         "hovertext": [
          "les îles touristiques à la merci du changement climatique: une évaluation par un indice synthétique de vulnérabilité physique",
          "tendances et chocs climatiques à la réunion: utilisation de la base cru ts 3.21",
          "a new assessment for the development level of the french overseas economies by implementing the «hybrid» human development index",
          "le tourisme insulaire à la merci du changement climatique: une évaluation de la vulnérabilité par les indices synthétiques",
          "electrical conductivity along phase diagram of the critical mixture isobutyric acid ã¢ â€ â “water with added (k+, cl-) ions",
          "tendances et chocs climatiques à la réunion: utilisation de la base cru ts version 3.21",
          "quantification du devenir des nitrates dans les hydrogéosystèmes hétérogènes fissurés: périmètre expérimental de kerveldreac'h (finistère-29)",
          "the effect of wastewater treatment plant in low temperature north",
          "la vulnérabilité physique au changement climatique comparée des petites îles du sud-ouest de l'océan indien",
          "mesures de la vulnérabilité au changement climatique: quelques illustrations ultramarines",
          "vulnérabilités au changement climatique des outre-mer et des petits etats insulaires",
          "une mesure comparative de la vulnérabilité des territoires à l'activité cyclonique: le cas du vietnam",
          "inégalités et vulnérabilités en nouvelle-calédonie",
          "vulnérabilités comparées des économies ultramarines",
          "mesures de la vulnérabilité au changement climatique",
          "une nouvelle mesure du développement des économies ultramarines françaises à travers l'application de l'indicateur de développement humain «hybride»",
          "les inégalités hommes-femmes comparées dans les économies ultramarines françaises",
          "l'indicateur de vulnérabilité physique au changement climatique: quel rôle peut-il jouer dans la réflexion sur les politiques d'adaptation au changement …",
          "le tourisme insulaire à la merci du changement climatique",
          "le tourisme insulaire à la merci du changement climatique: une évaluation de la vulnérabilité par les indices synthétiques à poids endogènes",
          "le site expérimental de beauvais: un outil pour la caractérisation hydro-géophysique de la nappe de la craie (picardie, hauts-de-france)",
          "appréhender la vulnérabilité au changement climatique, du local au global. regards croisés",
          "vulnérabilités économique et environnementale comparées des économies ultramarines françaises",
          null
         ],
         "marker": {
          "opacity": 0.5,
          "size": 5
         },
         "mode": "markers+text",
         "name": "Vulnérabilité Insulaire face au Changement Climatique",
         "text": [
          "",
          "",
          "",
          "",
          "",
          "",
          "",
          "",
          "",
          "",
          "",
          "",
          "",
          "",
          "",
          "",
          "",
          "",
          "",
          "",
          "",
          "",
          "",
          "Vulnérabilité Insulaire face au Changement Climatique"
         ],
         "textfont": {
          "size": 12
         },
         "type": "scattergl",
         "x": [
          7.2768073,
          6.965535,
          8.635577,
          7.3970265,
          6.967895,
          6.9339614,
          7.0645366,
          7.1504445,
          7.0934925,
          7.1363034,
          7.230454,
          7.584125,
          7.365417,
          7.487042,
          7.1655893,
          7.666103,
          7.6202583,
          7.2526145,
          7.3528366,
          7.4058537,
          7.0636897,
          7.185311,
          7.527638,
          7.3273263
         ],
         "y": [
          4.7671742,
          5.3060055,
          5.0119963,
          4.6456413,
          4.7620296,
          5.3624496,
          4.829002,
          4.6777253,
          4.834274,
          5.0193496,
          4.9329863,
          5.3150187,
          5.2442064,
          5.1673484,
          4.9461446,
          5.350647,
          5.4395785,
          5.003542,
          4.831219,
          4.694511,
          4.809864,
          4.944019,
          5.2570367,
          5.0065985
         ]
        },
        {
         "hoverinfo": "text",
         "hovertext": [
          "is there a trade‐off between environmental performance and financial resilience? international evidence from the subprime crisis",
          "speculative bubbles dynamics and the role of anchoring",
          "gold in a portfolio: why, when, and where?",
          "bubbles and incentives: an experiment on asset markets",
          "laboratory investigation of asset market efficiency: 3 essays",
          "bubbles and incentives",
          "harvesting commodity curve premiums through roll-yield differentials",
          "plants and patents: what is at stake?",
          "climate change exposure and internal carbon pricing adoption",
          "commodity dependence and optimal asset allocation",
          "practical applications of gold in a portfolio: why, when, and where?",
          "does price influence assessment of fundamental value? experimental evidence",
          "data-driven robust optimization with application to portfolio management",
          "greenwashing and product market competition",
          "does more finance mean more inequality in times of crisis?",
          "eco-anxiety, connectedness to nature &green equity investments",
          "how to make prices evolve in a crisis? the case of a fuel shortage",
          "robust portfolio protection: a scenarios-based approach",
          "the safe-haven and hedging properties of agricultural commodities",
          "individual risk attitude and asset market behaviour",
          "temporal stability of risk preference measures",
          "investor attention to fossil fuel divestment movement and stock returns",
          null
         ],
         "marker": {
          "opacity": 0.5,
          "size": 5
         },
         "mode": "markers+text",
         "name": "Gestion de Portefeuille et Comportement du Marché d'Actifs",
         "text": [
          "",
          "",
          "",
          "",
          "",
          "",
          "",
          "",
          "",
          "",
          "",
          "",
          "",
          "",
          "",
          "",
          "",
          "",
          "",
          "",
          "",
          "",
          "Gestion de Portefeuille et Comportement du Marché d'Actifs"
         ],
         "textfont": {
          "size": 12
         },
         "type": "scattergl",
         "x": [
          8.645631,
          8.76642,
          9.231216,
          9.092139,
          9.137933,
          8.819272,
          9.013222,
          9.035032,
          8.41803,
          9.06877,
          9.249333,
          8.781318,
          9.292229,
          8.829332,
          8.607691,
          8.797294,
          8.506464,
          9.326932,
          9.110614,
          9.405933,
          9.393379,
          8.969689,
          8.977176
         ],
         "y": [
          4.1028214,
          3.632457,
          3.5355637,
          3.5156412,
          3.603114,
          3.514236,
          3.6013637,
          4.258167,
          3.8906848,
          3.623072,
          3.5143843,
          3.4126291,
          3.5927246,
          4.0401816,
          3.9131339,
          4.0323896,
          3.7661192,
          3.6128368,
          3.6878736,
          3.4823186,
          3.6149347,
          3.7481942,
          3.7134018
         ]
        },
        {
         "hoverinfo": "text",
         "hovertext": [
          "do esg controversies matter for firm value? evidence from international data",
          "corporate social responsibility and bank efficiency",
          "corporate social responsibility and the value of target firms: international evidence",
          "csr and stock mispricing",
          "csr performance and the value of cash holdings: international evidence",
          "does csr influence m&a target choices?",
          "csr performance, dividend payout and governance mechanisms",
          "unpleasant arithmetic of socially responsible investment",
          "does corportae social responsibility have an impact on financing decisions?",
          "are dividends detrimental to corporate social performance?",
          "csr performance and the value of cash holdings: international evidence—philpapers",
          "disentangling financial and ethical effects of corporate social responsibility on firm value",
          "does the market value the social dimension? international evidence",
          "corporate social responsibility and financing decisions",
          "corporate social responsibility and capital markets: evidence from mergers and acquisitions",
          "are socially responsible companies harder to arbitrage?",
          "corporate social responsibility and m&a uncertainty",
          "pay dividends or invest in corporate social responsibility: is there an inverted-u relationship?",
          "does csr impact premiums in m&a transactions?",
          null
         ],
         "marker": {
          "opacity": 0.5,
          "size": 5
         },
         "mode": "markers+text",
         "name": "Responsabilité Sociale et Valeur d'Entreprise Internationale",
         "text": [
          "",
          "",
          "",
          "",
          "",
          "",
          "",
          "",
          "",
          "",
          "",
          "",
          "",
          "",
          "",
          "",
          "",
          "",
          "",
          "Responsabilité Sociale et Valeur d'Entreprise Internationale"
         ],
         "textfont": {
          "size": 12
         },
         "type": "scattergl",
         "x": [
          9.676993,
          9.329706,
          9.242761,
          9.588499,
          9.575945,
          9.47263,
          9.641675,
          9.05047,
          9.118567,
          9.253193,
          9.617412,
          9.132899,
          8.85824,
          9.2012205,
          9.284198,
          9.099021,
          9.249017,
          9.139794,
          9.564171,
          9.320865
         ],
         "y": [
          3.1838589,
          2.7682195,
          2.7736876,
          2.5088322,
          2.6212325,
          2.612593,
          2.562995,
          2.9816487,
          2.911931,
          2.7352371,
          2.6056678,
          2.8645778,
          3.1350207,
          2.8330061,
          2.7496002,
          2.8508022,
          2.7865682,
          2.8260205,
          2.5679357,
          2.7831283
         ]
        },
        {
         "hoverinfo": "text",
         "hovertext": [
          "les tensions de rôles liées à la distribution chez les agriculteurs de moyenne montagne",
          "l'émergence du leadership reconnu dans le canal de distribution inversée: le cas des déchets industriels",
          "introduction. les dynamiques collectives territoriales, nouvelles sources d'inspiration managériale?",
          "les défaillances des pme en zone rurale: une approche descriptive et explicative appliquée aux pme du département du cantal (france)",
          "the challenges of sustainable distribution channels in rural areas: the importance of the leader [difficultés des canaux de distribution alimentaire en territoire rural: l' …",
          "stratégie collective logistique des agriculteurs: une difficile équation",
          "contre-pouvoir et stratégies collectives: comment contrer le pouvoir d'un puissant partenaire dans le canal de distribution?",
          "the challenges of sustainable distribution channels in rural areas: the importance of the leader",
          "role tensions linked to the distribution among mid-mountain farmers [les tensions de rôle liées-à la distribution chez les agriculteurs de moyenne montagne role …",
          "la logistique des déchets industriels entre rivalité et partenariat: une analyse des formes collectives de contrepouvoir",
          "difficultés des canaux de distribution alimentaire en territoire rural: l'importance du leader",
          "failures of smes in rural areas: a descriptive and explanatory approach applied to smes in the cantal department of france",
          "lorsque la filtration culturelle modifie le jeu stratégique: les tribulations d'un grand distributeur en roumanie",
          "pouvoir et leadership dans les canaux de distribution: la logistique face aux jeux des acteurs",
          "counterpower and collective strategy. how to counter a powerful partner in the distribution channel?",
          "role tensions linked to the distribution among mid-mountain farmers",
          null
         ],
         "marker": {
          "opacity": 0.5,
          "size": 5
         },
         "mode": "markers+text",
         "name": "Distribution Durable et Tensions en Zone Rurale",
         "text": [
          "",
          "",
          "",
          "",
          "",
          "",
          "",
          "",
          "",
          "",
          "",
          "",
          "",
          "",
          "",
          "",
          "Distribution Durable et Tensions en Zone Rurale"
         ],
         "textfont": {
          "size": 12
         },
         "type": "scattergl",
         "x": [
          7.4247775,
          7.408545,
          7.8388443,
          7.211903,
          7.0268707,
          7.4989305,
          7.576807,
          7.0349355,
          7.25671,
          7.4542336,
          7.1402264,
          6.9629593,
          7.801395,
          7.542634,
          7.1073446,
          7.1541915,
          7.3400817
         ],
         "y": [
          7.1779327,
          7.0907927,
          6.782303,
          6.791333,
          7.098901,
          7.1377344,
          7.045888,
          7.0448046,
          7.2056007,
          6.940847,
          7.008204,
          6.888857,
          7.2420363,
          7.184572,
          7.160028,
          7.130371,
          7.058138
         ]
        },
        {
         "hoverinfo": "text",
         "hovertext": [
          "determinants of intra-region and extra-region foreign direct investment inflow in asean: a spatial econometric analysis",
          "the transactions demand for money in the presence of currency substitution: evidence from vietnam",
          "impact of the real exchange rate misalignments on the performance of the manufacturing sector in senegal [l'impact des déséquilibres du taux de change réel sur …",
          "heterogeneous aid effects on tax revenues: accounting for government stability in waemu countries",
          "the modification of the chinese exchange rate policy. its rationale, extent and recent developments",
          "measuring macroeconomic instability: a critical survey illustrated with exports series",
          "fighting inflation in a dollarized economy: the case of vietnam",
          "la dé-dollarisation: les expériences du vietnam, de l'ukraine et de la roumanie",
          "impact of real exchange rate misalignments on the performance of the manufacturing sector in senegal",
          "democracy and exchange rate overvaluation: the case of madagascar",
          "determinants of foreign direct investment in vietnamese provinces: a spatial econometric analysis",
          "regional stock market integration in singapore: a multivariate analysis",
          "correction to: determinants of intra-region and extra-region foreign direct investment inflow in asean: a spatial econometric analysis",
          "currency substitution and the transactions demand for money",
          null
         ],
         "marker": {
          "opacity": 0.5,
          "size": 5
         },
         "mode": "markers+text",
         "name": "Analyse Économétrique Spatiale du Taux de Change",
         "text": [
          "",
          "",
          "",
          "",
          "",
          "",
          "",
          "",
          "",
          "",
          "",
          "",
          "",
          "",
          "Analyse Économétrique Spatiale du Taux de Change"
         ],
         "textfont": {
          "size": 12
         },
         "type": "scattergl",
         "x": [
          7.997191,
          7.9145656,
          7.8610134,
          8.107081,
          7.872698,
          8.161396,
          7.952257,
          7.8163657,
          7.8185043,
          7.8382797,
          7.958632,
          8.05701,
          7.9248185,
          8.0006275,
          7.948603
         ],
         "y": [
          3.9924448,
          3.8118656,
          3.8584483,
          4.1125197,
          3.8029463,
          4.26964,
          3.8129485,
          4.058221,
          3.8093686,
          3.8348684,
          4.008886,
          3.9050646,
          3.9318507,
          3.7297523,
          3.9242015
         ]
        },
        {
         "hoverinfo": "text",
         "hovertext": [
          "internationalisation at home. a collection of pedagogical approaches to develop students' intercultural competences",
          "selling internationally: skills networks as a service to smes",
          "'gérer une situation interculturelle': une compétence valorisant le développement interculturel de l'étudiant à l'université",
          "impact de la variable interculturelle sur les relations d'un distributeur français avec ses partenaires étrangers: le cas de carrefour en roumanie",
          "selling internationally: skills networks as a service to smes [vendre à l'international: des compétences en réseau au service des pme]",
          "selling abroad: networking skills can benefit smes",
          "'gérer une situation interculturelle'",
          "international distribution: a cross-cultural reading of intermediation",
          "gamification in international business education and cross-cultural and sales competences: from theory to practice",
          "variable interculturelle et relations partenariales du distributeur: entre cultures nationale et organisationnelle",
          "vision perceptuelle de la variable culturelle chez un distributeur internationalisé: le prisme du discours des managers",
          "internationalizing sales research: current status, opportunities, and challenges",
          "bewaltigung interkultureller situationen: eine kompetenz zur weiterentwicklung der interkulturellen fahigkeiten von studie-renden an universitaten [coping …",
          null
         ],
         "marker": {
          "opacity": 0.5,
          "size": 5
         },
         "mode": "markers+text",
         "name": "Compétences Interculturelles pour Vendre Internationalement",
         "text": [
          "",
          "",
          "",
          "",
          "",
          "",
          "",
          "",
          "",
          "",
          "",
          "",
          "",
          "Compétences Interculturelles pour Vendre Internationalement"
         ],
         "textfont": {
          "size": 12
         },
         "type": "scattergl",
         "x": [
          7.307466,
          7.073053,
          7.49899,
          7.5423903,
          7.1395464,
          7.0714684,
          7.61059,
          7.2845817,
          7.148975,
          7.445225,
          7.4981284,
          6.9516015,
          7.6438613,
          7.324298
         ],
         "y": [
          8.124202,
          8.202043,
          7.9843965,
          7.750896,
          8.13606,
          8.143815,
          7.7239513,
          7.928074,
          8.248828,
          7.711517,
          7.8006988,
          8.165135,
          8.139018,
          8.00451
         ]
        },
        {
         "hoverinfo": "text",
         "hovertext": [
          "les risques psychosociaux (rps) sur le lieu de travail au maroc: une revue de littérature",
          "la formation des managers comme outil de prévention et de détection des situations de harcèlement sexuel",
          "la variable culturelle peut-elle jouer un rôle dans la survenance du harcèlement moral au travail?",
          "harcèlement moral des travailleurs sociaux: une étude exploratoire dans le contexte culturel du secteur public marocain",
          "psychosocial risks (psr) in the workplace in morocco: a review of literature",
          "le harcèlement moral dans les entreprises",
          "la stipulation d'indisponibilité",
          "le harcèlement moral en milieu hospitalier",
          "le harcèlement moral des travailleurs sociaux: une étude exploratoire dans le contexte marocain",
          "les conditions de la coexistence d'une marque et d'une dénomination variétale",
          "principaux déterminants des risques psychosociaux (rps) sur le lieu de travail au maroc",
          "déterminants organisationnels et conséquences du harcèlement moral au travail (hmt) au maroc: une approche exploratoire",
          null
         ],
         "marker": {
          "opacity": 0.5,
          "size": 5
         },
         "mode": "markers+text",
         "name": "Harcèlement Moral au Travail au Maroc : Explorations",
         "text": [
          "",
          "",
          "",
          "",
          "",
          "",
          "",
          "",
          "",
          "",
          "",
          "",
          "Harcèlement Moral au Travail au Maroc : Explorations"
         ],
         "textfont": {
          "size": 12
         },
         "type": "scattergl",
         "x": [
          10.22923,
          10.1411295,
          10.102609,
          10.105867,
          10.074681,
          10.222941,
          9.808963,
          10.189984,
          10.218399,
          9.96924,
          10.146327,
          10.190736,
          10.116675
         ],
         "y": [
          8.25266,
          8.210101,
          8.215584,
          8.244776,
          8.105876,
          8.159945,
          7.8323483,
          8.211502,
          8.159762,
          8.104456,
          8.140087,
          8.208676,
          8.153813
         ]
        },
        {
         "hoverinfo": "text",
         "hovertext": [
          "the public brand between new practices and public values",
          "le gestionnaire public au cœur de logiques contradictoires: le cas des centres de services partagés",
          "vers un management des tensions de gouvernance publique dans les établissements de santé?",
          "promotion des activités physiques et lutte contre la sédentarité. diagnostic territorial et enjeux d'action publique. l'exemple de billom communauté",
          "public values on the public/private boundary: the case of civil servant recruitment examinations in china",
          "public values: between stability and dynamism. an exploration of moroccan public management [les valeurs publiques: entre stabilité et dynamisme. une …",
          "the characterisation of the values of public ethics: application to territorial public management in the province of guangxi (china)",
          "public management in ideas: a field under construction?",
          "vers un management des tensions de gouvernance publique dans les établissements de santé? une proposition de réponse par l'analyse des proximités",
          "la caractérisation des valeurs d'éthique publique: application au management public territorial de la province du guangxi (chine)",
          "public values: between stability and dynamism. an exploration of moroccan public management",
          null
         ],
         "marker": {
          "opacity": 0.5,
          "size": 5
         },
         "mode": "markers+text",
         "name": "Gestion Publique: Valeurs, Dynamisme et Territorialité",
         "text": [
          "",
          "",
          "",
          "",
          "",
          "",
          "",
          "",
          "",
          "",
          "",
          "Gestion Publique: Valeurs, Dynamisme et Territorialité"
         ],
         "textfont": {
          "size": 12
         },
         "type": "scattergl",
         "x": [
          8.968875,
          9.179198,
          9.528563,
          9.387792,
          9.35555,
          9.485015,
          9.399998,
          8.829222,
          9.532917,
          9.424871,
          9.468126,
          9.3236475
         ],
         "y": [
          8.564359,
          8.614568,
          8.522036,
          8.869011,
          8.678642,
          8.433677,
          8.626859,
          8.503925,
          8.533452,
          8.619852,
          8.576255,
          8.594786
         ]
        },
        {
         "hoverinfo": "text",
         "hovertext": [
          "l'acceptation des applications mobiles de maas: une application de l'utaut2 au contexte des villes intelligentes françaises",
          "an acceleration vector variance based method for energy expenditure estimation in real-life environment with a smartphone/smartwatch integration",
          "emouverecherche: the first scientific application to promote light-intensity activity for the prevention of chronic diseases",
          "les facteurs favorisant l'adoption de la mobilité douce lors de la visite de sites archéologiques: une extension de la théorie du comportement planifié appliquée au cas …",
          "a smartphone-driven methodology for estimating physical activities and energy expenditure in free living conditions",
          "systematic review of covid-19-related physical activity-based rehabilitations: benefits to be confirmed by more robust methodological approaches",
          "quels sont les déterminants de l'acceptation des applications mobiles de maas? une application de l'utaut2 au contexte des villes intelligentes françaises",
          "an energy-saving algorithm for energy expenditure estimation with a smartphone sensor based approach: a contribution to the mobility measurement in e-health",
          "use of smartphone accelerometers and signal energy for estimating energy expenditure in daily-living conditions",
          "acceptance of maas mobile applications: an application of utaut2 in the context of french smart cities",
          null
         ],
         "marker": {
          "opacity": 0.5,
          "size": 5
         },
         "mode": "markers+text",
         "name": "Estimation de dépense énergétique via Smartphone et UTAUT2",
         "text": [
          "",
          "",
          "",
          "",
          "",
          "",
          "",
          "",
          "",
          "",
          "Estimation de dépense énergétique via Smartphone et UTAUT2"
         ],
         "textfont": {
          "size": 12
         },
         "type": "scattergl",
         "x": [
          7.440552,
          8.00579,
          8.51908,
          7.3556194,
          8.0016985,
          8.5356,
          7.412757,
          7.956085,
          8.03909,
          7.3973913,
          7.8663664
         ],
         "y": [
          10.032143,
          10.221818,
          10.038606,
          9.868675,
          10.239831,
          10.056362,
          10.077367,
          10.255055,
          10.290589,
          10.090633,
          10.117108
         ]
        }
       ],
       "layout": {
        "annotations": [
         {
          "showarrow": false,
          "text": "D1",
          "x": 2.2679529905319216,
          "y": 7.507315212488175,
          "yshift": 10
         },
         {
          "showarrow": false,
          "text": "D2",
          "x": 7.332045328617095,
          "xshift": 10,
          "y": 12.882123041152955
         }
        ],
        "height": 750,
        "shapes": [
         {
          "line": {
           "color": "#CFD8DC",
           "width": 2
          },
          "type": "line",
          "x0": 7.332045328617095,
          "x1": 7.332045328617095,
          "y0": 2.1325073838233948,
          "y1": 12.882123041152955
         },
         {
          "line": {
           "color": "#9E9E9E",
           "width": 2
          },
          "type": "line",
          "x0": 2.2679529905319216,
          "x1": 12.39613766670227,
          "y0": 7.507315212488175,
          "y1": 7.507315212488175
         }
        ],
        "template": {
         "data": {
          "bar": [
           {
            "error_x": {
             "color": "rgb(36,36,36)"
            },
            "error_y": {
             "color": "rgb(36,36,36)"
            },
            "marker": {
             "line": {
              "color": "white",
              "width": 0.5
             },
             "pattern": {
              "fillmode": "overlay",
              "size": 10,
              "solidity": 0.2
             }
            },
            "type": "bar"
           }
          ],
          "barpolar": [
           {
            "marker": {
             "line": {
              "color": "white",
              "width": 0.5
             },
             "pattern": {
              "fillmode": "overlay",
              "size": 10,
              "solidity": 0.2
             }
            },
            "type": "barpolar"
           }
          ],
          "carpet": [
           {
            "aaxis": {
             "endlinecolor": "rgb(36,36,36)",
             "gridcolor": "white",
             "linecolor": "white",
             "minorgridcolor": "white",
             "startlinecolor": "rgb(36,36,36)"
            },
            "baxis": {
             "endlinecolor": "rgb(36,36,36)",
             "gridcolor": "white",
             "linecolor": "white",
             "minorgridcolor": "white",
             "startlinecolor": "rgb(36,36,36)"
            },
            "type": "carpet"
           }
          ],
          "choropleth": [
           {
            "colorbar": {
             "outlinewidth": 1,
             "tickcolor": "rgb(36,36,36)",
             "ticks": "outside"
            },
            "type": "choropleth"
           }
          ],
          "contour": [
           {
            "colorbar": {
             "outlinewidth": 1,
             "tickcolor": "rgb(36,36,36)",
             "ticks": "outside"
            },
            "colorscale": [
             [
              0,
              "#440154"
             ],
             [
              0.1111111111111111,
              "#482878"
             ],
             [
              0.2222222222222222,
              "#3e4989"
             ],
             [
              0.3333333333333333,
              "#31688e"
             ],
             [
              0.4444444444444444,
              "#26828e"
             ],
             [
              0.5555555555555556,
              "#1f9e89"
             ],
             [
              0.6666666666666666,
              "#35b779"
             ],
             [
              0.7777777777777778,
              "#6ece58"
             ],
             [
              0.8888888888888888,
              "#b5de2b"
             ],
             [
              1,
              "#fde725"
             ]
            ],
            "type": "contour"
           }
          ],
          "contourcarpet": [
           {
            "colorbar": {
             "outlinewidth": 1,
             "tickcolor": "rgb(36,36,36)",
             "ticks": "outside"
            },
            "type": "contourcarpet"
           }
          ],
          "heatmap": [
           {
            "colorbar": {
             "outlinewidth": 1,
             "tickcolor": "rgb(36,36,36)",
             "ticks": "outside"
            },
            "colorscale": [
             [
              0,
              "#440154"
             ],
             [
              0.1111111111111111,
              "#482878"
             ],
             [
              0.2222222222222222,
              "#3e4989"
             ],
             [
              0.3333333333333333,
              "#31688e"
             ],
             [
              0.4444444444444444,
              "#26828e"
             ],
             [
              0.5555555555555556,
              "#1f9e89"
             ],
             [
              0.6666666666666666,
              "#35b779"
             ],
             [
              0.7777777777777778,
              "#6ece58"
             ],
             [
              0.8888888888888888,
              "#b5de2b"
             ],
             [
              1,
              "#fde725"
             ]
            ],
            "type": "heatmap"
           }
          ],
          "heatmapgl": [
           {
            "colorbar": {
             "outlinewidth": 1,
             "tickcolor": "rgb(36,36,36)",
             "ticks": "outside"
            },
            "colorscale": [
             [
              0,
              "#440154"
             ],
             [
              0.1111111111111111,
              "#482878"
             ],
             [
              0.2222222222222222,
              "#3e4989"
             ],
             [
              0.3333333333333333,
              "#31688e"
             ],
             [
              0.4444444444444444,
              "#26828e"
             ],
             [
              0.5555555555555556,
              "#1f9e89"
             ],
             [
              0.6666666666666666,
              "#35b779"
             ],
             [
              0.7777777777777778,
              "#6ece58"
             ],
             [
              0.8888888888888888,
              "#b5de2b"
             ],
             [
              1,
              "#fde725"
             ]
            ],
            "type": "heatmapgl"
           }
          ],
          "histogram": [
           {
            "marker": {
             "line": {
              "color": "white",
              "width": 0.6
             }
            },
            "type": "histogram"
           }
          ],
          "histogram2d": [
           {
            "colorbar": {
             "outlinewidth": 1,
             "tickcolor": "rgb(36,36,36)",
             "ticks": "outside"
            },
            "colorscale": [
             [
              0,
              "#440154"
             ],
             [
              0.1111111111111111,
              "#482878"
             ],
             [
              0.2222222222222222,
              "#3e4989"
             ],
             [
              0.3333333333333333,
              "#31688e"
             ],
             [
              0.4444444444444444,
              "#26828e"
             ],
             [
              0.5555555555555556,
              "#1f9e89"
             ],
             [
              0.6666666666666666,
              "#35b779"
             ],
             [
              0.7777777777777778,
              "#6ece58"
             ],
             [
              0.8888888888888888,
              "#b5de2b"
             ],
             [
              1,
              "#fde725"
             ]
            ],
            "type": "histogram2d"
           }
          ],
          "histogram2dcontour": [
           {
            "colorbar": {
             "outlinewidth": 1,
             "tickcolor": "rgb(36,36,36)",
             "ticks": "outside"
            },
            "colorscale": [
             [
              0,
              "#440154"
             ],
             [
              0.1111111111111111,
              "#482878"
             ],
             [
              0.2222222222222222,
              "#3e4989"
             ],
             [
              0.3333333333333333,
              "#31688e"
             ],
             [
              0.4444444444444444,
              "#26828e"
             ],
             [
              0.5555555555555556,
              "#1f9e89"
             ],
             [
              0.6666666666666666,
              "#35b779"
             ],
             [
              0.7777777777777778,
              "#6ece58"
             ],
             [
              0.8888888888888888,
              "#b5de2b"
             ],
             [
              1,
              "#fde725"
             ]
            ],
            "type": "histogram2dcontour"
           }
          ],
          "mesh3d": [
           {
            "colorbar": {
             "outlinewidth": 1,
             "tickcolor": "rgb(36,36,36)",
             "ticks": "outside"
            },
            "type": "mesh3d"
           }
          ],
          "parcoords": [
           {
            "line": {
             "colorbar": {
              "outlinewidth": 1,
              "tickcolor": "rgb(36,36,36)",
              "ticks": "outside"
             }
            },
            "type": "parcoords"
           }
          ],
          "pie": [
           {
            "automargin": true,
            "type": "pie"
           }
          ],
          "scatter": [
           {
            "fillpattern": {
             "fillmode": "overlay",
             "size": 10,
             "solidity": 0.2
            },
            "type": "scatter"
           }
          ],
          "scatter3d": [
           {
            "line": {
             "colorbar": {
              "outlinewidth": 1,
              "tickcolor": "rgb(36,36,36)",
              "ticks": "outside"
             }
            },
            "marker": {
             "colorbar": {
              "outlinewidth": 1,
              "tickcolor": "rgb(36,36,36)",
              "ticks": "outside"
             }
            },
            "type": "scatter3d"
           }
          ],
          "scattercarpet": [
           {
            "marker": {
             "colorbar": {
              "outlinewidth": 1,
              "tickcolor": "rgb(36,36,36)",
              "ticks": "outside"
             }
            },
            "type": "scattercarpet"
           }
          ],
          "scattergeo": [
           {
            "marker": {
             "colorbar": {
              "outlinewidth": 1,
              "tickcolor": "rgb(36,36,36)",
              "ticks": "outside"
             }
            },
            "type": "scattergeo"
           }
          ],
          "scattergl": [
           {
            "marker": {
             "colorbar": {
              "outlinewidth": 1,
              "tickcolor": "rgb(36,36,36)",
              "ticks": "outside"
             }
            },
            "type": "scattergl"
           }
          ],
          "scattermapbox": [
           {
            "marker": {
             "colorbar": {
              "outlinewidth": 1,
              "tickcolor": "rgb(36,36,36)",
              "ticks": "outside"
             }
            },
            "type": "scattermapbox"
           }
          ],
          "scatterpolar": [
           {
            "marker": {
             "colorbar": {
              "outlinewidth": 1,
              "tickcolor": "rgb(36,36,36)",
              "ticks": "outside"
             }
            },
            "type": "scatterpolar"
           }
          ],
          "scatterpolargl": [
           {
            "marker": {
             "colorbar": {
              "outlinewidth": 1,
              "tickcolor": "rgb(36,36,36)",
              "ticks": "outside"
             }
            },
            "type": "scatterpolargl"
           }
          ],
          "scatterternary": [
           {
            "marker": {
             "colorbar": {
              "outlinewidth": 1,
              "tickcolor": "rgb(36,36,36)",
              "ticks": "outside"
             }
            },
            "type": "scatterternary"
           }
          ],
          "surface": [
           {
            "colorbar": {
             "outlinewidth": 1,
             "tickcolor": "rgb(36,36,36)",
             "ticks": "outside"
            },
            "colorscale": [
             [
              0,
              "#440154"
             ],
             [
              0.1111111111111111,
              "#482878"
             ],
             [
              0.2222222222222222,
              "#3e4989"
             ],
             [
              0.3333333333333333,
              "#31688e"
             ],
             [
              0.4444444444444444,
              "#26828e"
             ],
             [
              0.5555555555555556,
              "#1f9e89"
             ],
             [
              0.6666666666666666,
              "#35b779"
             ],
             [
              0.7777777777777778,
              "#6ece58"
             ],
             [
              0.8888888888888888,
              "#b5de2b"
             ],
             [
              1,
              "#fde725"
             ]
            ],
            "type": "surface"
           }
          ],
          "table": [
           {
            "cells": {
             "fill": {
              "color": "rgb(237,237,237)"
             },
             "line": {
              "color": "white"
             }
            },
            "header": {
             "fill": {
              "color": "rgb(217,217,217)"
             },
             "line": {
              "color": "white"
             }
            },
            "type": "table"
           }
          ]
         },
         "layout": {
          "annotationdefaults": {
           "arrowhead": 0,
           "arrowwidth": 1
          },
          "autotypenumbers": "strict",
          "coloraxis": {
           "colorbar": {
            "outlinewidth": 1,
            "tickcolor": "rgb(36,36,36)",
            "ticks": "outside"
           }
          },
          "colorscale": {
           "diverging": [
            [
             0,
             "rgb(103,0,31)"
            ],
            [
             0.1,
             "rgb(178,24,43)"
            ],
            [
             0.2,
             "rgb(214,96,77)"
            ],
            [
             0.3,
             "rgb(244,165,130)"
            ],
            [
             0.4,
             "rgb(253,219,199)"
            ],
            [
             0.5,
             "rgb(247,247,247)"
            ],
            [
             0.6,
             "rgb(209,229,240)"
            ],
            [
             0.7,
             "rgb(146,197,222)"
            ],
            [
             0.8,
             "rgb(67,147,195)"
            ],
            [
             0.9,
             "rgb(33,102,172)"
            ],
            [
             1,
             "rgb(5,48,97)"
            ]
           ],
           "sequential": [
            [
             0,
             "#440154"
            ],
            [
             0.1111111111111111,
             "#482878"
            ],
            [
             0.2222222222222222,
             "#3e4989"
            ],
            [
             0.3333333333333333,
             "#31688e"
            ],
            [
             0.4444444444444444,
             "#26828e"
            ],
            [
             0.5555555555555556,
             "#1f9e89"
            ],
            [
             0.6666666666666666,
             "#35b779"
            ],
            [
             0.7777777777777778,
             "#6ece58"
            ],
            [
             0.8888888888888888,
             "#b5de2b"
            ],
            [
             1,
             "#fde725"
            ]
           ],
           "sequentialminus": [
            [
             0,
             "#440154"
            ],
            [
             0.1111111111111111,
             "#482878"
            ],
            [
             0.2222222222222222,
             "#3e4989"
            ],
            [
             0.3333333333333333,
             "#31688e"
            ],
            [
             0.4444444444444444,
             "#26828e"
            ],
            [
             0.5555555555555556,
             "#1f9e89"
            ],
            [
             0.6666666666666666,
             "#35b779"
            ],
            [
             0.7777777777777778,
             "#6ece58"
            ],
            [
             0.8888888888888888,
             "#b5de2b"
            ],
            [
             1,
             "#fde725"
            ]
           ]
          },
          "colorway": [
           "#1F77B4",
           "#FF7F0E",
           "#2CA02C",
           "#D62728",
           "#9467BD",
           "#8C564B",
           "#E377C2",
           "#7F7F7F",
           "#BCBD22",
           "#17BECF"
          ],
          "font": {
           "color": "rgb(36,36,36)"
          },
          "geo": {
           "bgcolor": "white",
           "lakecolor": "white",
           "landcolor": "white",
           "showlakes": true,
           "showland": true,
           "subunitcolor": "white"
          },
          "hoverlabel": {
           "align": "left"
          },
          "hovermode": "closest",
          "mapbox": {
           "style": "light"
          },
          "paper_bgcolor": "white",
          "plot_bgcolor": "white",
          "polar": {
           "angularaxis": {
            "gridcolor": "rgb(232,232,232)",
            "linecolor": "rgb(36,36,36)",
            "showgrid": false,
            "showline": true,
            "ticks": "outside"
           },
           "bgcolor": "white",
           "radialaxis": {
            "gridcolor": "rgb(232,232,232)",
            "linecolor": "rgb(36,36,36)",
            "showgrid": false,
            "showline": true,
            "ticks": "outside"
           }
          },
          "scene": {
           "xaxis": {
            "backgroundcolor": "white",
            "gridcolor": "rgb(232,232,232)",
            "gridwidth": 2,
            "linecolor": "rgb(36,36,36)",
            "showbackground": true,
            "showgrid": false,
            "showline": true,
            "ticks": "outside",
            "zeroline": false,
            "zerolinecolor": "rgb(36,36,36)"
           },
           "yaxis": {
            "backgroundcolor": "white",
            "gridcolor": "rgb(232,232,232)",
            "gridwidth": 2,
            "linecolor": "rgb(36,36,36)",
            "showbackground": true,
            "showgrid": false,
            "showline": true,
            "ticks": "outside",
            "zeroline": false,
            "zerolinecolor": "rgb(36,36,36)"
           },
           "zaxis": {
            "backgroundcolor": "white",
            "gridcolor": "rgb(232,232,232)",
            "gridwidth": 2,
            "linecolor": "rgb(36,36,36)",
            "showbackground": true,
            "showgrid": false,
            "showline": true,
            "ticks": "outside",
            "zeroline": false,
            "zerolinecolor": "rgb(36,36,36)"
           }
          },
          "shapedefaults": {
           "fillcolor": "black",
           "line": {
            "width": 0
           },
           "opacity": 0.3
          },
          "ternary": {
           "aaxis": {
            "gridcolor": "rgb(232,232,232)",
            "linecolor": "rgb(36,36,36)",
            "showgrid": false,
            "showline": true,
            "ticks": "outside"
           },
           "baxis": {
            "gridcolor": "rgb(232,232,232)",
            "linecolor": "rgb(36,36,36)",
            "showgrid": false,
            "showline": true,
            "ticks": "outside"
           },
           "bgcolor": "white",
           "caxis": {
            "gridcolor": "rgb(232,232,232)",
            "linecolor": "rgb(36,36,36)",
            "showgrid": false,
            "showline": true,
            "ticks": "outside"
           }
          },
          "title": {
           "x": 0.05
          },
          "xaxis": {
           "automargin": true,
           "gridcolor": "rgb(232,232,232)",
           "linecolor": "rgb(36,36,36)",
           "showgrid": false,
           "showline": true,
           "ticks": "outside",
           "title": {
            "standoff": 15
           },
           "zeroline": false,
           "zerolinecolor": "rgb(36,36,36)"
          },
          "yaxis": {
           "automargin": true,
           "gridcolor": "rgb(232,232,232)",
           "linecolor": "rgb(36,36,36)",
           "showgrid": false,
           "showline": true,
           "ticks": "outside",
           "title": {
            "standoff": 15
           },
           "zeroline": false,
           "zerolinecolor": "rgb(36,36,36)"
          }
         }
        },
        "title": {
         "font": {
          "color": "Black",
          "size": 22
         },
         "text": "<b>Documents and Topics</b>",
         "x": 0.5,
         "xanchor": "center",
         "yanchor": "top"
        },
        "width": 1200,
        "xaxis": {
         "visible": false
        },
        "yaxis": {
         "visible": false
        }
       }
      }
     },
     "metadata": {},
     "output_type": "display_data"
    }
   ],
   "source": [
    "# Visualize the documents in 2-dimensional space and show the titles on hover instead of the abstracts\n",
    "fig = topic_model.visualize_documents(sentences,\n",
    "                                reduced_embeddings=reduced_embeddings,\n",
    "                                custom_labels=True)\n",
    "fig"
   ]
  },
  {
   "cell_type": "code",
   "execution_count": 14,
   "metadata": {},
   "outputs": [],
   "source": [
    "# On sauvagarde la fig html\n",
    "fig.write_html(\"output/visualize_documents_all.html\")"
   ]
  },
  {
   "cell_type": "code",
   "execution_count": 15,
   "metadata": {},
   "outputs": [
    {
     "data": {
      "application/vnd.jupyter.widget-view+json": {
       "model_id": "fe53cb0121ce4fe395f6cb0296cd673f",
       "version_major": 2,
       "version_minor": 0
      },
      "text/plain": [
       "Batches:   0%|          | 0/17 [00:00<?, ?it/s]"
      ]
     },
     "metadata": {},
     "output_type": "display_data"
    }
   ],
   "source": [
    "# Faire pour la période après 2013\n",
    "df_dates_sentences = df_dates_sentences[df_dates_sentences[\"Date\"] > 2013]\n",
    "\n",
    "dates = df_dates_sentences[\"Date\"].tolist()\n",
    "sentences = df_dates_sentences[\"Sentence\"].tolist()\n",
    "\n",
    "# Pre-calculate embeddings\n",
    "embeddings = embedding_model.encode(sentences, show_progress_bar=True)\n",
    "\n",
    "topics, probs = topic_model.fit_transform(sentences, embeddings)\n",
    "\n",
    "gpt_topic_labels = {topic: \" | \".join(list(zip(*values))[0]) for topic, values in topic_model.topic_aspects_[\"OpenAI\"].items()}\n",
    "gpt_topic_labels[-1] = \"Outlier Topic\"\n",
    "\n",
    "topic_model.set_topic_labels(gpt_topic_labels)\n",
    "\n",
    "# Reduce dimensionality of embeddings, this step is optional but much faster to perform iteratively:\n",
    "reduced_embeddings = UMAP(metric='cosine', random_state=42).fit_transform(embeddings)\n",
    "\n",
    "# Visualize the documents in 2-dimensional space and show the titles on hover instead of the abstracts\n",
    "fig = topic_model.visualize_documents(sentences,\n",
    "                                reduced_embeddings=reduced_embeddings,\n",
    "                                custom_labels=True)\n",
    "\n",
    "# On sauvagarde la fig html\n",
    "fig.write_html(\"output/visualize_documents_after_2013.html\")\n",
    "\n",
    "# Faire pour la période après 2018\n",
    "df_dates_sentences = df_dates_sentences[df_dates_sentences[\"Date\"] > 2018]\n",
    "\n",
    "dates = df_dates_sentences[\"Date\"].tolist()\n",
    "sentences = df_dates_sentences[\"Sentence\"].tolist()\n",
    "\n",
    "# Pre-calculate embeddings\n",
    "embeddings = embedding_model.encode(sentences, show_progress_bar=True)\n",
    "\n",
    "topics, probs = topic_model.fit_transform(sentences, embeddings)\n",
    "\n",
    "gpt_topic_labels = {topic: \" | \".join(list(zip(*values))[0]) for topic, values in topic_model.topic_aspects_[\"OpenAI\"].items()}\n",
    "gpt_topic_labels[-1] = \"Outlier Topic\"\n",
    "\n",
    "topic_model.set_topic_labels(gpt_topic_labels)\n",
    "\n",
    "# Reduce dimensionality of embeddings, this step is optional but much faster to perform iteratively:\n",
    "reduced_embeddings = UMAP(metric='cosine', random_state=42).fit_transform(embeddings)\n",
    "\n",
    "# Visualize the documents in 2-dimensional space and show the titles on hover instead of the abstracts\n",
    "fig = topic_model.visualize_documents(sentences,\n",
    "                                reduced_embeddings=reduced_embeddings,\n",
    "                                custom_labels=True)\n",
    "\n",
    "# On sauvagarde la fig html\n",
    "fig.write_html(\"output/visualize_documents_after_2018.html\")"
   ]
  },
  {
   "cell_type": "code",
   "execution_count": null,
   "metadata": {},
   "outputs": [],
   "source": []
  },
  {
   "cell_type": "code",
   "execution_count": null,
   "metadata": {},
   "outputs": [],
   "source": []
  },
  {
   "cell_type": "markdown",
   "metadata": {},
   "source": [
    "## Modélisation des topics dynamique"
   ]
  },
  {
   "cell_type": "code",
   "execution_count": 62,
   "metadata": {},
   "outputs": [
    {
     "name": "stderr",
     "output_type": "stream",
     "text": [
      "33it [00:00, 81.67it/s] \n"
     ]
    }
   ],
   "source": [
    "# La ligne suivante permet de lancer le DTM (Dynamic Topic Modeling) sur les données\n",
    "topics_over_time = topic_model.topics_over_time(sentences, dates, evolution_tuning=True)"
   ]
  },
  {
   "cell_type": "code",
   "execution_count": 68,
   "metadata": {},
   "outputs": [
    {
     "data": {
      "application/vnd.plotly.v1+json": {
       "config": {
        "plotlyServerURL": "https://plot.ly"
       },
       "data": [
        {
         "hoverinfo": "text",
         "hovertext": [
          "<b>Topic 0</b><br>Words: interrogation, existence, ponty, sensible, merleau",
          "<b>Topic 0</b><br>Words: etudes, seniors, centre, recherche, entreprise",
          "<b>Topic 0</b><br>Words: démographique, libération, choc, 60, travailler",
          "<b>Topic 0</b><br>Words: politique, indicateurs, de, développement, récents",
          "<b>Topic 0</b><br>Words: bord, attributs, métier, générations, chapitre",
          "<b>Topic 0</b><br>Words: suivre, ne, autres, pas, actifs",
          "<b>Topic 0</b><br>Words: politique, 06, depuis, 2009, métiers",
          "<b>Topic 0</b><br>Words: réunionnaise, économie, réel, taux, compétitivité",
          "<b>Topic 0</b><br>Words: gestiondes, 2005, 1985, rétrospective, biélorussie",
          "<b>Topic 0</b><br>Words: mayotte, humain, indice, développement, évaluation",
          "<b>Topic 0</b><br>Words: brevet, européen, le, unitaire, pénurie",
          "<b>Topic 0</b><br>Words: récurrente, abeille, existent, histoire, analogie",
          "<b>Topic 0</b><br>Words: pauvreté, qualité, cadrage, débutants, humaine",
          "<b>Topic 0</b><br>Words: macroprudentielles, certains, ultramarins, persistant, retard",
          "<b>Topic 0</b><br>Words: règlement, européen, de, la, du",
          "<b>Topic 0</b><br>Words: productiviste, ter, cinq, res, vingt",
          "<b>Topic 0</b><br>Words: vraie, points, terrain, claussmann, discussion",
          "<b>Topic 0</b><br>Words: joly, précis, ingénierie, sociétaire, édition",
          "<b>Topic 0</b><br>Words: réelle, citoyenne, valorisation, participation, vers",
          "<b>Topic 0</b><br>Words: mieux, pour, de, les, des"
         ],
         "marker": {
          "color": "#E69F00"
         },
         "mode": "lines",
         "name": "Évaluation indices développement humain la réunion",
         "type": "scatter",
         "x": [
          1996,
          2004,
          2005,
          2006,
          2007,
          2008,
          2009,
          2010,
          2011,
          2012,
          2013,
          2014,
          2015,
          2016,
          2017,
          2018,
          2019,
          2020,
          2021,
          2023
         ],
         "y": [
          0.05986843400892496,
          0.11973686801784993,
          0.17960530202677488,
          0.2993421700446248,
          0.23947373603569985,
          0.11973686801784993,
          0.2993421700446248,
          0.05986843400892496,
          0.17960530202677488,
          0.23947373603569985,
          0.2993421700446248,
          0.11973686801784993,
          0.11973686801784993,
          0.11973686801784993,
          0.35921060405354976,
          0.17960530202677488,
          0.11973686801784993,
          0.05986843400892496,
          0.05986843400892496,
          0.5388159060803247
         ]
        },
        {
         "hoverinfo": "text",
         "hovertext": [
          "<b>Topic 1</b><br>Words: oriented, fms, object, methodology, modelling",
          "<b>Topic 1</b><br>Words: load, balancing, parallel, parlist, dynamic",
          "<b>Topic 1</b><br>Words: based, wip, tri, consideration, material",
          "<b>Topic 1</b><br>Words: vehicle, job, dispatching, sequencing, bound",
          "<b>Topic 1</b><br>Words: efficace, voisinage, transport, problème, avec",
          "<b>Topic 1</b><br>Words: constrained, swarm, project, resource, particle",
          "<b>Topic 1</b><br>Words: problem, scheduling, job, relaxation, multisite",
          "<b>Topic 1</b><br>Words: particle, problems, optimization, displacement, combinatorial",
          "<b>Topic 1</b><br>Words: problem, pickup, heuristique, traveling, radiotherapies",
          "<b>Topic 1</b><br>Words: job, shop, vehicles, machines, guided",
          "<b>Topic 1</b><br>Words: shortest, path, problem, for, job",
          "<b>Topic 1</b><br>Words: problem, with, job, shop, scheduling",
          "<b>Topic 1</b><br>Words: job, shop, énergétique, transportation, slave",
          "<b>Topic 1</b><br>Words: power, job, shop, multi, with",
          "<b>Topic 1</b><br>Words: shop, ride, dial, solving, job",
          "<b>Topic 1</b><br>Words: solve, two, routing, approaches, comparison",
          "<b>Topic 1</b><br>Words: problem, scheduling, based, programming, for",
          "<b>Topic 1</b><br>Words: problem, scheduling, for, reduced, driving",
          "<b>Topic 1</b><br>Words: problem, scheduling, for, methods, exact",
          "<b>Topic 1</b><br>Words: scheduling, problem, grasp, allocation, algorithm"
         ],
         "marker": {
          "color": "#56B4E9"
         },
         "mode": "lines",
         "name": "planification multi-job avec routage",
         "type": "scatter",
         "x": [
          1997,
          1998,
          2000,
          2005,
          2006,
          2007,
          2008,
          2009,
          2012,
          2013,
          2014,
          2015,
          2016,
          2017,
          2018,
          2019,
          2020,
          2021,
          2022,
          2023
         ],
         "y": [
          0.06819943394704735,
          0.06819943394704735,
          0.06819943394704735,
          0.1363988678940947,
          0.06819943394704735,
          0.06819943394704735,
          0.20459830184114206,
          0.1363988678940947,
          0.20459830184114206,
          0.20459830184114206,
          0.5455954715763788,
          0.34099716973523675,
          0.1363988678940947,
          0.1363988678940947,
          0.20459830184114206,
          0.06819943394704735,
          0.34099716973523675,
          0.20459830184114206,
          0.34099716973523675,
          0.20459830184114206
         ]
        },
        {
         "hoverinfo": "text",
         "hovertext": [
          "<b>Topic 2</b><br>Words: organisations, humnaintaires, général, adapté, communications",
          "<b>Topic 2</b><br>Words: repositionnement, intermédiaire, technologies, outil, information",
          "<b>Topic 2</b><br>Words: institutionnaliste, compréhension, eads, dynamique, organisationnelle",
          "<b>Topic 2</b><br>Words: filemanagement, ventes, des, organisations, de",
          "<b>Topic 2</b><br>Words: latérales, absence, réglementaire, défection, explication",
          "<b>Topic 2</b><br>Words: transition, incomplete, eads, an, organisations",
          "<b>Topic 2</b><br>Words: experts, organisations, évaluation, dans, les",
          "<b>Topic 2</b><br>Words: autonomie, direction, normes, équipes, face",
          "<b>Topic 2</b><br>Words: souffrance, nouvelles, organisations, performance, entre",
          "<b>Topic 2</b><br>Words: 360, feedback, instrument, competencies, evaluating",
          "<b>Topic 2</b><br>Words: organization, universitaire, performance, rational, interactif",
          "<b>Topic 2</b><br>Words: idées, champ, nouvelles, construction, public",
          "<b>Topic 2</b><br>Words: sensemaking, organisations, légitimité, jeopardy, identity",
          "<b>Topic 2</b><br>Words: complementarity, ranking, branding, university, towards",
          "<b>Topic 2</b><br>Words: légale, administrateur, consécration, indépendant, idées",
          "<b>Topic 2</b><br>Words: hybridization, instruments, management, example, university",
          "<b>Topic 2</b><br>Words: réponses, napoléon, personnels, apportées, organisations",
          "<b>Topic 2</b><br>Words: krisenmanagementsystems, eines, den, für, aufbau",
          "<b>Topic 2</b><br>Words: en, organisations, déterminant, thèses, degree",
          "<b>Topic 2</b><br>Words: organisations, heure, exemplaire, dissolution, nietzschean"
         ],
         "marker": {
          "color": "#009E73"
         },
         "mode": "lines",
         "name": "Gestion des organisations et performance",
         "type": "scatter",
         "x": [
          1994,
          2001,
          2005,
          2006,
          2007,
          2008,
          2009,
          2010,
          2011,
          2012,
          2013,
          2014,
          2015,
          2016,
          2018,
          2019,
          2020,
          2021,
          2022,
          2023
         ],
         "y": [
          0.17888543819998318,
          0.08944271909999159,
          0.4472135954999579,
          0.08944271909999159,
          0.08944271909999159,
          0.08944271909999159,
          0.08944271909999159,
          0.2683281572999747,
          0.35777087639996635,
          0.08944271909999159,
          0.2683281572999747,
          0.08944271909999159,
          0.17888543819998318,
          0.35777087639996635,
          0.17888543819998318,
          0.08944271909999159,
          0.17888543819998318,
          0.08944271909999159,
          0.35777087639996635,
          0.2683281572999747
         ]
        },
        {
         "hoverinfo": "text",
         "hovertext": [
          "<b>Topic 3</b><br>Words: conventions, nationales, médicales, les, health",
          "<b>Topic 3</b><br>Words: conventionnel, médecins, crise, système, du",
          "<b>Topic 3</b><br>Words: satisfaction, link, customer, patient, framework",
          "<b>Topic 3</b><br>Words: september, 2010, segmentation, electronic, 29",
          "<b>Topic 3</b><br>Words: cérébrolésions, conscients, après, perspectives, anatomofonctionnel",
          "<b>Topic 3</b><br>Words: pharmaceutique, innovants, résolution, procédés, problèmes",
          "<b>Topic 3</b><br>Words: blood, suitability, biomarker, inflammatory, procedures",
          "<b>Topic 3</b><br>Words: care, elderly, versus, definition, proposal",
          "<b>Topic 3</b><br>Words: cancer, clcc, centre, lutte, contre",
          "<b>Topic 3</b><br>Words: cancer, health, care, proposed, fondamentaux",
          "<b>Topic 3</b><br>Words: du, traitement, cartographie, response, perçues",
          "<b>Topic 3</b><br>Words: pathway, healthcare, experience, cancer, investigating",
          "<b>Topic 3</b><br>Words: cancer, envers, concerns, health, care",
          "<b>Topic 3</b><br>Words: in, of, the, study, health",
          "<b>Topic 3</b><br>Words: policies, health, implementation, local, healthcare"
         ],
         "marker": {
          "color": "#F0E442"
         },
         "mode": "lines",
         "name": "Parcours de santé des patients atteints de cancer",
         "type": "scatter",
         "x": [
          2002,
          2003,
          2008,
          2010,
          2011,
          2014,
          2015,
          2016,
          2017,
          2018,
          2019,
          2020,
          2021,
          2022,
          2023
         ],
         "y": [
          0.07216878364870323,
          0.07216878364870323,
          0.07216878364870323,
          0.07216878364870323,
          0.07216878364870323,
          0.07216878364870323,
          0.07216878364870323,
          0.07216878364870323,
          0.2886751345948129,
          0.36084391824351614,
          0.21650635094610968,
          0.21650635094610968,
          0.43301270189221935,
          0.36084391824351614,
          0.5773502691896258
         ]
        },
        {
         "hoverinfo": "text",
         "hovertext": [
          "<b>Topic 4</b><br>Words: aérospatiale, institutionnalistes, origine, aerospatiale, institutionnelle",
          "<b>Topic 4</b><br>Words: localized, subcontractors, aérospatiale, toulouse, institutional",
          "<b>Topic 4</b><br>Words: phamaceuticals, coordinations, traitance, articulation, automobile",
          "<b>Topic 4</b><br>Words: proximity, aéronautique, 4th, internationaux, régionale",
          "<b>Topic 4</b><br>Words: industries, auto, determinism, modularity, technological",
          "<b>Topic 4</b><br>Words: aéronautique, logique, arsenal, tendencies, ancrage",
          "<b>Topic 4</b><br>Words: dualisation, aeronautique, approvisionnement, espaces, modulaire",
          "<b>Topic 4</b><br>Words: interactions, dynamics, firms, aéronautique, french",
          "<b>Topic 4</b><br>Words: proximity, aéronautique, pivots, valley, aerospace",
          "<b>Topic 4</b><br>Words: liebherr, thales, studies, hub, toulouse",
          "<b>Topic 4</b><br>Words: concentration, externalisation, pivotal, transformation, aeronautics",
          "<b>Topic 4</b><br>Words: aéronautique, rente, underperformance, six, rent",
          "<b>Topic 4</b><br>Words: opposés, boeing, cluster, airbus, externalisation",
          "<b>Topic 4</b><br>Words: aéronautique, industrie, industry, proximity, in",
          "<b>Topic 4</b><br>Words: geographic, cognitive, impacts, organizational, proximity"
         ],
         "marker": {
          "color": "#D55E00"
         },
         "mode": "lines",
         "name": "Dynamiques des firmes-pivots en aéronautique",
         "type": "scatter",
         "x": [
          1998,
          2000,
          2001,
          2004,
          2005,
          2006,
          2007,
          2009,
          2010,
          2011,
          2013,
          2014,
          2015,
          2018,
          2021
         ],
         "y": [
          0.25724787771376323,
          0.08574929257125441,
          0.17149858514250882,
          0.17149858514250882,
          0.08574929257125441,
          0.25724787771376323,
          0.08574929257125441,
          0.34299717028501764,
          0.5144957554275265,
          0.08574929257125441,
          0.17149858514250882,
          0.25724787771376323,
          0.17149858514250882,
          0.5144957554275265,
          0.08574929257125441
         ]
        },
        {
         "hoverinfo": "text",
         "hovertext": [
          "<b>Topic 5</b><br>Words: earnings, so, decreases, their, manage",
          "<b>Topic 5</b><br>Words: examination, disclosures, timing, empirical, financial",
          "<b>Topic 5</b><br>Words: preceding, changes, ceo, accounting, policies",
          "<b>Topic 5</b><br>Words: earnings, france, evidence, ceo, changes",
          "<b>Topic 5</b><br>Words: mandatory, impact, adoption, earnings, annual",
          "<b>Topic 5</b><br>Words: earnings, manipulation, telling, about, us",
          "<b>Topic 5</b><br>Words: status, affect, earnings, private, practices",
          "<b>Topic 5</b><br>Words: earnings, limiting, euro, reconciliation, stoxx",
          "<b>Topic 5</b><br>Words: revision, around, forecast, four, analyst",
          "<b>Topic 5</b><br>Words: earnings, legal, publicly, held, distress",
          "<b>Topic 5</b><br>Words: earnings, cases, fraud, restatements, micro",
          "<b>Topic 5</b><br>Words: misstatements, consensus, option, estimates, analyst",
          "<b>Topic 5</b><br>Words: earnings, debt, maturity, effect, study",
          "<b>Topic 5</b><br>Words: dividend, quality, policy, earnings, evidence",
          "<b>Topic 5</b><br>Words: earnings, adoption, european, management, on",
          "<b>Topic 5</b><br>Words: unmanaged, predict, managed, analysts, or"
         ],
         "marker": {
          "color": "#0072B2"
         },
         "mode": "lines",
         "name": "impact de la gestion des bénéfices en France",
         "type": "scatter",
         "x": [
          2004,
          2006,
          2008,
          2009,
          2011,
          2012,
          2013,
          2014,
          2015,
          2016,
          2018,
          2019,
          2020,
          2021,
          2022,
          2023
         ],
         "y": [
          0.0944911182523068,
          0.0944911182523068,
          0.0944911182523068,
          0.6614378277661476,
          0.2834733547569204,
          0.1889822365046136,
          0.0944911182523068,
          0.1889822365046136,
          0.0944911182523068,
          0.1889822365046136,
          0.2834733547569204,
          0.0944911182523068,
          0.2834733547569204,
          0.0944911182523068,
          0.3779644730092272,
          0.0944911182523068
         ]
        },
        {
         "hoverinfo": "text",
         "hovertext": [
          "<b>Topic 6</b><br>Words: discretization, attributes, supervised, intervals, learning",
          "<b>Topic 6</b><br>Words: tangent, curvature, computation, curve, discrete",
          "<b>Topic 6</b><br>Words: lines, waves, generating, isotropic, regularity",
          "<b>Topic 6</b><br>Words: plane, preimage, digital, structure, discrete",
          "<b>Topic 6</b><br>Words: precision, digitization, object, estimation, its",
          "<b>Topic 6</b><br>Words: discrete, digital, segments, curves, maximal",
          "<b>Topic 6</b><br>Words: division, shapes, scene, radiosity, noisy",
          "<b>Topic 6</b><br>Words: tomography, digital, discrete, convex, polygons",
          "<b>Topic 6</b><br>Words: gift, wrapping, cover, thick, tangential",
          "<b>Topic 6</b><br>Words: any, width, efficiently, lattice, computing",
          "<b>Topic 6</b><br>Words: primitives, geometric, shape, analysis, with",
          "<b>Topic 6</b><br>Words: digital, vectorization, layers, curve, decomposition",
          "<b>Topic 6</b><br>Words: seadistance, cerdi, database, the, digital",
          "<b>Topic 6</b><br>Words: generalized, contours, representation, digital, primitives",
          "<b>Topic 6</b><br>Words: order, denoising, tensors, singular, high",
          "<b>Topic 6</b><br>Words: sectorielles, surfaces, covering, digitales, reconstructions",
          "<b>Topic 6</b><br>Words: building, classification, dataset, imagery, satellite",
          "<b>Topic 6</b><br>Words: building, classification, digital, polyhedral, benchmark"
         ],
         "marker": {
          "color": "#CC79A7"
         },
         "mode": "lines",
         "name": "Segments géométriques maximaux discrets",
         "type": "scatter",
         "x": [
          1997,
          1999,
          2001,
          2003,
          2004,
          2005,
          2006,
          2007,
          2009,
          2011,
          2012,
          2014,
          2016,
          2017,
          2019,
          2021,
          2022,
          2023
         ],
         "y": [
          0.10050378152592121,
          0.10050378152592121,
          0.20100756305184242,
          0.10050378152592121,
          0.10050378152592121,
          0.8040302522073697,
          0.20100756305184242,
          0.20100756305184242,
          0.20100756305184242,
          0.10050378152592121,
          0.10050378152592121,
          0.10050378152592121,
          0.10050378152592121,
          0.10050378152592121,
          0.10050378152592121,
          0.20100756305184242,
          0.10050378152592121,
          0.20100756305184242
         ]
        },
        {
         "hoverinfo": "text",
         "hovertext": [
          "<b>Topic 7</b><br>Words: flexibles, production, modélisation, systèmes, processus",
          "<b>Topic 7</b><br>Words: flow, generic, hybrid, simulation, model",
          "<b>Topic 7</b><br>Words: simula, flow, generic, hybrid, model",
          "<b>Topic 7</b><br>Words: supply, chain, nouvel, modélisation, hôpital",
          "<b>Topic 7</b><br>Words: supply, chain, nouvel, modelisation, making",
          "<b>Topic 7</b><br>Words: supply, chain, planning, company, tactical",
          "<b>Topic 7</b><br>Words: supply, chain, mixtes, opérateurs, special",
          "<b>Topic 7</b><br>Words: franchise, networks, bakery, decisional, supply",
          "<b>Topic 7</b><br>Words: chain, supply, aéronautique, recomposition, contrôles",
          "<b>Topic 7</b><br>Words: advanced, system, next, step, budgeting",
          "<b>Topic 7</b><br>Words: supply, chain, optimization, for, planning",
          "<b>Topic 7</b><br>Words: network, flexibility, supply, chain, decisional",
          "<b>Topic 7</b><br>Words: chains, adaptation, processus, environnement, supply",
          "<b>Topic 7</b><br>Words: business, demand, supply, lifecycle, pull",
          "<b>Topic 7</b><br>Words: loire, pooling, bio, horizontal, association",
          "<b>Topic 7</b><br>Words: supply, chain, 14e, airl, stocks"
         ],
         "marker": {
          "color": "#E69F00"
         },
         "mode": "lines",
         "name": "Modélisation décisionnelle chaîne d'approvisionnement franchise",
         "type": "scatter",
         "x": [
          1997,
          1999,
          2000,
          2005,
          2006,
          2008,
          2009,
          2010,
          2011,
          2012,
          2013,
          2014,
          2017,
          2018,
          2020,
          2023
         ],
         "y": [
          0.12309149097933272,
          0.12309149097933272,
          0.12309149097933272,
          0.3692744729379982,
          0.3692744729379982,
          0.24618298195866545,
          0.24618298195866545,
          0.24618298195866545,
          0.24618298195866545,
          0.12309149097933272,
          0.3692744729379982,
          0.24618298195866545,
          0.12309149097933272,
          0.3692744729379982,
          0.12309149097933272,
          0.24618298195866545
         ]
        },
        {
         "hoverinfo": "text",
         "hovertext": [
          "<b>Topic 8</b><br>Words: bosch, robert, usine, rodez, territoriale",
          "<b>Topic 8</b><br>Words: initiation, marketing, au, marque, brand",
          "<b>Topic 8</b><br>Words: clés, concepts, initiation, marketing, au",
          "<b>Topic 8</b><br>Words: brand, marque, nouveau, monde, auvergne",
          "<b>Topic 8</b><br>Words: kind, brittany, stakeholders, regional, involvement",
          "<b>Topic 8</b><br>Words: marque, negotiation, representatives, inconsistency, style",
          "<b>Topic 8</b><br>Words: marketing, loyalty, territorial, retailer, of",
          "<b>Topic 8</b><br>Words: méthodologique, épistémologique, champ, positionnement, comme",
          "<b>Topic 8</b><br>Words: questionne, marque, quand, territoriale, réforme",
          "<b>Topic 8</b><br>Words: place, participation, marketing, of, the",
          "<b>Topic 8</b><br>Words: localisation, multidisciplinaire, retailing, approche, une",
          "<b>Topic 8</b><br>Words: intercommunalités, matière, marketing, territorial, santé",
          "<b>Topic 8</b><br>Words: brand, consumers, the, do, role"
         ],
         "marker": {
          "color": "#56B4E9"
         },
         "mode": "lines",
         "name": "Création marque territoriale Auvergne marketing",
         "type": "scatter",
         "x": [
          2000,
          2003,
          2007,
          2012,
          2015,
          2016,
          2017,
          2018,
          2019,
          2020,
          2021,
          2022,
          2023
         ],
         "y": [
          0.10259783520851541,
          0.10259783520851541,
          0.10259783520851541,
          0.30779350562554625,
          0.10259783520851541,
          0.20519567041703082,
          0.5129891760425771,
          0.10259783520851541,
          0.30779350562554625,
          0.5129891760425771,
          0.10259783520851541,
          0.10259783520851541,
          0.41039134083406165
         ]
        },
        {
         "hoverinfo": "text",
         "hovertext": [
          "<b>Topic 9</b><br>Words: intelligence, économique, apports, capacités, connaissances",
          "<b>Topic 9</b><br>Words: intelligence, selon, polyvalence, économique, basée",
          "<b>Topic 9</b><br>Words: intelligence, économique, stratégique, economix, paradigme",
          "<b>Topic 9</b><br>Words: absorption, capacités, intelligence, économique, crise",
          "<b>Topic 9</b><br>Words: smbs, top, intelligence, competitive, development",
          "<b>Topic 9</b><br>Words: intelligence, économique, prolégomènes, du, grand",
          "<b>Topic 9</b><br>Words: intelligence, économique, pratiques, pme, conceptualisation",
          "<b>Topic 9</b><br>Words: créatrice, intelligence, valeur, économique, pme",
          "<b>Topic 9</b><br>Words: intelligence, économique, gendarmerie, grands, mission",
          "<b>Topic 9</b><br>Words: mouvement, avionique, intellectuelle, scientifiques, pluriel",
          "<b>Topic 9</b><br>Words: posture, intelligence, tpe, économique, est",
          "<b>Topic 9</b><br>Words: intelligence, cities, unplugged, towns, intelligent",
          "<b>Topic 9</b><br>Words: ville, intelligente, participation, citoyenne, test",
          "<b>Topic 9</b><br>Words: intelligence, économique, publique, politique, drivers",
          "<b>Topic 9</b><br>Words: nooteboom, bart, firme, cognitive, théorie"
         ],
         "marker": {
          "color": "#009E73"
         },
         "mode": "lines",
         "name": "Influence du capital social sur pratiques intelligence économique",
         "type": "scatter",
         "x": [
          2006,
          2007,
          2008,
          2009,
          2010,
          2011,
          2012,
          2014,
          2016,
          2017,
          2018,
          2019,
          2020,
          2021,
          2023
         ],
         "y": [
          0.25607375986579195,
          0.12803687993289598,
          0.5121475197315839,
          0.12803687993289598,
          0.12803687993289598,
          0.25607375986579195,
          0.3841106397986879,
          0.12803687993289598,
          0.25607375986579195,
          0.25607375986579195,
          0.12803687993289598,
          0.25607375986579195,
          0.12803687993289598,
          0.3841106397986879,
          0.12803687993289598
         ]
        },
        {
         "hoverinfo": "text",
         "hovertext": [
          "<b>Topic 10</b><br>Words: cessions, actifs, résultats, comptables, français",
          "<b>Topic 10</b><br>Words: échantillon, empirique, résultats, comptables, instruments",
          "<b>Topic 10</b><br>Words: résultats, variables, domaine, comptable, achat",
          "<b>Topic 10</b><br>Words: résultats, comptables, gèrent, baisses, afin",
          "<b>Topic 10</b><br>Words: comptables, résultats, rentabilités, recherches, boursières",
          "<b>Topic 10</b><br>Words: fins, cessions, moyen, autre, résultat",
          "<b>Topic 10</b><br>Words: résultat, comptable, autour, dirigeant, gestion",
          "<b>Topic 10</b><br>Words: exercée, analystes, financiers, pression, carrefour",
          "<b>Topic 10</b><br>Words: résultats, contrôlées, informationnel, alerte, minoritaires",
          "<b>Topic 10</b><br>Words: actionnariat, résultats, comptables, français, structure",
          "<b>Topic 10</b><br>Words: actionnariat, financières, final, results, deliverable",
          "<b>Topic 10</b><br>Words: structure, actionnariat, dette, maturité, debt",
          "<b>Topic 10</b><br>Words: familiale, résultats, sein, implication, gouvernance",
          "<b>Topic 10</b><br>Words: cotées, résultats, comptables, sociétés, code",
          "<b>Topic 10</b><br>Words: hybridation, pilotage, instruments, universitaire, gestion",
          "<b>Topic 10</b><br>Words: bons, usages, instrumentalisation, bonne, éviter"
         ],
         "marker": {
          "color": "#F0E442"
         },
         "mode": "lines",
         "name": "Gestion des résultats comptables des sociétés",
         "type": "scatter",
         "x": [
          1996,
          2002,
          2003,
          2004,
          2005,
          2006,
          2009,
          2010,
          2011,
          2012,
          2014,
          2016,
          2017,
          2018,
          2019,
          2021
         ],
         "y": [
          0.1543033499620919,
          0.1543033499620919,
          0.3086066999241838,
          0.3086066999241838,
          0.3086066999241838,
          0.3086066999241838,
          0.1543033499620919,
          0.1543033499620919,
          0.3086066999241838,
          0.1543033499620919,
          0.4629100498862757,
          0.3086066999241838,
          0.1543033499620919,
          0.1543033499620919,
          0.1543033499620919,
          0.1543033499620919
         ]
        },
        {
         "hoverinfo": "text",
         "hovertext": [
          "<b>Topic 11</b><br>Words: data, hl, experiments, microcomputers, tokamak",
          "<b>Topic 11</b><br>Words: unsymmetrical, transverse, lamina, shearing, cured",
          "<b>Topic 11</b><br>Words: soft, strength, composites, high, magnetic",
          "<b>Topic 11</b><br>Words: intermetallic, mechanical, materials, magnetic, properties",
          "<b>Topic 11</b><br>Words: fracture, zr, flexural, alloys, sm",
          "<b>Topic 11</b><br>Words: lead, titanate, zirconate, fatigue, composites",
          "<b>Topic 11</b><br>Words: compensated, studies, lead, fatigue, zirconate",
          "<b>Topic 11</b><br>Words: laminated, actuator, shells, piezoelectric, ply",
          "<b>Topic 11</b><br>Words: modèles, ply, piezoelectric, shape, theoretical",
          "<b>Topic 11</b><br>Words: study, shape, viscoelastic, fracturing, reaction",
          "<b>Topic 11</b><br>Words: 129, programmation, corrigés, cours, exercices",
          "<b>Topic 11</b><br>Words: magnetic, bed, simulation, fe, confined",
          "<b>Topic 11</b><br>Words: algorithmes, dérives, maitrise, éviter, pour",
          "<b>Topic 11</b><br>Words: erosion, dimple, mesh, wall, coupled"
         ],
         "marker": {
          "color": "#D55E00"
         },
         "mode": "lines",
         "name": "Contrôle de forme lamellé croisé piezoélectrique",
         "type": "scatter",
         "x": [
          1989,
          1997,
          2001,
          2002,
          2003,
          2004,
          2005,
          2006,
          2007,
          2008,
          2014,
          2015,
          2022,
          2023
         ],
         "y": [
          0.14002800840280097,
          0.14002800840280097,
          0.14002800840280097,
          0.14002800840280097,
          0.28005601680560194,
          0.5601120336112039,
          0.14002800840280097,
          0.14002800840280097,
          0.28005601680560194,
          0.42008402520840293,
          0.14002800840280097,
          0.42008402520840293,
          0.14002800840280097,
          0.14002800840280097
         ]
        },
        {
         "hoverinfo": "text",
         "hovertext": [
          "<b>Topic 12</b><br>Words: mixture, cl, isobutyric, diagram, ions",
          "<b>Topic 12</b><br>Words: finistère, nitrates, kerveldreac, hétérogènes, hydrogéosystèmes",
          "<b>Topic 12</b><br>Words: plant, wastewater, north, treatment, temperature",
          "<b>Topic 12</b><br>Words: ultramarines, économies, vulnérabilités, climatique, development",
          "<b>Topic 12</b><br>Words: 21, climatiques, tendances, cru, ts",
          "<b>Topic 12</b><br>Words: ultramarines, comparées, économies, françaises, femmes",
          "<b>Topic 12</b><br>Words: calédonie, appréhender, climatique, vulnérabilité, inégalités",
          "<b>Topic 12</b><br>Words: climatique, tourisme, insulaire, merci, changement",
          "<b>Topic 12</b><br>Words: synthétique, touristiques, îles, climatique, vulnérabilité",
          "<b>Topic 12</b><br>Words: climatique, vulnérabilité, changement, indien, comparée",
          "<b>Topic 12</b><br>Words: illustrations, mesures, quelques, ultramarines, vulnérabilité",
          "<b>Topic 12</b><br>Words: vulnérabilité, changement, climatique, au, physique"
         ],
         "marker": {
          "color": "#0072B2"
         },
         "mode": "lines",
         "name": "Le tourisme insulaire vulnérable au changement climatique",
         "type": "scatter",
         "x": [
          2003,
          2005,
          2008,
          2015,
          2016,
          2017,
          2018,
          2019,
          2020,
          2021,
          2022,
          2023
         ],
         "y": [
          0.13245323570650439,
          0.13245323570650439,
          0.13245323570650439,
          0.5298129428260175,
          0.26490647141300877,
          0.26490647141300877,
          0.26490647141300877,
          0.5298129428260175,
          0.13245323570650439,
          0.26490647141300877,
          0.13245323570650439,
          0.26490647141300877
         ]
        },
        {
         "hoverinfo": "text",
         "hovertext": [
          "<b>Topic 13</b><br>Words: asset, attitude, behaviour, risk, individual",
          "<b>Topic 13</b><br>Words: anchoring, essays, speculative, laboratory, asset",
          "<b>Topic 13</b><br>Words: incentives, bubbles, measures, preference, temporal",
          "<b>Topic 13</b><br>Words: fuel, plants, shortage, fundamental, evolve",
          "<b>Topic 13</b><br>Words: portfolio, robust, scenarios, driven, protection",
          "<b>Topic 13</b><br>Words: yield, roll, differentials, harvesting, premiums",
          "<b>Topic 13</b><br>Words: more, mean, times, inequality, finance",
          "<b>Topic 13</b><br>Words: subprime, greenwashing, competition, resilience, trade",
          "<b>Topic 13</b><br>Words: fossil, exposure, divestment, movement, investor",
          "<b>Topic 13</b><br>Words: portfolio, where, gold, why, when"
         ],
         "marker": {
          "color": "#CC79A7"
         },
         "mode": "lines",
         "name": "Risque et performance des actifs",
         "type": "scatter",
         "x": [
          2010,
          2011,
          2012,
          2013,
          2014,
          2015,
          2020,
          2021,
          2022,
          2023
         ],
         "y": [
          0.1270001270001905,
          0.254000254000381,
          0.3810003810005715,
          0.3810003810005715,
          0.254000254000381,
          0.1270001270001905,
          0.1270001270001905,
          0.254000254000381,
          0.254000254000381,
          0.6350006350009525
         ]
        },
        {
         "hoverinfo": "text",
         "hovertext": [
          "<b>Topic 14</b><br>Words: responsibility, financing, decisions, corporate, social",
          "<b>Topic 14</b><br>Words: have, corportae, responsibility, decisions, financing",
          "<b>Topic 14</b><br>Words: dimension, value, social, does, international",
          "<b>Topic 14</b><br>Words: csr, evidence, social, corporate, performance",
          "<b>Topic 14</b><br>Words: responsibility, corporate, social, value, csr",
          "<b>Topic 14</b><br>Words: uncertainty, responsibility, target, csr, corporate",
          "<b>Topic 14</b><br>Words: responsibility, unpleasant, arithmetic, responsible, socially",
          "<b>Topic 14</b><br>Words: mispricing, csr, stock, and, responsibility",
          "<b>Topic 14</b><br>Words: harder, arbitrage, responsible, socially, companies"
         ],
         "marker": {
          "color": "#E69F00"
         },
         "mode": "lines",
         "name": "Responsabilité sociale des entreprises et valeur",
         "type": "scatter",
         "x": [
          2013,
          2015,
          2016,
          2017,
          2018,
          2019,
          2020,
          2022,
          2023
         ],
         "y": [
          0.1259881576697424,
          0.1259881576697424,
          0.1259881576697424,
          0.629940788348712,
          0.629940788348712,
          0.2519763153394848,
          0.2519763153394848,
          0.1259881576697424,
          0.1259881576697424
         ]
        },
        {
         "hoverinfo": "text",
         "hovertext": [
          "<b>Topic 15</b><br>Words: inversée, distribution, canal, reconnu, émergence",
          "<b>Topic 15</b><br>Words: jeux, distribution, pouvoir, leadership, canaux",
          "<b>Topic 15</b><br>Words: rivalité, partenariat, contrepouvoir, industriels, déchets",
          "<b>Topic 15</b><br>Words: jeu, tribulations, filtration, modifie, lorsque",
          "<b>Topic 15</b><br>Words: distribution, pouvoir, contrer, powerful, puissant",
          "<b>Topic 15</b><br>Words: distribution, rural, leader, importance, alimentaire",
          "<b>Topic 15</b><br>Words: équation, difficile, collective, stratégie, agriculteurs",
          "<b>Topic 15</b><br>Words: descriptive, cantal, smes, distribution, rural",
          "<b>Topic 15</b><br>Words: distribution, tensions, agriculteurs, mountain, mid"
         ],
         "marker": {
          "color": "#56B4E9"
         },
         "mode": "lines",
         "name": "Tensions de distribution en zones rurales",
         "type": "scatter",
         "x": [
          2006,
          2009,
          2010,
          2011,
          2014,
          2019,
          2020,
          2021,
          2022
         ],
         "y": [
          0.16666666666666666,
          0.16666666666666666,
          0.16666666666666666,
          0.16666666666666666,
          0.3333333333333333,
          0.5,
          0.16666666666666666,
          0.5,
          0.5
         ]
        },
        {
         "hoverinfo": "text",
         "hovertext": [
          "<b>Topic 16</b><br>Words: currency, money, substitution, transactions, demand",
          "<b>Topic 16</b><br>Words: money, currency, substitution, vietnam, transactions",
          "<b>Topic 16</b><br>Words: vietnam, rate, exchange, developments, inflation",
          "<b>Topic 16</b><br>Words: madagascar, overvaluation, democracy, rate, exchange",
          "<b>Topic 16</b><br>Words: analysis, multivariate, vietnamese, provinces, singapore",
          "<b>Topic 16</b><br>Words: measuring, exports, illustrated, survey, instability",
          "<b>Topic 16</b><br>Words: government, revenues, waemu, aid, heterogeneous",
          "<b>Topic 16</b><br>Words: misalignments, senegal, rate, exchange, sector",
          "<b>Topic 16</b><br>Words: region, foreign, econometric, asean, extra"
         ],
         "marker": {
          "color": "#009E73"
         },
         "mode": "lines",
         "name": "Analyse spatiale investissement direct étranger",
         "type": "scatter",
         "x": [
          2003,
          2004,
          2006,
          2008,
          2014,
          2015,
          2016,
          2018,
          2019
         ],
         "y": [
          0.19611613513818404,
          0.19611613513818404,
          0.5883484054145521,
          0.19611613513818404,
          0.3922322702763681,
          0.19611613513818404,
          0.19611613513818404,
          0.3922322702763681,
          0.3922322702763681
         ]
        },
        {
         "hoverinfo": "text",
         "hovertext": [
          "<b>Topic 17</b><br>Words: interculturelle, distributeur, variable, relations, étrangers",
          "<b>Topic 17</b><br>Words: current, internationalizing, opportunities, status, challenges",
          "<b>Topic 17</b><br>Words: perceptuelle, internationalisé, discours, vision, distributeur",
          "<b>Topic 17</b><br>Words: intermediation, reading, cultural, cross, international",
          "<b>Topic 17</b><br>Words: selling, skills, smes, internationally, service",
          "<b>Topic 17</b><br>Words: competences, students, intercultural, home, pedagogical",
          "<b>Topic 17</b><br>Words: interculturelle, gérer, situation, studie, kompetenz"
         ],
         "marker": {
          "color": "#F0E442"
         },
         "mode": "lines",
         "name": "Gestion interculturelle des ventes internationales",
         "type": "scatter",
         "x": [
          2010,
          2011,
          2013,
          2017,
          2020,
          2021,
          2022
         ],
         "y": [
          0.3713906763541037,
          0.18569533817705186,
          0.18569533817705186,
          0.18569533817705186,
          0.5570860145311556,
          0.3713906763541037,
          0.5570860145311556
         ]
        },
        {
         "hoverinfo": "text",
         "hovertext": [
          "<b>Topic 18</b><br>Words: indisponibilité, stipulation, la, harcèlement, moral",
          "<b>Topic 18</b><br>Words: harcèlement, moral, dénomination, variétale, coexistence",
          "<b>Topic 18</b><br>Words: harcèlement, maroc, rps, psychosociaux, prévention",
          "<b>Topic 18</b><br>Words: harcèlement, moral, exploratoire, maroc, travailleurs",
          "<b>Topic 18</b><br>Words: harcèlement, moral, maroc, psychosociaux, rps",
          "<b>Topic 18</b><br>Words: harcèlement, moral, survenance, peut, jouer"
         ],
         "marker": {
          "color": "#D55E00"
         },
         "mode": "lines",
         "name": "Harcèlement moral au travail au Maroc",
         "type": "scatter",
         "x": [
          2001,
          2016,
          2018,
          2019,
          2021,
          2022
         ],
         "y": [
          0.1889822365046136,
          0.3779644730092272,
          0.3779644730092272,
          0.5669467095138409,
          0.5669467095138409,
          0.1889822365046136
         ]
        },
        {
         "hoverinfo": "text",
         "hovertext": [
          "<b>Topic 19</b><br>Words: public, values, china, recruitment, servant",
          "<b>Topic 19</b><br>Words: cœur, partagés, centres, contradictoires, gestionnaire",
          "<b>Topic 19</b><br>Words: public, province, guangxi, management, territorial",
          "<b>Topic 19</b><br>Words: public, values, moroccan, dynamism, management",
          "<b>Topic 19</b><br>Words: promotion, billom, diagnostic, sédentarité, physiques"
         ],
         "marker": {
          "color": "#0072B2"
         },
         "mode": "lines",
         "name": "Éthique publique et management territorial en Chine",
         "type": "scatter",
         "x": [
          2015,
          2017,
          2018,
          2019,
          2022
         ],
         "y": [
          0.3592106040535498,
          0.1796053020267749,
          0.5388159060803247,
          0.7184212081070996,
          0.1796053020267749
         ]
        },
        {
         "hoverinfo": "text",
         "hovertext": [
          "<b>Topic 20</b><br>Words: activities, smartphone, estimating, energy, expenditure",
          "<b>Topic 20</b><br>Words: energy, smartphone, expenditure, estimating, sensor",
          "<b>Topic 20</b><br>Words: smartphone, energy, vector, variance, acceleration",
          "<b>Topic 20</b><br>Words: light, diseases, prevention, first, promote",
          "<b>Topic 20</b><br>Words: utaut2, maas, villes, intelligentes, applications",
          "<b>Topic 20</b><br>Words: confirmed, rehabilitations, systematic, review, benefits",
          "<b>Topic 20</b><br>Words: visite, planifié, douce, lors, archéologiques"
         ],
         "marker": {
          "color": "#CC79A7"
         },
         "mode": "lines",
         "name": "Estimation de dépenses énergétiques avec smartphones",
         "type": "scatter",
         "x": [
          2014,
          2015,
          2016,
          2018,
          2021,
          2022,
          2023
         ],
         "y": [
          0.23570226039551587,
          0.47140452079103173,
          0.23570226039551587,
          0.23570226039551587,
          0.7071067811865476,
          0.23570226039551587,
          0.23570226039551587
         ]
        }
       ],
       "layout": {
        "height": 450,
        "hoverlabel": {
         "bgcolor": "white",
         "font": {
          "family": "Rockwell",
          "size": 16
         }
        },
        "legend": {
         "title": {
          "text": "<b>Global Topic Representation"
         }
        },
        "template": {
         "data": {
          "bar": [
           {
            "error_x": {
             "color": "rgb(36,36,36)"
            },
            "error_y": {
             "color": "rgb(36,36,36)"
            },
            "marker": {
             "line": {
              "color": "white",
              "width": 0.5
             },
             "pattern": {
              "fillmode": "overlay",
              "size": 10,
              "solidity": 0.2
             }
            },
            "type": "bar"
           }
          ],
          "barpolar": [
           {
            "marker": {
             "line": {
              "color": "white",
              "width": 0.5
             },
             "pattern": {
              "fillmode": "overlay",
              "size": 10,
              "solidity": 0.2
             }
            },
            "type": "barpolar"
           }
          ],
          "carpet": [
           {
            "aaxis": {
             "endlinecolor": "rgb(36,36,36)",
             "gridcolor": "white",
             "linecolor": "white",
             "minorgridcolor": "white",
             "startlinecolor": "rgb(36,36,36)"
            },
            "baxis": {
             "endlinecolor": "rgb(36,36,36)",
             "gridcolor": "white",
             "linecolor": "white",
             "minorgridcolor": "white",
             "startlinecolor": "rgb(36,36,36)"
            },
            "type": "carpet"
           }
          ],
          "choropleth": [
           {
            "colorbar": {
             "outlinewidth": 1,
             "tickcolor": "rgb(36,36,36)",
             "ticks": "outside"
            },
            "type": "choropleth"
           }
          ],
          "contour": [
           {
            "colorbar": {
             "outlinewidth": 1,
             "tickcolor": "rgb(36,36,36)",
             "ticks": "outside"
            },
            "colorscale": [
             [
              0,
              "#440154"
             ],
             [
              0.1111111111111111,
              "#482878"
             ],
             [
              0.2222222222222222,
              "#3e4989"
             ],
             [
              0.3333333333333333,
              "#31688e"
             ],
             [
              0.4444444444444444,
              "#26828e"
             ],
             [
              0.5555555555555556,
              "#1f9e89"
             ],
             [
              0.6666666666666666,
              "#35b779"
             ],
             [
              0.7777777777777778,
              "#6ece58"
             ],
             [
              0.8888888888888888,
              "#b5de2b"
             ],
             [
              1,
              "#fde725"
             ]
            ],
            "type": "contour"
           }
          ],
          "contourcarpet": [
           {
            "colorbar": {
             "outlinewidth": 1,
             "tickcolor": "rgb(36,36,36)",
             "ticks": "outside"
            },
            "type": "contourcarpet"
           }
          ],
          "heatmap": [
           {
            "colorbar": {
             "outlinewidth": 1,
             "tickcolor": "rgb(36,36,36)",
             "ticks": "outside"
            },
            "colorscale": [
             [
              0,
              "#440154"
             ],
             [
              0.1111111111111111,
              "#482878"
             ],
             [
              0.2222222222222222,
              "#3e4989"
             ],
             [
              0.3333333333333333,
              "#31688e"
             ],
             [
              0.4444444444444444,
              "#26828e"
             ],
             [
              0.5555555555555556,
              "#1f9e89"
             ],
             [
              0.6666666666666666,
              "#35b779"
             ],
             [
              0.7777777777777778,
              "#6ece58"
             ],
             [
              0.8888888888888888,
              "#b5de2b"
             ],
             [
              1,
              "#fde725"
             ]
            ],
            "type": "heatmap"
           }
          ],
          "heatmapgl": [
           {
            "colorbar": {
             "outlinewidth": 1,
             "tickcolor": "rgb(36,36,36)",
             "ticks": "outside"
            },
            "colorscale": [
             [
              0,
              "#440154"
             ],
             [
              0.1111111111111111,
              "#482878"
             ],
             [
              0.2222222222222222,
              "#3e4989"
             ],
             [
              0.3333333333333333,
              "#31688e"
             ],
             [
              0.4444444444444444,
              "#26828e"
             ],
             [
              0.5555555555555556,
              "#1f9e89"
             ],
             [
              0.6666666666666666,
              "#35b779"
             ],
             [
              0.7777777777777778,
              "#6ece58"
             ],
             [
              0.8888888888888888,
              "#b5de2b"
             ],
             [
              1,
              "#fde725"
             ]
            ],
            "type": "heatmapgl"
           }
          ],
          "histogram": [
           {
            "marker": {
             "line": {
              "color": "white",
              "width": 0.6
             }
            },
            "type": "histogram"
           }
          ],
          "histogram2d": [
           {
            "colorbar": {
             "outlinewidth": 1,
             "tickcolor": "rgb(36,36,36)",
             "ticks": "outside"
            },
            "colorscale": [
             [
              0,
              "#440154"
             ],
             [
              0.1111111111111111,
              "#482878"
             ],
             [
              0.2222222222222222,
              "#3e4989"
             ],
             [
              0.3333333333333333,
              "#31688e"
             ],
             [
              0.4444444444444444,
              "#26828e"
             ],
             [
              0.5555555555555556,
              "#1f9e89"
             ],
             [
              0.6666666666666666,
              "#35b779"
             ],
             [
              0.7777777777777778,
              "#6ece58"
             ],
             [
              0.8888888888888888,
              "#b5de2b"
             ],
             [
              1,
              "#fde725"
             ]
            ],
            "type": "histogram2d"
           }
          ],
          "histogram2dcontour": [
           {
            "colorbar": {
             "outlinewidth": 1,
             "tickcolor": "rgb(36,36,36)",
             "ticks": "outside"
            },
            "colorscale": [
             [
              0,
              "#440154"
             ],
             [
              0.1111111111111111,
              "#482878"
             ],
             [
              0.2222222222222222,
              "#3e4989"
             ],
             [
              0.3333333333333333,
              "#31688e"
             ],
             [
              0.4444444444444444,
              "#26828e"
             ],
             [
              0.5555555555555556,
              "#1f9e89"
             ],
             [
              0.6666666666666666,
              "#35b779"
             ],
             [
              0.7777777777777778,
              "#6ece58"
             ],
             [
              0.8888888888888888,
              "#b5de2b"
             ],
             [
              1,
              "#fde725"
             ]
            ],
            "type": "histogram2dcontour"
           }
          ],
          "mesh3d": [
           {
            "colorbar": {
             "outlinewidth": 1,
             "tickcolor": "rgb(36,36,36)",
             "ticks": "outside"
            },
            "type": "mesh3d"
           }
          ],
          "parcoords": [
           {
            "line": {
             "colorbar": {
              "outlinewidth": 1,
              "tickcolor": "rgb(36,36,36)",
              "ticks": "outside"
             }
            },
            "type": "parcoords"
           }
          ],
          "pie": [
           {
            "automargin": true,
            "type": "pie"
           }
          ],
          "scatter": [
           {
            "fillpattern": {
             "fillmode": "overlay",
             "size": 10,
             "solidity": 0.2
            },
            "type": "scatter"
           }
          ],
          "scatter3d": [
           {
            "line": {
             "colorbar": {
              "outlinewidth": 1,
              "tickcolor": "rgb(36,36,36)",
              "ticks": "outside"
             }
            },
            "marker": {
             "colorbar": {
              "outlinewidth": 1,
              "tickcolor": "rgb(36,36,36)",
              "ticks": "outside"
             }
            },
            "type": "scatter3d"
           }
          ],
          "scattercarpet": [
           {
            "marker": {
             "colorbar": {
              "outlinewidth": 1,
              "tickcolor": "rgb(36,36,36)",
              "ticks": "outside"
             }
            },
            "type": "scattercarpet"
           }
          ],
          "scattergeo": [
           {
            "marker": {
             "colorbar": {
              "outlinewidth": 1,
              "tickcolor": "rgb(36,36,36)",
              "ticks": "outside"
             }
            },
            "type": "scattergeo"
           }
          ],
          "scattergl": [
           {
            "marker": {
             "colorbar": {
              "outlinewidth": 1,
              "tickcolor": "rgb(36,36,36)",
              "ticks": "outside"
             }
            },
            "type": "scattergl"
           }
          ],
          "scattermapbox": [
           {
            "marker": {
             "colorbar": {
              "outlinewidth": 1,
              "tickcolor": "rgb(36,36,36)",
              "ticks": "outside"
             }
            },
            "type": "scattermapbox"
           }
          ],
          "scatterpolar": [
           {
            "marker": {
             "colorbar": {
              "outlinewidth": 1,
              "tickcolor": "rgb(36,36,36)",
              "ticks": "outside"
             }
            },
            "type": "scatterpolar"
           }
          ],
          "scatterpolargl": [
           {
            "marker": {
             "colorbar": {
              "outlinewidth": 1,
              "tickcolor": "rgb(36,36,36)",
              "ticks": "outside"
             }
            },
            "type": "scatterpolargl"
           }
          ],
          "scatterternary": [
           {
            "marker": {
             "colorbar": {
              "outlinewidth": 1,
              "tickcolor": "rgb(36,36,36)",
              "ticks": "outside"
             }
            },
            "type": "scatterternary"
           }
          ],
          "surface": [
           {
            "colorbar": {
             "outlinewidth": 1,
             "tickcolor": "rgb(36,36,36)",
             "ticks": "outside"
            },
            "colorscale": [
             [
              0,
              "#440154"
             ],
             [
              0.1111111111111111,
              "#482878"
             ],
             [
              0.2222222222222222,
              "#3e4989"
             ],
             [
              0.3333333333333333,
              "#31688e"
             ],
             [
              0.4444444444444444,
              "#26828e"
             ],
             [
              0.5555555555555556,
              "#1f9e89"
             ],
             [
              0.6666666666666666,
              "#35b779"
             ],
             [
              0.7777777777777778,
              "#6ece58"
             ],
             [
              0.8888888888888888,
              "#b5de2b"
             ],
             [
              1,
              "#fde725"
             ]
            ],
            "type": "surface"
           }
          ],
          "table": [
           {
            "cells": {
             "fill": {
              "color": "rgb(237,237,237)"
             },
             "line": {
              "color": "white"
             }
            },
            "header": {
             "fill": {
              "color": "rgb(217,217,217)"
             },
             "line": {
              "color": "white"
             }
            },
            "type": "table"
           }
          ]
         },
         "layout": {
          "annotationdefaults": {
           "arrowhead": 0,
           "arrowwidth": 1
          },
          "autotypenumbers": "strict",
          "coloraxis": {
           "colorbar": {
            "outlinewidth": 1,
            "tickcolor": "rgb(36,36,36)",
            "ticks": "outside"
           }
          },
          "colorscale": {
           "diverging": [
            [
             0,
             "rgb(103,0,31)"
            ],
            [
             0.1,
             "rgb(178,24,43)"
            ],
            [
             0.2,
             "rgb(214,96,77)"
            ],
            [
             0.3,
             "rgb(244,165,130)"
            ],
            [
             0.4,
             "rgb(253,219,199)"
            ],
            [
             0.5,
             "rgb(247,247,247)"
            ],
            [
             0.6,
             "rgb(209,229,240)"
            ],
            [
             0.7,
             "rgb(146,197,222)"
            ],
            [
             0.8,
             "rgb(67,147,195)"
            ],
            [
             0.9,
             "rgb(33,102,172)"
            ],
            [
             1,
             "rgb(5,48,97)"
            ]
           ],
           "sequential": [
            [
             0,
             "#440154"
            ],
            [
             0.1111111111111111,
             "#482878"
            ],
            [
             0.2222222222222222,
             "#3e4989"
            ],
            [
             0.3333333333333333,
             "#31688e"
            ],
            [
             0.4444444444444444,
             "#26828e"
            ],
            [
             0.5555555555555556,
             "#1f9e89"
            ],
            [
             0.6666666666666666,
             "#35b779"
            ],
            [
             0.7777777777777778,
             "#6ece58"
            ],
            [
             0.8888888888888888,
             "#b5de2b"
            ],
            [
             1,
             "#fde725"
            ]
           ],
           "sequentialminus": [
            [
             0,
             "#440154"
            ],
            [
             0.1111111111111111,
             "#482878"
            ],
            [
             0.2222222222222222,
             "#3e4989"
            ],
            [
             0.3333333333333333,
             "#31688e"
            ],
            [
             0.4444444444444444,
             "#26828e"
            ],
            [
             0.5555555555555556,
             "#1f9e89"
            ],
            [
             0.6666666666666666,
             "#35b779"
            ],
            [
             0.7777777777777778,
             "#6ece58"
            ],
            [
             0.8888888888888888,
             "#b5de2b"
            ],
            [
             1,
             "#fde725"
            ]
           ]
          },
          "colorway": [
           "#1F77B4",
           "#FF7F0E",
           "#2CA02C",
           "#D62728",
           "#9467BD",
           "#8C564B",
           "#E377C2",
           "#7F7F7F",
           "#BCBD22",
           "#17BECF"
          ],
          "font": {
           "color": "rgb(36,36,36)"
          },
          "geo": {
           "bgcolor": "white",
           "lakecolor": "white",
           "landcolor": "white",
           "showlakes": true,
           "showland": true,
           "subunitcolor": "white"
          },
          "hoverlabel": {
           "align": "left"
          },
          "hovermode": "closest",
          "mapbox": {
           "style": "light"
          },
          "paper_bgcolor": "white",
          "plot_bgcolor": "white",
          "polar": {
           "angularaxis": {
            "gridcolor": "rgb(232,232,232)",
            "linecolor": "rgb(36,36,36)",
            "showgrid": false,
            "showline": true,
            "ticks": "outside"
           },
           "bgcolor": "white",
           "radialaxis": {
            "gridcolor": "rgb(232,232,232)",
            "linecolor": "rgb(36,36,36)",
            "showgrid": false,
            "showline": true,
            "ticks": "outside"
           }
          },
          "scene": {
           "xaxis": {
            "backgroundcolor": "white",
            "gridcolor": "rgb(232,232,232)",
            "gridwidth": 2,
            "linecolor": "rgb(36,36,36)",
            "showbackground": true,
            "showgrid": false,
            "showline": true,
            "ticks": "outside",
            "zeroline": false,
            "zerolinecolor": "rgb(36,36,36)"
           },
           "yaxis": {
            "backgroundcolor": "white",
            "gridcolor": "rgb(232,232,232)",
            "gridwidth": 2,
            "linecolor": "rgb(36,36,36)",
            "showbackground": true,
            "showgrid": false,
            "showline": true,
            "ticks": "outside",
            "zeroline": false,
            "zerolinecolor": "rgb(36,36,36)"
           },
           "zaxis": {
            "backgroundcolor": "white",
            "gridcolor": "rgb(232,232,232)",
            "gridwidth": 2,
            "linecolor": "rgb(36,36,36)",
            "showbackground": true,
            "showgrid": false,
            "showline": true,
            "ticks": "outside",
            "zeroline": false,
            "zerolinecolor": "rgb(36,36,36)"
           }
          },
          "shapedefaults": {
           "fillcolor": "black",
           "line": {
            "width": 0
           },
           "opacity": 0.3
          },
          "ternary": {
           "aaxis": {
            "gridcolor": "rgb(232,232,232)",
            "linecolor": "rgb(36,36,36)",
            "showgrid": false,
            "showline": true,
            "ticks": "outside"
           },
           "baxis": {
            "gridcolor": "rgb(232,232,232)",
            "linecolor": "rgb(36,36,36)",
            "showgrid": false,
            "showline": true,
            "ticks": "outside"
           },
           "bgcolor": "white",
           "caxis": {
            "gridcolor": "rgb(232,232,232)",
            "linecolor": "rgb(36,36,36)",
            "showgrid": false,
            "showline": true,
            "ticks": "outside"
           }
          },
          "title": {
           "x": 0.05
          },
          "xaxis": {
           "automargin": true,
           "gridcolor": "rgb(232,232,232)",
           "linecolor": "rgb(36,36,36)",
           "showgrid": false,
           "showline": true,
           "ticks": "outside",
           "title": {
            "standoff": 15
           },
           "zeroline": false,
           "zerolinecolor": "rgb(36,36,36)"
          },
          "yaxis": {
           "automargin": true,
           "gridcolor": "rgb(232,232,232)",
           "linecolor": "rgb(36,36,36)",
           "showgrid": false,
           "showline": true,
           "ticks": "outside",
           "title": {
            "standoff": 15
           },
           "zeroline": false,
           "zerolinecolor": "rgb(36,36,36)"
          }
         }
        },
        "title": {
         "font": {
          "color": "Black",
          "size": 22
         },
         "text": "<b>Topics over Time</b>",
         "x": 0.4,
         "xanchor": "center",
         "y": 0.95,
         "yanchor": "top"
        },
        "width": 1250,
        "xaxis": {
         "range": [
          2013,
          2023
         ],
         "showgrid": true
        },
        "yaxis": {
         "showgrid": true,
         "title": {
          "text": "Normalized Frequency"
         }
        }
       }
      }
     },
     "metadata": {},
     "output_type": "display_data"
    }
   ],
   "source": [
    "# Comme il s'agit d'un plotly, nous pouvons également tracer les étiquettes des sujets. (limiter de 2013 à 2023)\n",
    "fig_dtm = topic_model.visualize_topics_over_time(topics_over_time, custom_labels=True, normalize_frequency=True)\n",
    "fig_dtm.update_xaxes(range=[2013, 2023])\n",
    "fig_dtm.write_html(\"output/visualize_topics_over_time.html\")\n",
    "fig_dtm"
   ]
  }
 ],
 "metadata": {
  "kernelspec": {
   "display_name": "Python 3",
   "language": "python",
   "name": "python3"
  },
  "language_info": {
   "codemirror_mode": {
    "name": "ipython",
    "version": 3
   },
   "file_extension": ".py",
   "mimetype": "text/x-python",
   "name": "python",
   "nbconvert_exporter": "python",
   "pygments_lexer": "ipython3",
   "version": "3.11.5"
  }
 },
 "nbformat": 4,
 "nbformat_minor": 2
}
