{
 "cells": [
  {
   "cell_type": "code",
   "execution_count": 1,
   "metadata": {},
   "outputs": [
    {
     "data": {
      "text/plain": [
       "<spacy_language_detection.spacy_language_detector.LanguageDetector at 0x212f72ebb10>"
      ]
     },
     "execution_count": 1,
     "metadata": {},
     "output_type": "execute_result"
    }
   ],
   "source": [
    "# Import des modules généraux\n",
    "import pandas as pd\n",
    "import re\n",
    "from collections import Counter\n",
    "from dotenv import load_dotenv\n",
    "import os\n",
    "\n",
    "# Import des modules de NLP\n",
    "from bertopic import BERTopic\n",
    "from bertopic.representation import KeyBERTInspired, MaximalMarginalRelevance, OpenAI, PartOfSpeech\n",
    "from bertopic.vectorizers import ClassTfidfTransformer\n",
    "\n",
    "import spacy\n",
    "from spacy.language import Language\n",
    "from spacy_language_detection import LanguageDetector\n",
    "\n",
    "from nltk.tokenize import sent_tokenize, word_tokenize\n",
    "from sentence_transformers import SentenceTransformer\n",
    "from sklearn.feature_extraction.text import CountVectorizer\n",
    "\n",
    "# Import des modules de clustering\n",
    "from hdbscan import HDBSCAN\n",
    "from umap import UMAP\n",
    "\n",
    "# Import des modules de visualisation\n",
    "import matplotlib.pyplot as plt\n",
    "import seaborn as sns\n",
    "\n",
    "# Import de openai pour la représentation des topics améliorée\n",
    "import openai\n",
    "\n",
    "# Chargement des variables d'environnement et initialisations\n",
    "load_dotenv()\n",
    "openai_api_key = os.getenv(\"OPENAI_API_KEY\")\n",
    "nlp = spacy.load(\"fr_core_news_md\")\n",
    "\n",
    "def get_lang_detector(nlp, name):\n",
    "    return LanguageDetector(seed=42)  # We use the seed 42\n",
    "\n",
    "Language.factory(\"language_detector\", func=get_lang_detector)\n",
    "nlp.add_pipe('language_detector', last=True)"
   ]
  },
  {
   "cell_type": "code",
   "execution_count": 2,
   "metadata": {},
   "outputs": [
    {
     "data": {
      "text/html": [
       "<div>\n",
       "<style scoped>\n",
       "    .dataframe tbody tr th:only-of-type {\n",
       "        vertical-align: middle;\n",
       "    }\n",
       "\n",
       "    .dataframe tbody tr th {\n",
       "        vertical-align: top;\n",
       "    }\n",
       "\n",
       "    .dataframe thead th {\n",
       "        text-align: right;\n",
       "    }\n",
       "</style>\n",
       "<table border=\"1\" class=\"dataframe\">\n",
       "  <thead>\n",
       "    <tr style=\"text-align: right;\">\n",
       "      <th></th>\n",
       "      <th>Cites</th>\n",
       "      <th>Authors</th>\n",
       "      <th>Title</th>\n",
       "      <th>Year</th>\n",
       "      <th>Source</th>\n",
       "      <th>Publisher</th>\n",
       "      <th>ArticleURL</th>\n",
       "      <th>CitesURL</th>\n",
       "      <th>GSRank</th>\n",
       "      <th>QueryDate</th>\n",
       "      <th>...</th>\n",
       "      <th>StartPage</th>\n",
       "      <th>EndPage</th>\n",
       "      <th>ECC</th>\n",
       "      <th>CitesPerYear</th>\n",
       "      <th>CitesPerAuthor</th>\n",
       "      <th>AuthorCount</th>\n",
       "      <th>Age</th>\n",
       "      <th>Abstract</th>\n",
       "      <th>FullTextURL</th>\n",
       "      <th>RelatedURL</th>\n",
       "    </tr>\n",
       "  </thead>\n",
       "  <tbody>\n",
       "    <tr>\n",
       "      <th>0</th>\n",
       "      <td>677</td>\n",
       "      <td>A Aouadi, S Marsat</td>\n",
       "      <td>Do ESG controversies matter for firm value? Ev...</td>\n",
       "      <td>2018</td>\n",
       "      <td>Journal of business ethics</td>\n",
       "      <td>Springer</td>\n",
       "      <td>https://link.springer.com/article/10.1007/s105...</td>\n",
       "      <td>https://scholar.google.com/scholar?cites=74317...</td>\n",
       "      <td>6.0</td>\n",
       "      <td>2024-03-19 21:03:25</td>\n",
       "      <td>...</td>\n",
       "      <td>NaN</td>\n",
       "      <td>NaN</td>\n",
       "      <td>677.0</td>\n",
       "      <td>112.83</td>\n",
       "      <td>339.0</td>\n",
       "      <td>2.0</td>\n",
       "      <td>6.0</td>\n",
       "      <td>The aim of this paper is to investigate the re...</td>\n",
       "      <td>https://www.jstor.org/stable/pdf/45022714.pdf?...</td>\n",
       "      <td>https://scholar.google.com/scholar?q=related:V...</td>\n",
       "    </tr>\n",
       "    <tr>\n",
       "      <th>1</th>\n",
       "      <td>193</td>\n",
       "      <td>D Talbot</td>\n",
       "      <td>Les institutions créatrices de proximités: Ins...</td>\n",
       "      <td>2008</td>\n",
       "      <td>Revue d'économie régionale &amp;urbaine</td>\n",
       "      <td>cairn.info</td>\n",
       "      <td>https://www.cairn.info/revue-d-economie-region...</td>\n",
       "      <td>https://scholar.google.com/scholar?cites=31866...</td>\n",
       "      <td>10.0</td>\n",
       "      <td>2024-03-20 08:00:14</td>\n",
       "      <td>...</td>\n",
       "      <td>NaN</td>\n",
       "      <td>NaN</td>\n",
       "      <td>193.0</td>\n",
       "      <td>12.06</td>\n",
       "      <td>193.0</td>\n",
       "      <td>1.0</td>\n",
       "      <td>16.0</td>\n",
       "      <td>En mobilisant les apports des institutionnalis...</td>\n",
       "      <td>https://www.cairn.info/revue-d-economie-region...</td>\n",
       "      <td>https://scholar.google.com/scholar?q=related:2...</td>\n",
       "    </tr>\n",
       "    <tr>\n",
       "      <th>2</th>\n",
       "      <td>177</td>\n",
       "      <td>M Arouri, G Pijourlet</td>\n",
       "      <td>CSR performance and the value of cash holdings...</td>\n",
       "      <td>2017</td>\n",
       "      <td>Journal of Business Ethics</td>\n",
       "      <td>Springer</td>\n",
       "      <td>https://link.springer.com/article/10.1007/s105...</td>\n",
       "      <td>https://scholar.google.com/scholar?cites=17119...</td>\n",
       "      <td>1.0</td>\n",
       "      <td>2024-03-19 20:53:14</td>\n",
       "      <td>...</td>\n",
       "      <td>NaN</td>\n",
       "      <td>NaN</td>\n",
       "      <td>177.0</td>\n",
       "      <td>25.29</td>\n",
       "      <td>89.0</td>\n",
       "      <td>2.0</td>\n",
       "      <td>7.0</td>\n",
       "      <td>Using a worldwide sample, we examine whether c...</td>\n",
       "      <td>https://www.jstor.org/stable/pdf/44164262.pdf?...</td>\n",
       "      <td>https://scholar.google.com/scholar?q=related:8...</td>\n",
       "    </tr>\n",
       "    <tr>\n",
       "      <th>3</th>\n",
       "      <td>166</td>\n",
       "      <td>P Lacomme, M Larabi, N Tchernev</td>\n",
       "      <td>Job-shop based framework for simultaneous sche...</td>\n",
       "      <td>2013</td>\n",
       "      <td>International Journal of Production …</td>\n",
       "      <td>Elsevier</td>\n",
       "      <td>https://www.sciencedirect.com/science/article/...</td>\n",
       "      <td>https://scholar.google.com/scholar?cites=13514...</td>\n",
       "      <td>1.0</td>\n",
       "      <td>2024-03-20 08:02:20</td>\n",
       "      <td>...</td>\n",
       "      <td>NaN</td>\n",
       "      <td>NaN</td>\n",
       "      <td>166.0</td>\n",
       "      <td>15.09</td>\n",
       "      <td>55.0</td>\n",
       "      <td>3.0</td>\n",
       "      <td>11.0</td>\n",
       "      <td>This paper deals with the problem of simultane...</td>\n",
       "      <td>https://scholar.google.com/scholar?output=inst...</td>\n",
       "      <td>https://scholar.google.com/scholar?q=related:x...</td>\n",
       "    </tr>\n",
       "    <tr>\n",
       "      <th>4</th>\n",
       "      <td>165</td>\n",
       "      <td>F Aubert, G Grudnitski</td>\n",
       "      <td>The impact and importance of mandatory adoptio...</td>\n",
       "      <td>2011</td>\n",
       "      <td>… Financial Management &amp;Accounting</td>\n",
       "      <td>Wiley Online Library</td>\n",
       "      <td>https://onlinelibrary.wiley.com/doi/abs/10.111...</td>\n",
       "      <td>https://scholar.google.com/scholar?cites=10244...</td>\n",
       "      <td>4.0</td>\n",
       "      <td>2024-03-19 20:40:42</td>\n",
       "      <td>...</td>\n",
       "      <td>NaN</td>\n",
       "      <td>NaN</td>\n",
       "      <td>165.0</td>\n",
       "      <td>12.69</td>\n",
       "      <td>83.0</td>\n",
       "      <td>2.0</td>\n",
       "      <td>13.0</td>\n",
       "      <td>… significant relationship between accounting ...</td>\n",
       "      <td>https://onlinelibrary.wiley.com/doi/pdf/10.111...</td>\n",
       "      <td>https://scholar.google.com/scholar?q=related:N...</td>\n",
       "    </tr>\n",
       "    <tr>\n",
       "      <th>...</th>\n",
       "      <td>...</td>\n",
       "      <td>...</td>\n",
       "      <td>...</td>\n",
       "      <td>...</td>\n",
       "      <td>...</td>\n",
       "      <td>...</td>\n",
       "      <td>...</td>\n",
       "      <td>...</td>\n",
       "      <td>...</td>\n",
       "      <td>...</td>\n",
       "      <td>...</td>\n",
       "      <td>...</td>\n",
       "      <td>...</td>\n",
       "      <td>...</td>\n",
       "      <td>...</td>\n",
       "      <td>...</td>\n",
       "      <td>...</td>\n",
       "      <td>...</td>\n",
       "      <td>...</td>\n",
       "      <td>...</td>\n",
       "      <td>...</td>\n",
       "    </tr>\n",
       "    <tr>\n",
       "      <th>979</th>\n",
       "      <td>0</td>\n",
       "      <td>C Zumbo-lebrument, N Lebrument, ...</td>\n",
       "      <td>Quels sont les déterminants de l'acceptation d...</td>\n",
       "      <td>2021</td>\n",
       "      <td>Systèmes d'Information et …</td>\n",
       "      <td>revuesim.org</td>\n",
       "      <td>http://revuesim.org/index.php/sim/article/view...</td>\n",
       "      <td>NaN</td>\n",
       "      <td>66.0</td>\n",
       "      <td>2024-03-20 07:59:28</td>\n",
       "      <td>...</td>\n",
       "      <td>NaN</td>\n",
       "      <td>NaN</td>\n",
       "      <td>0.0</td>\n",
       "      <td>0.00</td>\n",
       "      <td>0.0</td>\n",
       "      <td>3.0</td>\n",
       "      <td>3.0</td>\n",
       "      <td>In recent years, the smart mobility inherent i...</td>\n",
       "      <td>http://revuesim.org/index.php/sim/article/view...</td>\n",
       "      <td>https://scholar.google.com/scholar?q=related:-...</td>\n",
       "    </tr>\n",
       "    <tr>\n",
       "      <th>980</th>\n",
       "      <td>0</td>\n",
       "      <td>RM Borges</td>\n",
       "      <td>Les brevets sur les inventions biotechnologiqu...</td>\n",
       "      <td>2013</td>\n",
       "      <td>The Innovation Journal</td>\n",
       "      <td>innovation.cc</td>\n",
       "      <td>https://innovation.cc/wp-content/uploads/2013_...</td>\n",
       "      <td>NaN</td>\n",
       "      <td>2.0</td>\n",
       "      <td>2024-03-19 20:41:41</td>\n",
       "      <td>...</td>\n",
       "      <td>NaN</td>\n",
       "      <td>NaN</td>\n",
       "      <td>0.0</td>\n",
       "      <td>0.00</td>\n",
       "      <td>0.0</td>\n",
       "      <td>1.0</td>\n",
       "      <td>11.0</td>\n",
       "      <td>Les demandes de brevet portant sur des végétau...</td>\n",
       "      <td>https://innovation.cc/wp-content/uploads/2013_...</td>\n",
       "      <td>https://scholar.google.com/scholar?q=related:E...</td>\n",
       "    </tr>\n",
       "    <tr>\n",
       "      <th>981</th>\n",
       "      <td>0</td>\n",
       "      <td>F Cassiere, G Paché</td>\n",
       "      <td>Internationalization of large retailers and cr...</td>\n",
       "      <td>2010</td>\n",
       "      <td>Timisoara Journal of Economics</td>\n",
       "      <td>ideas.repec.org</td>\n",
       "      <td>https://ideas.repec.org/a/wun/journl/tjev03y20...</td>\n",
       "      <td>NaN</td>\n",
       "      <td>9.0</td>\n",
       "      <td>2024-03-19 20:41:57</td>\n",
       "      <td>...</td>\n",
       "      <td>NaN</td>\n",
       "      <td>NaN</td>\n",
       "      <td>0.0</td>\n",
       "      <td>0.00</td>\n",
       "      <td>0.0</td>\n",
       "      <td>2.0</td>\n",
       "      <td>14.0</td>\n",
       "      <td>This article discusses the large retailers' in...</td>\n",
       "      <td>NaN</td>\n",
       "      <td>https://scholar.google.com/scholar?q=related:F...</td>\n",
       "    </tr>\n",
       "    <tr>\n",
       "      <th>983</th>\n",
       "      <td>0</td>\n",
       "      <td>JF Hoarau, M Goujon, F Rivière</td>\n",
       "      <td>Compared economic and environnemental vulnerab...</td>\n",
       "      <td>2014</td>\n",
       "      <td>Tourism specialization and …</td>\n",
       "      <td>inria.hal.science</td>\n",
       "      <td>https://inria.hal.science/hal-01483903/</td>\n",
       "      <td>NaN</td>\n",
       "      <td>69.0</td>\n",
       "      <td>2024-03-19 20:52:37</td>\n",
       "      <td>...</td>\n",
       "      <td>NaN</td>\n",
       "      <td>NaN</td>\n",
       "      <td>0.0</td>\n",
       "      <td>0.00</td>\n",
       "      <td>0.0</td>\n",
       "      <td>3.0</td>\n",
       "      <td>10.0</td>\n",
       "      <td>Compared economic and environnemental vulnerab...</td>\n",
       "      <td>NaN</td>\n",
       "      <td>https://scholar.google.com/scholar?q=related:m...</td>\n",
       "    </tr>\n",
       "    <tr>\n",
       "      <th>984</th>\n",
       "      <td>0</td>\n",
       "      <td>D Talbot</td>\n",
       "      <td>Une compréhension institutionnaliste de la pro...</td>\n",
       "      <td>2005</td>\n",
       "      <td>Une compréhension institutionnaliste de la pro...</td>\n",
       "      <td>shs.hal.science</td>\n",
       "      <td>https://shs.hal.science/hal-00153238/</td>\n",
       "      <td>NaN</td>\n",
       "      <td>135.0</td>\n",
       "      <td>2024-03-20 08:00:14</td>\n",
       "      <td>...</td>\n",
       "      <td>NaN</td>\n",
       "      <td>NaN</td>\n",
       "      <td>0.0</td>\n",
       "      <td>0.00</td>\n",
       "      <td>0.0</td>\n",
       "      <td>1.0</td>\n",
       "      <td>19.0</td>\n",
       "      <td>Une compréhension institutionnaliste de la pro...</td>\n",
       "      <td>NaN</td>\n",
       "      <td>https://scholar.google.com/scholar?q=related:k...</td>\n",
       "    </tr>\n",
       "  </tbody>\n",
       "</table>\n",
       "<p>913 rows × 26 columns</p>\n",
       "</div>"
      ],
      "text/plain": [
       "     Cites                              Authors  \\\n",
       "0      677                   A Aouadi, S Marsat   \n",
       "1      193                             D Talbot   \n",
       "2      177                M Arouri, G Pijourlet   \n",
       "3      166      P Lacomme, M Larabi, N Tchernev   \n",
       "4      165               F Aubert, G Grudnitski   \n",
       "..     ...                                  ...   \n",
       "979      0  C Zumbo-lebrument, N Lebrument, ...   \n",
       "980      0                            RM Borges   \n",
       "981      0                  F Cassiere, G Paché   \n",
       "983      0       JF Hoarau, M Goujon, F Rivière   \n",
       "984      0                             D Talbot   \n",
       "\n",
       "                                                 Title  Year  \\\n",
       "0    Do ESG controversies matter for firm value? Ev...  2018   \n",
       "1    Les institutions créatrices de proximités: Ins...  2008   \n",
       "2    CSR performance and the value of cash holdings...  2017   \n",
       "3    Job-shop based framework for simultaneous sche...  2013   \n",
       "4    The impact and importance of mandatory adoptio...  2011   \n",
       "..                                                 ...   ...   \n",
       "979  Quels sont les déterminants de l'acceptation d...  2021   \n",
       "980  Les brevets sur les inventions biotechnologiqu...  2013   \n",
       "981  Internationalization of large retailers and cr...  2010   \n",
       "983  Compared economic and environnemental vulnerab...  2014   \n",
       "984  Une compréhension institutionnaliste de la pro...  2005   \n",
       "\n",
       "                                                Source             Publisher  \\\n",
       "0                           Journal of business ethics              Springer   \n",
       "1                  Revue d'économie régionale &urbaine            cairn.info   \n",
       "2                           Journal of Business Ethics              Springer   \n",
       "3                International Journal of Production …              Elsevier   \n",
       "4                   … Financial Management &Accounting  Wiley Online Library   \n",
       "..                                                 ...                   ...   \n",
       "979                        Systèmes d'Information et …          revuesim.org   \n",
       "980                             The Innovation Journal         innovation.cc   \n",
       "981                     Timisoara Journal of Economics       ideas.repec.org   \n",
       "983                       Tourism specialization and …     inria.hal.science   \n",
       "984  Une compréhension institutionnaliste de la pro...       shs.hal.science   \n",
       "\n",
       "                                            ArticleURL  \\\n",
       "0    https://link.springer.com/article/10.1007/s105...   \n",
       "1    https://www.cairn.info/revue-d-economie-region...   \n",
       "2    https://link.springer.com/article/10.1007/s105...   \n",
       "3    https://www.sciencedirect.com/science/article/...   \n",
       "4    https://onlinelibrary.wiley.com/doi/abs/10.111...   \n",
       "..                                                 ...   \n",
       "979  http://revuesim.org/index.php/sim/article/view...   \n",
       "980  https://innovation.cc/wp-content/uploads/2013_...   \n",
       "981  https://ideas.repec.org/a/wun/journl/tjev03y20...   \n",
       "983            https://inria.hal.science/hal-01483903/   \n",
       "984              https://shs.hal.science/hal-00153238/   \n",
       "\n",
       "                                              CitesURL  GSRank  \\\n",
       "0    https://scholar.google.com/scholar?cites=74317...     6.0   \n",
       "1    https://scholar.google.com/scholar?cites=31866...    10.0   \n",
       "2    https://scholar.google.com/scholar?cites=17119...     1.0   \n",
       "3    https://scholar.google.com/scholar?cites=13514...     1.0   \n",
       "4    https://scholar.google.com/scholar?cites=10244...     4.0   \n",
       "..                                                 ...     ...   \n",
       "979                                                NaN    66.0   \n",
       "980                                                NaN     2.0   \n",
       "981                                                NaN     9.0   \n",
       "983                                                NaN    69.0   \n",
       "984                                                NaN   135.0   \n",
       "\n",
       "              QueryDate  ... StartPage EndPage    ECC  CitesPerYear  \\\n",
       "0   2024-03-19 21:03:25  ...       NaN     NaN  677.0        112.83   \n",
       "1   2024-03-20 08:00:14  ...       NaN     NaN  193.0         12.06   \n",
       "2   2024-03-19 20:53:14  ...       NaN     NaN  177.0         25.29   \n",
       "3   2024-03-20 08:02:20  ...       NaN     NaN  166.0         15.09   \n",
       "4   2024-03-19 20:40:42  ...       NaN     NaN  165.0         12.69   \n",
       "..                  ...  ...       ...     ...    ...           ...   \n",
       "979 2024-03-20 07:59:28  ...       NaN     NaN    0.0          0.00   \n",
       "980 2024-03-19 20:41:41  ...       NaN     NaN    0.0          0.00   \n",
       "981 2024-03-19 20:41:57  ...       NaN     NaN    0.0          0.00   \n",
       "983 2024-03-19 20:52:37  ...       NaN     NaN    0.0          0.00   \n",
       "984 2024-03-20 08:00:14  ...       NaN     NaN    0.0          0.00   \n",
       "\n",
       "     CitesPerAuthor  AuthorCount   Age  \\\n",
       "0             339.0          2.0   6.0   \n",
       "1             193.0          1.0  16.0   \n",
       "2              89.0          2.0   7.0   \n",
       "3              55.0          3.0  11.0   \n",
       "4              83.0          2.0  13.0   \n",
       "..              ...          ...   ...   \n",
       "979             0.0          3.0   3.0   \n",
       "980             0.0          1.0  11.0   \n",
       "981             0.0          2.0  14.0   \n",
       "983             0.0          3.0  10.0   \n",
       "984             0.0          1.0  19.0   \n",
       "\n",
       "                                              Abstract  \\\n",
       "0    The aim of this paper is to investigate the re...   \n",
       "1    En mobilisant les apports des institutionnalis...   \n",
       "2    Using a worldwide sample, we examine whether c...   \n",
       "3    This paper deals with the problem of simultane...   \n",
       "4    … significant relationship between accounting ...   \n",
       "..                                                 ...   \n",
       "979  In recent years, the smart mobility inherent i...   \n",
       "980  Les demandes de brevet portant sur des végétau...   \n",
       "981  This article discusses the large retailers' in...   \n",
       "983  Compared economic and environnemental vulnerab...   \n",
       "984  Une compréhension institutionnaliste de la pro...   \n",
       "\n",
       "                                           FullTextURL  \\\n",
       "0    https://www.jstor.org/stable/pdf/45022714.pdf?...   \n",
       "1    https://www.cairn.info/revue-d-economie-region...   \n",
       "2    https://www.jstor.org/stable/pdf/44164262.pdf?...   \n",
       "3    https://scholar.google.com/scholar?output=inst...   \n",
       "4    https://onlinelibrary.wiley.com/doi/pdf/10.111...   \n",
       "..                                                 ...   \n",
       "979  http://revuesim.org/index.php/sim/article/view...   \n",
       "980  https://innovation.cc/wp-content/uploads/2013_...   \n",
       "981                                                NaN   \n",
       "983                                                NaN   \n",
       "984                                                NaN   \n",
       "\n",
       "                                            RelatedURL  \n",
       "0    https://scholar.google.com/scholar?q=related:V...  \n",
       "1    https://scholar.google.com/scholar?q=related:2...  \n",
       "2    https://scholar.google.com/scholar?q=related:8...  \n",
       "3    https://scholar.google.com/scholar?q=related:x...  \n",
       "4    https://scholar.google.com/scholar?q=related:N...  \n",
       "..                                                 ...  \n",
       "979  https://scholar.google.com/scholar?q=related:-...  \n",
       "980  https://scholar.google.com/scholar?q=related:E...  \n",
       "981  https://scholar.google.com/scholar?q=related:F...  \n",
       "983  https://scholar.google.com/scholar?q=related:m...  \n",
       "984  https://scholar.google.com/scholar?q=related:k...  \n",
       "\n",
       "[913 rows x 26 columns]"
      ]
     },
     "execution_count": 2,
     "metadata": {},
     "output_type": "execute_result"
    }
   ],
   "source": [
    "# Texte complet contenant tous les articles (data\\Articles CleRMa.xlsx)\n",
    "df = pd.read_excel(\"data/Articles CleRMa.xlsx\")\n",
    "\n",
    "# Les year qui n'existent pas sont des NaN, on les drop\n",
    "df = df.dropna(subset=['Year'])\n",
    "\n",
    "# Les year sont des float, on les convertit en int\n",
    "df['Year'] = df['Year'].astype(int)\n",
    "df"
   ]
  },
  {
   "cell_type": "code",
   "execution_count": 3,
   "metadata": {},
   "outputs": [
    {
     "data": {
      "text/html": [
       "<div>\n",
       "<style scoped>\n",
       "    .dataframe tbody tr th:only-of-type {\n",
       "        vertical-align: middle;\n",
       "    }\n",
       "\n",
       "    .dataframe tbody tr th {\n",
       "        vertical-align: top;\n",
       "    }\n",
       "\n",
       "    .dataframe thead th {\n",
       "        text-align: right;\n",
       "    }\n",
       "</style>\n",
       "<table border=\"1\" class=\"dataframe\">\n",
       "  <thead>\n",
       "    <tr style=\"text-align: right;\">\n",
       "      <th></th>\n",
       "      <th>Date</th>\n",
       "      <th>Sentence</th>\n",
       "    </tr>\n",
       "  </thead>\n",
       "  <tbody>\n",
       "    <tr>\n",
       "      <th>0</th>\n",
       "      <td>2018</td>\n",
       "      <td>do esg controversies matter for firm value? ev...</td>\n",
       "    </tr>\n",
       "    <tr>\n",
       "      <th>1</th>\n",
       "      <td>2008</td>\n",
       "      <td>les institutions créatrices de proximités: ins...</td>\n",
       "    </tr>\n",
       "    <tr>\n",
       "      <th>2</th>\n",
       "      <td>2017</td>\n",
       "      <td>csr performance and the value of cash holdings...</td>\n",
       "    </tr>\n",
       "    <tr>\n",
       "      <th>3</th>\n",
       "      <td>2013</td>\n",
       "      <td>job-shop based framework for simultaneous sche...</td>\n",
       "    </tr>\n",
       "    <tr>\n",
       "      <th>4</th>\n",
       "      <td>2011</td>\n",
       "      <td>the impact and importance of mandatory adoptio...</td>\n",
       "    </tr>\n",
       "    <tr>\n",
       "      <th>...</th>\n",
       "      <td>...</td>\n",
       "      <td>...</td>\n",
       "    </tr>\n",
       "    <tr>\n",
       "      <th>907</th>\n",
       "      <td>2021</td>\n",
       "      <td>quels sont les déterminants de l'acceptation d...</td>\n",
       "    </tr>\n",
       "    <tr>\n",
       "      <th>909</th>\n",
       "      <td>2013</td>\n",
       "      <td>les brevets sur les inventions biotechnologiqu...</td>\n",
       "    </tr>\n",
       "    <tr>\n",
       "      <th>910</th>\n",
       "      <td>2010</td>\n",
       "      <td>internationalization of large retailers and cr...</td>\n",
       "    </tr>\n",
       "    <tr>\n",
       "      <th>911</th>\n",
       "      <td>2014</td>\n",
       "      <td>compared economic and environnemental vulnerab...</td>\n",
       "    </tr>\n",
       "    <tr>\n",
       "      <th>912</th>\n",
       "      <td>2005</td>\n",
       "      <td>une compréhension institutionnaliste de la pro...</td>\n",
       "    </tr>\n",
       "  </tbody>\n",
       "</table>\n",
       "<p>874 rows × 2 columns</p>\n",
       "</div>"
      ],
      "text/plain": [
       "     Date                                           Sentence\n",
       "0    2018  do esg controversies matter for firm value? ev...\n",
       "1    2008  les institutions créatrices de proximités: ins...\n",
       "2    2017  csr performance and the value of cash holdings...\n",
       "3    2013  job-shop based framework for simultaneous sche...\n",
       "4    2011  the impact and importance of mandatory adoptio...\n",
       "..    ...                                                ...\n",
       "907  2021  quels sont les déterminants de l'acceptation d...\n",
       "909  2013  les brevets sur les inventions biotechnologiqu...\n",
       "910  2010  internationalization of large retailers and cr...\n",
       "911  2014  compared economic and environnemental vulnerab...\n",
       "912  2005  une compréhension institutionnaliste de la pro...\n",
       "\n",
       "[874 rows x 2 columns]"
      ]
     },
     "execution_count": 3,
     "metadata": {},
     "output_type": "execute_result"
    }
   ],
   "source": [
    "# Initialize an empty list to store the rows\n",
    "data = []\n",
    "\n",
    "for index, row in df.iterrows():\n",
    "    date = row[\"Year\"]\n",
    "    sentences = row[\"Title\"]\n",
    "    \n",
    "    # Tokenize the content into sentences\n",
    "    #sentences = sent_tokenize(sentences)\n",
    "\n",
    "    # Enlever les caractères spéciaux, les espaces en trop et mettre en minuscule\n",
    "    #sentences = [re.sub(r\"[^a-zA-Z0-9\\s]\", \"\", sentence) for sentence in sentences]\n",
    "    #sentences = [\" \".join(sentence.split()) for sentence in sentences]\n",
    "    sentences = sentences.lower()\n",
    "    \n",
    "    # Enlever les phrases qui ont moins de 16 mots\n",
    "    #sentences = [sentence for sentence in sentences if len(word_tokenize(sentence)) > 16]\n",
    "\n",
    "    # Enlever les phrases en langue étrangère\n",
    "    #sentences = [sentence for sentence in sentences if nlp(sentence)._.language[\"language\"] == \"fr\"]\n",
    "\n",
    "    # Enlever les phrases qui ont plus de 10 caractères spéciaux\n",
    "    #sentences = [sentence for sentence in sentences if len(re.findall(r\"[^a-zA-Z0-9\\s]\", sentence)) < 10]\n",
    "\n",
    "    # Enlever les phrases contenant \"operator\"\n",
    "    #sentences = [sentence for sentence in sentences if \"operator\" not in sentence.lower()]\n",
    "\n",
    "    # Enlever les \" --\" à l'intérieur des phrases\n",
    "    #sentences = [sentence.replace(\" --\", \"\") for sentence in sentences]\n",
    "\n",
    "    # Enlever les phrases en double\n",
    "    #sentences = list(set(sentences))\n",
    "    \n",
    "    # Append each sentence with its date to the list\n",
    "    data.extend([[date, sentences]])\n",
    "\n",
    "# Create a new DataFrame from the accumulated data\n",
    "df_dates_sentences = pd.DataFrame(data, columns=[\"Date\", \"Sentence\"])\n",
    "\n",
    "# Supprimer les phrases en double\n",
    "df_dates_sentences = df_dates_sentences.drop_duplicates(subset=[\"Sentence\"])\n",
    "\n",
    "df_dates_sentences"
   ]
  },
  {
   "cell_type": "code",
   "execution_count": 4,
   "metadata": {},
   "outputs": [
    {
     "name": "stdout",
     "output_type": "stream",
     "text": [
      "Moyenne: 12.654462242562929\n",
      "Ecart-type: 5.317378152875759\n",
      "\n",
      "Number of dates: 874\n",
      "Number of sentences: 874\n"
     ]
    }
   ],
   "source": [
    "# Print le nombre de mots par phrase en moyenne avec l'écart-type\n",
    "print(f\"Moyenne: {df_dates_sentences['Sentence'].str.split().str.len().mean()}\")\n",
    "print(f\"Ecart-type: {df_dates_sentences['Sentence'].str.split().str.len().std()}\")\n",
    "\n",
    "dates = df_dates_sentences[\"Date\"].tolist()\n",
    "sentences = df_dates_sentences[\"Sentence\"].tolist()\n",
    "\n",
    "# Print the length of the dates and sentences\n",
    "print(f\"\\nNumber of dates: {len(dates)}\")\n",
    "print(f\"Number of sentences: {len(sentences)}\")"
   ]
  },
  {
   "cell_type": "code",
   "execution_count": 20,
   "metadata": {},
   "outputs": [
    {
     "data": {
      "application/vnd.jupyter.widget-view+json": {
       "model_id": "810f64cb2a9e4a5db5f59b45b6ee5fe7",
       "version_major": 2,
       "version_minor": 0
      },
      "text/plain": [
       ".gitattributes:   0%|          | 0.00/968 [00:00<?, ?B/s]"
      ]
     },
     "metadata": {},
     "output_type": "display_data"
    },
    {
     "data": {
      "application/vnd.jupyter.widget-view+json": {
       "model_id": "7b971a97886e4dfab2cbc11712bcdb33",
       "version_major": 2,
       "version_minor": 0
      },
      "text/plain": [
       "1_Pooling/config.json:   0%|          | 0.00/190 [00:00<?, ?B/s]"
      ]
     },
     "metadata": {},
     "output_type": "display_data"
    },
    {
     "data": {
      "application/vnd.jupyter.widget-view+json": {
       "model_id": "1d51c68070764a4fac64b496fab722a1",
       "version_major": 2,
       "version_minor": 0
      },
      "text/plain": [
       "README.md:   0%|          | 0.00/4.12k [00:00<?, ?B/s]"
      ]
     },
     "metadata": {},
     "output_type": "display_data"
    },
    {
     "data": {
      "application/vnd.jupyter.widget-view+json": {
       "model_id": "5e002f021679435bb075cb79747df930",
       "version_major": 2,
       "version_minor": 0
      },
      "text/plain": [
       "config.json:   0%|          | 0.00/645 [00:00<?, ?B/s]"
      ]
     },
     "metadata": {},
     "output_type": "display_data"
    },
    {
     "data": {
      "application/vnd.jupyter.widget-view+json": {
       "model_id": "5564d615ea5546b683cd73e7b2a82618",
       "version_major": 2,
       "version_minor": 0
      },
      "text/plain": [
       "config_sentence_transformers.json:   0%|          | 0.00/122 [00:00<?, ?B/s]"
      ]
     },
     "metadata": {},
     "output_type": "display_data"
    },
    {
     "data": {
      "application/vnd.jupyter.widget-view+json": {
       "model_id": "95734f7ff43c424898936ffba16a9863",
       "version_major": 2,
       "version_minor": 0
      },
      "text/plain": [
       "pytorch_model.bin:   0%|          | 0.00/471M [00:00<?, ?B/s]"
      ]
     },
     "metadata": {},
     "output_type": "display_data"
    },
    {
     "data": {
      "application/vnd.jupyter.widget-view+json": {
       "model_id": "cf1956d40a92411898fb85e3ccb6cd0b",
       "version_major": 2,
       "version_minor": 0
      },
      "text/plain": [
       "sentence_bert_config.json:   0%|          | 0.00/53.0 [00:00<?, ?B/s]"
      ]
     },
     "metadata": {},
     "output_type": "display_data"
    },
    {
     "data": {
      "application/vnd.jupyter.widget-view+json": {
       "model_id": "601dcc3e9bbe4a6fbd3cc876ef9f579b",
       "version_major": 2,
       "version_minor": 0
      },
      "text/plain": [
       "sentencepiece.bpe.model:   0%|          | 0.00/5.07M [00:00<?, ?B/s]"
      ]
     },
     "metadata": {},
     "output_type": "display_data"
    },
    {
     "data": {
      "application/vnd.jupyter.widget-view+json": {
       "model_id": "01fc0d3c3322421788d387b24157133b",
       "version_major": 2,
       "version_minor": 0
      },
      "text/plain": [
       "special_tokens_map.json:   0%|          | 0.00/239 [00:00<?, ?B/s]"
      ]
     },
     "metadata": {},
     "output_type": "display_data"
    },
    {
     "data": {
      "application/vnd.jupyter.widget-view+json": {
       "model_id": "5a08b98ff31840ff9c334571f47b5d77",
       "version_major": 2,
       "version_minor": 0
      },
      "text/plain": [
       "tokenizer.json:   0%|          | 0.00/9.08M [00:00<?, ?B/s]"
      ]
     },
     "metadata": {},
     "output_type": "display_data"
    },
    {
     "data": {
      "application/vnd.jupyter.widget-view+json": {
       "model_id": "ae2d95df5f554d2db7af77b249a344c9",
       "version_major": 2,
       "version_minor": 0
      },
      "text/plain": [
       "tokenizer_config.json:   0%|          | 0.00/480 [00:00<?, ?B/s]"
      ]
     },
     "metadata": {},
     "output_type": "display_data"
    },
    {
     "data": {
      "application/vnd.jupyter.widget-view+json": {
       "model_id": "bf8ae8e4de8643aeb057600b53313b63",
       "version_major": 2,
       "version_minor": 0
      },
      "text/plain": [
       "unigram.json:   0%|          | 0.00/14.8M [00:00<?, ?B/s]"
      ]
     },
     "metadata": {},
     "output_type": "display_data"
    },
    {
     "data": {
      "application/vnd.jupyter.widget-view+json": {
       "model_id": "d71d6297a66c4cd8b6796030a9f29764",
       "version_major": 2,
       "version_minor": 0
      },
      "text/plain": [
       "modules.json:   0%|          | 0.00/229 [00:00<?, ?B/s]"
      ]
     },
     "metadata": {},
     "output_type": "display_data"
    },
    {
     "data": {
      "application/vnd.jupyter.widget-view+json": {
       "model_id": "01e7ffdab44243488b76244a7529f639",
       "version_major": 2,
       "version_minor": 0
      },
      "text/plain": [
       "Batches:   0%|          | 0/9 [00:00<?, ?it/s]"
      ]
     },
     "metadata": {},
     "output_type": "display_data"
    }
   ],
   "source": [
    "# Pre-calculate embeddings\n",
    "embedding_model = SentenceTransformer(\"paraphrase-multilingual-MiniLM-L12-v2\")\n",
    "embeddings = embedding_model.encode(sentences, show_progress_bar=True)"
   ]
  },
  {
   "cell_type": "code",
   "execution_count": 21,
   "metadata": {},
   "outputs": [],
   "source": [
    "# KeyBERT\n",
    "keybert_model = KeyBERTInspired()\n",
    "\n",
    "# Part-of-Speech\n",
    "pos_model = PartOfSpeech(\"en_core_web_sm\")\n",
    "\n",
    "# MMR\n",
    "mmr_model = MaximalMarginalRelevance(diversity=0.3)\n",
    "\n",
    "# GPT-3.5 Turbo\n",
    "prompt = \"\"\"\n",
    "I have a topic that contains the following documents:\n",
    "[DOCUMENTS]\n",
    "The topic is described by the following keywords: [KEYWORDS]\n",
    "\n",
    "En se basant sur les information ci-dessus, extrais un titre très descriptif du topic en français de maximum 10 mots. C'est un topic qui doit représenter le sujet des recherche mener dans un laboratoire en sciences de gestion. Make sure it is in the following format:\n",
    "topic: <topic label>\n",
    "\"\"\"\n",
    "\n",
    "client = openai.OpenAI(api_key=openai_api_key)\n",
    "openai_model = OpenAI(client,\n",
    "                       model=\"gpt-4\",\n",
    "                       exponential_backoff=True, \n",
    "                       chat=True, \n",
    "                       nr_docs=10,\n",
    "                       prompt=prompt)\n",
    "\n",
    "# Création du modèle de topic modeling\n",
    "representation_model = {\n",
    "    \"KeyBERT\": keybert_model,\n",
    "    \"OpenAI\": openai_model,\n",
    "    \"MMR\": mmr_model,\n",
    "    \"POS\": pos_model\n",
    "}"
   ]
  },
  {
   "cell_type": "code",
   "execution_count": 33,
   "metadata": {},
   "outputs": [
    {
     "name": "stderr",
     "output_type": "stream",
     "text": [
      "2024-03-26 14:44:41,143 - BERTopic - Dimensionality - Fitting the dimensionality reduction algorithm\n",
      "2024-03-26 14:44:43,002 - BERTopic - Dimensionality - Completed ✓\n",
      "2024-03-26 14:44:43,003 - BERTopic - Cluster - Start clustering the reduced embeddings\n",
      "2024-03-26 14:44:43,011 - BERTopic - Cluster - Completed ✓\n",
      "2024-03-26 14:44:43,013 - BERTopic - Representation - Extracting topics from clusters using representation models.\n",
      "100%|██████████| 10/10 [00:13<00:00,  1.36s/it]\n",
      "2024-03-26 14:44:59,557 - BERTopic - Representation - Completed ✓\n"
     ]
    }
   ],
   "source": [
    "topic_model = BERTopic(\n",
    "\n",
    "  # Pipeline models\n",
    "  embedding_model=embedding_model,\n",
    "  #umap_model=umap_model,\n",
    "  #hdbscan_model=hdbscan_model,\n",
    "  #vectorizer_model=vectorizer_model,\n",
    "  representation_model=representation_model,\n",
    "  #ctfidf_model=ctfidf_model,\n",
    "\n",
    "  # Hyperparameters\n",
    "  #language=\"french\",\n",
    "  top_n_words=10,\n",
    "  #min_topic_size=70,\n",
    "  verbose=True\n",
    ")\n",
    "\n",
    "topics, probs = topic_model.fit_transform(sentences, embeddings)"
   ]
  },
  {
   "cell_type": "code",
   "execution_count": 34,
   "metadata": {},
   "outputs": [],
   "source": [
    "gpt_topic_labels = {topic: \" | \".join(list(zip(*values))[0]) for topic, values in topic_model.topic_aspects_[\"OpenAI\"].items()}\n",
    "gpt_topic_labels[-1] = \"Outlier Topic\"\n",
    "topic_model.set_topic_labels(gpt_topic_labels)"
   ]
  },
  {
   "cell_type": "code",
   "execution_count": 35,
   "metadata": {},
   "outputs": [],
   "source": [
    "# Reduce dimensionality of embeddings, this step is optional but much faster to perform iteratively:\n",
    "reduced_embeddings = UMAP(metric='cosine', random_state=42).fit_transform(embeddings)"
   ]
  },
  {
   "cell_type": "code",
   "execution_count": 36,
   "metadata": {},
   "outputs": [],
   "source": [
    "# Visualize the documents in 2-dimensional space and show the titles on hover instead of the abstracts\n",
    "fig = topic_model.visualize_documents(sentences,\n",
    "                                reduced_embeddings=reduced_embeddings,\n",
    "                                custom_labels=True)\n",
    "fig\n",
    "\n",
    "# On sauvagarde la fig html\n",
    "fig.write_html(\"output/visualize_documents_all.html\")"
   ]
  },
  {
   "cell_type": "code",
   "execution_count": 37,
   "metadata": {},
   "outputs": [
    {
     "data": {
      "text/html": [
       "<div>\n",
       "<style scoped>\n",
       "    .dataframe tbody tr th:only-of-type {\n",
       "        vertical-align: middle;\n",
       "    }\n",
       "\n",
       "    .dataframe tbody tr th {\n",
       "        vertical-align: top;\n",
       "    }\n",
       "\n",
       "    .dataframe thead th {\n",
       "        text-align: right;\n",
       "    }\n",
       "</style>\n",
       "<table border=\"1\" class=\"dataframe\">\n",
       "  <thead>\n",
       "    <tr style=\"text-align: right;\">\n",
       "      <th></th>\n",
       "      <th>Date</th>\n",
       "      <th>Sentence</th>\n",
       "    </tr>\n",
       "  </thead>\n",
       "  <tbody>\n",
       "    <tr>\n",
       "      <th>7</th>\n",
       "      <td>2019</td>\n",
       "      <td>corporate social responsibility and m&amp;a uncert...</td>\n",
       "    </tr>\n",
       "    <tr>\n",
       "      <th>14</th>\n",
       "      <td>2020</td>\n",
       "      <td>corporate social responsibility and bank effic...</td>\n",
       "    </tr>\n",
       "    <tr>\n",
       "      <th>15</th>\n",
       "      <td>2019</td>\n",
       "      <td>anthropomorphic virtual assistants and the rea...</td>\n",
       "    </tr>\n",
       "    <tr>\n",
       "      <th>24</th>\n",
       "      <td>2019</td>\n",
       "      <td>does csr influence m&amp;a target choices?</td>\n",
       "    </tr>\n",
       "    <tr>\n",
       "      <th>29</th>\n",
       "      <td>2021</td>\n",
       "      <td>greenwashing and product market competition</td>\n",
       "    </tr>\n",
       "    <tr>\n",
       "      <th>...</th>\n",
       "      <td>...</td>\n",
       "      <td>...</td>\n",
       "    </tr>\n",
       "    <tr>\n",
       "      <th>896</th>\n",
       "      <td>2021</td>\n",
       "      <td>les risques psychosociaux (rps) sur le lieu de...</td>\n",
       "    </tr>\n",
       "    <tr>\n",
       "      <th>901</th>\n",
       "      <td>2022</td>\n",
       "      <td>promotion des activités physiques et lutte con...</td>\n",
       "    </tr>\n",
       "    <tr>\n",
       "      <th>903</th>\n",
       "      <td>2022</td>\n",
       "      <td>a new classification of small island economies...</td>\n",
       "    </tr>\n",
       "    <tr>\n",
       "      <th>904</th>\n",
       "      <td>2022</td>\n",
       "      <td>isolement géographique et état de santé matern...</td>\n",
       "    </tr>\n",
       "    <tr>\n",
       "      <th>907</th>\n",
       "      <td>2021</td>\n",
       "      <td>quels sont les déterminants de l'acceptation d...</td>\n",
       "    </tr>\n",
       "  </tbody>\n",
       "</table>\n",
       "<p>268 rows × 2 columns</p>\n",
       "</div>"
      ],
      "text/plain": [
       "     Date                                           Sentence\n",
       "7    2019  corporate social responsibility and m&a uncert...\n",
       "14   2020  corporate social responsibility and bank effic...\n",
       "15   2019  anthropomorphic virtual assistants and the rea...\n",
       "24   2019             does csr influence m&a target choices?\n",
       "29   2021        greenwashing and product market competition\n",
       "..    ...                                                ...\n",
       "896  2021  les risques psychosociaux (rps) sur le lieu de...\n",
       "901  2022  promotion des activités physiques et lutte con...\n",
       "903  2022  a new classification of small island economies...\n",
       "904  2022  isolement géographique et état de santé matern...\n",
       "907  2021  quels sont les déterminants de l'acceptation d...\n",
       "\n",
       "[268 rows x 2 columns]"
      ]
     },
     "execution_count": 37,
     "metadata": {},
     "output_type": "execute_result"
    }
   ],
   "source": [
    "# Faire pour la période après 2013\n",
    "df_dates_sentences = df_dates_sentences[df_dates_sentences[\"Date\"] > 2013]\n",
    "df_dates_sentences"
   ]
  },
  {
   "cell_type": "code",
   "execution_count": 42,
   "metadata": {},
   "outputs": [
    {
     "data": {
      "application/vnd.jupyter.widget-view+json": {
       "model_id": "dfe61d9f94e84696823c29299dc5df4d",
       "version_major": 2,
       "version_minor": 0
      },
      "text/plain": [
       "Batches:   0%|          | 0/9 [00:00<?, ?it/s]"
      ]
     },
     "metadata": {},
     "output_type": "display_data"
    },
    {
     "name": "stderr",
     "output_type": "stream",
     "text": [
      "2024-03-26 14:47:15,880 - BERTopic - Dimensionality - Fitting the dimensionality reduction algorithm\n",
      "2024-03-26 14:47:17,406 - BERTopic - Dimensionality - Completed ✓\n",
      "2024-03-26 14:47:17,407 - BERTopic - Cluster - Start clustering the reduced embeddings\n",
      "2024-03-26 14:47:17,416 - BERTopic - Cluster - Completed ✓\n",
      "2024-03-26 14:47:17,418 - BERTopic - Representation - Extracting topics from clusters using representation models.\n",
      "100%|██████████| 9/9 [00:14<00:00,  1.57s/it]\n",
      "2024-03-26 14:47:34,322 - BERTopic - Representation - Completed ✓\n"
     ]
    }
   ],
   "source": [
    "dates = df_dates_sentences[\"Date\"].tolist()\n",
    "sentences = df_dates_sentences[\"Sentence\"].tolist()\n",
    "\n",
    "# Pre-calculate embeddings\n",
    "embeddings = embedding_model.encode(sentences, show_progress_bar=True)\n",
    "\n",
    "topics, probs = topic_model.fit_transform(sentences, embeddings)\n",
    "\n",
    "gpt_topic_labels = {topic: \" | \".join(list(zip(*values))[0]) for topic, values in topic_model.topic_aspects_[\"OpenAI\"].items()}\n",
    "gpt_topic_labels[-1] = \"Outlier Topic\"\n",
    "\n",
    "topic_model.set_topic_labels(gpt_topic_labels)\n",
    "\n",
    "# Reduce dimensionality of embeddings, this step is optional but much faster to perform iteratively:\n",
    "reduced_embeddings = UMAP(metric='cosine', random_state=42).fit_transform(embeddings)\n",
    "\n",
    "# Visualize the documents in 2-dimensional space and show the titles on hover instead of the abstracts\n",
    "fig = topic_model.visualize_documents(sentences,\n",
    "                                reduced_embeddings=reduced_embeddings,\n",
    "                                custom_labels=True)\n",
    "\n",
    "fig\n",
    "\n",
    "# On sauvegarde la fig html\n",
    "fig.write_html(\"output/visualize_documents_after_2013.html\")\n"
   ]
  },
  {
   "cell_type": "code",
   "execution_count": 43,
   "metadata": {},
   "outputs": [
    {
     "data": {
      "application/vnd.jupyter.widget-view+json": {
       "model_id": "0a3f212531ee4b2a9829b68d7cbdfe78",
       "version_major": 2,
       "version_minor": 0
      },
      "text/plain": [
       "Batches:   0%|          | 0/9 [00:00<?, ?it/s]"
      ]
     },
     "metadata": {},
     "output_type": "display_data"
    },
    {
     "name": "stderr",
     "output_type": "stream",
     "text": [
      "2024-03-26 14:47:38,670 - BERTopic - Dimensionality - Fitting the dimensionality reduction algorithm\n",
      "2024-03-26 14:47:40,287 - BERTopic - Dimensionality - Completed ✓\n",
      "2024-03-26 14:47:40,287 - BERTopic - Cluster - Start clustering the reduced embeddings\n",
      "2024-03-26 14:47:40,296 - BERTopic - Cluster - Completed ✓\n",
      "2024-03-26 14:47:40,298 - BERTopic - Representation - Extracting topics from clusters using representation models.\n",
      "100%|██████████| 2/2 [00:02<00:00,  1.35s/it]\n",
      "2024-03-26 14:47:43,696 - BERTopic - Representation - Completed ✓\n"
     ]
    }
   ],
   "source": [
    "# Faire pour la période après 2018\n",
    "df_dates_sentences = df_dates_sentences[df_dates_sentences[\"Date\"] > 2018]\n",
    "\n",
    "dates = df_dates_sentences[\"Date\"].tolist()\n",
    "sentences = df_dates_sentences[\"Sentence\"].tolist()\n",
    "\n",
    "# Pre-calculate embeddings\n",
    "embeddings = embedding_model.encode(sentences, show_progress_bar=True)\n",
    "\n",
    "topics, probs = topic_model.fit_transform(sentences, embeddings)\n",
    "\n",
    "gpt_topic_labels = {topic: \" | \".join(list(zip(*values))[0]) for topic, values in topic_model.topic_aspects_[\"OpenAI\"].items()}\n",
    "gpt_topic_labels[-1] = \"Outlier Topic\"\n",
    "\n",
    "topic_model.set_topic_labels(gpt_topic_labels)\n",
    "\n",
    "# Reduce dimensionality of embeddings, this step is optional but much faster to perform iteratively:\n",
    "reduced_embeddings = UMAP(metric='cosine', random_state=42).fit_transform(embeddings)\n",
    "\n",
    "# Visualize the documents in 2-dimensional space and show the titles on hover instead of the abstracts\n",
    "fig = topic_model.visualize_documents(sentences,\n",
    "                                reduced_embeddings=reduced_embeddings,\n",
    "                                custom_labels=True)\n",
    "\n",
    "fig\n",
    "\n",
    "# On sauvegarde la fig html\n",
    "fig.write_html(\"output/visualize_documents_after_2018.html\")"
   ]
  },
  {
   "cell_type": "markdown",
   "metadata": {},
   "source": [
    "## Modélisation des topics dynamique"
   ]
  },
  {
   "cell_type": "code",
   "execution_count": 44,
   "metadata": {},
   "outputs": [
    {
     "name": "stderr",
     "output_type": "stream",
     "text": [
      "5it [00:00, 138.91it/s]\n"
     ]
    }
   ],
   "source": [
    "# La ligne suivante permet de lancer le DTM (Dynamic Topic Modeling) sur les données\n",
    "topics_over_time = topic_model.topics_over_time(sentences, dates, evolution_tuning=True)"
   ]
  },
  {
   "cell_type": "code",
   "execution_count": 45,
   "metadata": {},
   "outputs": [
    {
     "data": {
      "application/vnd.plotly.v1+json": {
       "config": {
        "plotlyServerURL": "https://plot.ly"
       },
       "data": [
        {
         "hoverinfo": "text",
         "hovertext": [
          "<b>Topic 0</b><br>Words: de, la, of, the, des",
          "<b>Topic 0</b><br>Words: of, the, de, la, des",
          "<b>Topic 0</b><br>Words: de, of, des, the, and",
          "<b>Topic 0</b><br>Words: de, of, the, and, la",
          "<b>Topic 0</b><br>Words: de, la, of, des, the"
         ],
         "marker": {
          "color": "#E69F00"
         },
         "mode": "lines",
         "name": "Gestion et Valorisation des Marques et Institutions Françaises",
         "type": "scatter",
         "x": [
          2019,
          2020,
          2021,
          2022,
          2023
         ],
         "y": [
          0.4048470297626245,
          0.3864448920461415,
          0.4784555806285562,
          0.4784555806285562,
          0.4784555806285562
         ]
        },
        {
         "hoverinfo": "text",
         "hovertext": [
          "<b>Topic 1</b><br>Words: problem, to, scheduling, collaborative, design",
          "<b>Topic 1</b><br>Words: problem, for, based, scheduling, multi",
          "<b>Topic 1</b><br>Words: problem, scheduling, the, for, multi",
          "<b>Topic 1</b><br>Words: problem, for, scheduling, the, and",
          "<b>Topic 1</b><br>Words: scheduling, problem, for, algorithm, allocation"
         ],
         "marker": {
          "color": "#56B4E9"
         },
         "mode": "lines",
         "name": "Problèmes d'Allocation et Planification en Gestion Logistique",
         "type": "scatter",
         "x": [
          2019,
          2020,
          2021,
          2022,
          2023
         ],
         "y": [
          0.5107539184552492,
          0.4256282653793743,
          0.4256282653793743,
          0.5107539184552492,
          0.34050261230349943
         ]
        }
       ],
       "layout": {
        "height": 450,
        "hoverlabel": {
         "bgcolor": "white",
         "font": {
          "family": "Rockwell",
          "size": 16
         }
        },
        "legend": {
         "title": {
          "text": "<b>Global Topic Representation"
         }
        },
        "template": {
         "data": {
          "bar": [
           {
            "error_x": {
             "color": "rgb(36,36,36)"
            },
            "error_y": {
             "color": "rgb(36,36,36)"
            },
            "marker": {
             "line": {
              "color": "white",
              "width": 0.5
             },
             "pattern": {
              "fillmode": "overlay",
              "size": 10,
              "solidity": 0.2
             }
            },
            "type": "bar"
           }
          ],
          "barpolar": [
           {
            "marker": {
             "line": {
              "color": "white",
              "width": 0.5
             },
             "pattern": {
              "fillmode": "overlay",
              "size": 10,
              "solidity": 0.2
             }
            },
            "type": "barpolar"
           }
          ],
          "carpet": [
           {
            "aaxis": {
             "endlinecolor": "rgb(36,36,36)",
             "gridcolor": "white",
             "linecolor": "white",
             "minorgridcolor": "white",
             "startlinecolor": "rgb(36,36,36)"
            },
            "baxis": {
             "endlinecolor": "rgb(36,36,36)",
             "gridcolor": "white",
             "linecolor": "white",
             "minorgridcolor": "white",
             "startlinecolor": "rgb(36,36,36)"
            },
            "type": "carpet"
           }
          ],
          "choropleth": [
           {
            "colorbar": {
             "outlinewidth": 1,
             "tickcolor": "rgb(36,36,36)",
             "ticks": "outside"
            },
            "type": "choropleth"
           }
          ],
          "contour": [
           {
            "colorbar": {
             "outlinewidth": 1,
             "tickcolor": "rgb(36,36,36)",
             "ticks": "outside"
            },
            "colorscale": [
             [
              0,
              "#440154"
             ],
             [
              0.1111111111111111,
              "#482878"
             ],
             [
              0.2222222222222222,
              "#3e4989"
             ],
             [
              0.3333333333333333,
              "#31688e"
             ],
             [
              0.4444444444444444,
              "#26828e"
             ],
             [
              0.5555555555555556,
              "#1f9e89"
             ],
             [
              0.6666666666666666,
              "#35b779"
             ],
             [
              0.7777777777777778,
              "#6ece58"
             ],
             [
              0.8888888888888888,
              "#b5de2b"
             ],
             [
              1,
              "#fde725"
             ]
            ],
            "type": "contour"
           }
          ],
          "contourcarpet": [
           {
            "colorbar": {
             "outlinewidth": 1,
             "tickcolor": "rgb(36,36,36)",
             "ticks": "outside"
            },
            "type": "contourcarpet"
           }
          ],
          "heatmap": [
           {
            "colorbar": {
             "outlinewidth": 1,
             "tickcolor": "rgb(36,36,36)",
             "ticks": "outside"
            },
            "colorscale": [
             [
              0,
              "#440154"
             ],
             [
              0.1111111111111111,
              "#482878"
             ],
             [
              0.2222222222222222,
              "#3e4989"
             ],
             [
              0.3333333333333333,
              "#31688e"
             ],
             [
              0.4444444444444444,
              "#26828e"
             ],
             [
              0.5555555555555556,
              "#1f9e89"
             ],
             [
              0.6666666666666666,
              "#35b779"
             ],
             [
              0.7777777777777778,
              "#6ece58"
             ],
             [
              0.8888888888888888,
              "#b5de2b"
             ],
             [
              1,
              "#fde725"
             ]
            ],
            "type": "heatmap"
           }
          ],
          "heatmapgl": [
           {
            "colorbar": {
             "outlinewidth": 1,
             "tickcolor": "rgb(36,36,36)",
             "ticks": "outside"
            },
            "colorscale": [
             [
              0,
              "#440154"
             ],
             [
              0.1111111111111111,
              "#482878"
             ],
             [
              0.2222222222222222,
              "#3e4989"
             ],
             [
              0.3333333333333333,
              "#31688e"
             ],
             [
              0.4444444444444444,
              "#26828e"
             ],
             [
              0.5555555555555556,
              "#1f9e89"
             ],
             [
              0.6666666666666666,
              "#35b779"
             ],
             [
              0.7777777777777778,
              "#6ece58"
             ],
             [
              0.8888888888888888,
              "#b5de2b"
             ],
             [
              1,
              "#fde725"
             ]
            ],
            "type": "heatmapgl"
           }
          ],
          "histogram": [
           {
            "marker": {
             "line": {
              "color": "white",
              "width": 0.6
             }
            },
            "type": "histogram"
           }
          ],
          "histogram2d": [
           {
            "colorbar": {
             "outlinewidth": 1,
             "tickcolor": "rgb(36,36,36)",
             "ticks": "outside"
            },
            "colorscale": [
             [
              0,
              "#440154"
             ],
             [
              0.1111111111111111,
              "#482878"
             ],
             [
              0.2222222222222222,
              "#3e4989"
             ],
             [
              0.3333333333333333,
              "#31688e"
             ],
             [
              0.4444444444444444,
              "#26828e"
             ],
             [
              0.5555555555555556,
              "#1f9e89"
             ],
             [
              0.6666666666666666,
              "#35b779"
             ],
             [
              0.7777777777777778,
              "#6ece58"
             ],
             [
              0.8888888888888888,
              "#b5de2b"
             ],
             [
              1,
              "#fde725"
             ]
            ],
            "type": "histogram2d"
           }
          ],
          "histogram2dcontour": [
           {
            "colorbar": {
             "outlinewidth": 1,
             "tickcolor": "rgb(36,36,36)",
             "ticks": "outside"
            },
            "colorscale": [
             [
              0,
              "#440154"
             ],
             [
              0.1111111111111111,
              "#482878"
             ],
             [
              0.2222222222222222,
              "#3e4989"
             ],
             [
              0.3333333333333333,
              "#31688e"
             ],
             [
              0.4444444444444444,
              "#26828e"
             ],
             [
              0.5555555555555556,
              "#1f9e89"
             ],
             [
              0.6666666666666666,
              "#35b779"
             ],
             [
              0.7777777777777778,
              "#6ece58"
             ],
             [
              0.8888888888888888,
              "#b5de2b"
             ],
             [
              1,
              "#fde725"
             ]
            ],
            "type": "histogram2dcontour"
           }
          ],
          "mesh3d": [
           {
            "colorbar": {
             "outlinewidth": 1,
             "tickcolor": "rgb(36,36,36)",
             "ticks": "outside"
            },
            "type": "mesh3d"
           }
          ],
          "parcoords": [
           {
            "line": {
             "colorbar": {
              "outlinewidth": 1,
              "tickcolor": "rgb(36,36,36)",
              "ticks": "outside"
             }
            },
            "type": "parcoords"
           }
          ],
          "pie": [
           {
            "automargin": true,
            "type": "pie"
           }
          ],
          "scatter": [
           {
            "fillpattern": {
             "fillmode": "overlay",
             "size": 10,
             "solidity": 0.2
            },
            "type": "scatter"
           }
          ],
          "scatter3d": [
           {
            "line": {
             "colorbar": {
              "outlinewidth": 1,
              "tickcolor": "rgb(36,36,36)",
              "ticks": "outside"
             }
            },
            "marker": {
             "colorbar": {
              "outlinewidth": 1,
              "tickcolor": "rgb(36,36,36)",
              "ticks": "outside"
             }
            },
            "type": "scatter3d"
           }
          ],
          "scattercarpet": [
           {
            "marker": {
             "colorbar": {
              "outlinewidth": 1,
              "tickcolor": "rgb(36,36,36)",
              "ticks": "outside"
             }
            },
            "type": "scattercarpet"
           }
          ],
          "scattergeo": [
           {
            "marker": {
             "colorbar": {
              "outlinewidth": 1,
              "tickcolor": "rgb(36,36,36)",
              "ticks": "outside"
             }
            },
            "type": "scattergeo"
           }
          ],
          "scattergl": [
           {
            "marker": {
             "colorbar": {
              "outlinewidth": 1,
              "tickcolor": "rgb(36,36,36)",
              "ticks": "outside"
             }
            },
            "type": "scattergl"
           }
          ],
          "scattermapbox": [
           {
            "marker": {
             "colorbar": {
              "outlinewidth": 1,
              "tickcolor": "rgb(36,36,36)",
              "ticks": "outside"
             }
            },
            "type": "scattermapbox"
           }
          ],
          "scatterpolar": [
           {
            "marker": {
             "colorbar": {
              "outlinewidth": 1,
              "tickcolor": "rgb(36,36,36)",
              "ticks": "outside"
             }
            },
            "type": "scatterpolar"
           }
          ],
          "scatterpolargl": [
           {
            "marker": {
             "colorbar": {
              "outlinewidth": 1,
              "tickcolor": "rgb(36,36,36)",
              "ticks": "outside"
             }
            },
            "type": "scatterpolargl"
           }
          ],
          "scatterternary": [
           {
            "marker": {
             "colorbar": {
              "outlinewidth": 1,
              "tickcolor": "rgb(36,36,36)",
              "ticks": "outside"
             }
            },
            "type": "scatterternary"
           }
          ],
          "surface": [
           {
            "colorbar": {
             "outlinewidth": 1,
             "tickcolor": "rgb(36,36,36)",
             "ticks": "outside"
            },
            "colorscale": [
             [
              0,
              "#440154"
             ],
             [
              0.1111111111111111,
              "#482878"
             ],
             [
              0.2222222222222222,
              "#3e4989"
             ],
             [
              0.3333333333333333,
              "#31688e"
             ],
             [
              0.4444444444444444,
              "#26828e"
             ],
             [
              0.5555555555555556,
              "#1f9e89"
             ],
             [
              0.6666666666666666,
              "#35b779"
             ],
             [
              0.7777777777777778,
              "#6ece58"
             ],
             [
              0.8888888888888888,
              "#b5de2b"
             ],
             [
              1,
              "#fde725"
             ]
            ],
            "type": "surface"
           }
          ],
          "table": [
           {
            "cells": {
             "fill": {
              "color": "rgb(237,237,237)"
             },
             "line": {
              "color": "white"
             }
            },
            "header": {
             "fill": {
              "color": "rgb(217,217,217)"
             },
             "line": {
              "color": "white"
             }
            },
            "type": "table"
           }
          ]
         },
         "layout": {
          "annotationdefaults": {
           "arrowhead": 0,
           "arrowwidth": 1
          },
          "autotypenumbers": "strict",
          "coloraxis": {
           "colorbar": {
            "outlinewidth": 1,
            "tickcolor": "rgb(36,36,36)",
            "ticks": "outside"
           }
          },
          "colorscale": {
           "diverging": [
            [
             0,
             "rgb(103,0,31)"
            ],
            [
             0.1,
             "rgb(178,24,43)"
            ],
            [
             0.2,
             "rgb(214,96,77)"
            ],
            [
             0.3,
             "rgb(244,165,130)"
            ],
            [
             0.4,
             "rgb(253,219,199)"
            ],
            [
             0.5,
             "rgb(247,247,247)"
            ],
            [
             0.6,
             "rgb(209,229,240)"
            ],
            [
             0.7,
             "rgb(146,197,222)"
            ],
            [
             0.8,
             "rgb(67,147,195)"
            ],
            [
             0.9,
             "rgb(33,102,172)"
            ],
            [
             1,
             "rgb(5,48,97)"
            ]
           ],
           "sequential": [
            [
             0,
             "#440154"
            ],
            [
             0.1111111111111111,
             "#482878"
            ],
            [
             0.2222222222222222,
             "#3e4989"
            ],
            [
             0.3333333333333333,
             "#31688e"
            ],
            [
             0.4444444444444444,
             "#26828e"
            ],
            [
             0.5555555555555556,
             "#1f9e89"
            ],
            [
             0.6666666666666666,
             "#35b779"
            ],
            [
             0.7777777777777778,
             "#6ece58"
            ],
            [
             0.8888888888888888,
             "#b5de2b"
            ],
            [
             1,
             "#fde725"
            ]
           ],
           "sequentialminus": [
            [
             0,
             "#440154"
            ],
            [
             0.1111111111111111,
             "#482878"
            ],
            [
             0.2222222222222222,
             "#3e4989"
            ],
            [
             0.3333333333333333,
             "#31688e"
            ],
            [
             0.4444444444444444,
             "#26828e"
            ],
            [
             0.5555555555555556,
             "#1f9e89"
            ],
            [
             0.6666666666666666,
             "#35b779"
            ],
            [
             0.7777777777777778,
             "#6ece58"
            ],
            [
             0.8888888888888888,
             "#b5de2b"
            ],
            [
             1,
             "#fde725"
            ]
           ]
          },
          "colorway": [
           "#1F77B4",
           "#FF7F0E",
           "#2CA02C",
           "#D62728",
           "#9467BD",
           "#8C564B",
           "#E377C2",
           "#7F7F7F",
           "#BCBD22",
           "#17BECF"
          ],
          "font": {
           "color": "rgb(36,36,36)"
          },
          "geo": {
           "bgcolor": "white",
           "lakecolor": "white",
           "landcolor": "white",
           "showlakes": true,
           "showland": true,
           "subunitcolor": "white"
          },
          "hoverlabel": {
           "align": "left"
          },
          "hovermode": "closest",
          "mapbox": {
           "style": "light"
          },
          "paper_bgcolor": "white",
          "plot_bgcolor": "white",
          "polar": {
           "angularaxis": {
            "gridcolor": "rgb(232,232,232)",
            "linecolor": "rgb(36,36,36)",
            "showgrid": false,
            "showline": true,
            "ticks": "outside"
           },
           "bgcolor": "white",
           "radialaxis": {
            "gridcolor": "rgb(232,232,232)",
            "linecolor": "rgb(36,36,36)",
            "showgrid": false,
            "showline": true,
            "ticks": "outside"
           }
          },
          "scene": {
           "xaxis": {
            "backgroundcolor": "white",
            "gridcolor": "rgb(232,232,232)",
            "gridwidth": 2,
            "linecolor": "rgb(36,36,36)",
            "showbackground": true,
            "showgrid": false,
            "showline": true,
            "ticks": "outside",
            "zeroline": false,
            "zerolinecolor": "rgb(36,36,36)"
           },
           "yaxis": {
            "backgroundcolor": "white",
            "gridcolor": "rgb(232,232,232)",
            "gridwidth": 2,
            "linecolor": "rgb(36,36,36)",
            "showbackground": true,
            "showgrid": false,
            "showline": true,
            "ticks": "outside",
            "zeroline": false,
            "zerolinecolor": "rgb(36,36,36)"
           },
           "zaxis": {
            "backgroundcolor": "white",
            "gridcolor": "rgb(232,232,232)",
            "gridwidth": 2,
            "linecolor": "rgb(36,36,36)",
            "showbackground": true,
            "showgrid": false,
            "showline": true,
            "ticks": "outside",
            "zeroline": false,
            "zerolinecolor": "rgb(36,36,36)"
           }
          },
          "shapedefaults": {
           "fillcolor": "black",
           "line": {
            "width": 0
           },
           "opacity": 0.3
          },
          "ternary": {
           "aaxis": {
            "gridcolor": "rgb(232,232,232)",
            "linecolor": "rgb(36,36,36)",
            "showgrid": false,
            "showline": true,
            "ticks": "outside"
           },
           "baxis": {
            "gridcolor": "rgb(232,232,232)",
            "linecolor": "rgb(36,36,36)",
            "showgrid": false,
            "showline": true,
            "ticks": "outside"
           },
           "bgcolor": "white",
           "caxis": {
            "gridcolor": "rgb(232,232,232)",
            "linecolor": "rgb(36,36,36)",
            "showgrid": false,
            "showline": true,
            "ticks": "outside"
           }
          },
          "title": {
           "x": 0.05
          },
          "xaxis": {
           "automargin": true,
           "gridcolor": "rgb(232,232,232)",
           "linecolor": "rgb(36,36,36)",
           "showgrid": false,
           "showline": true,
           "ticks": "outside",
           "title": {
            "standoff": 15
           },
           "zeroline": false,
           "zerolinecolor": "rgb(36,36,36)"
          },
          "yaxis": {
           "automargin": true,
           "gridcolor": "rgb(232,232,232)",
           "linecolor": "rgb(36,36,36)",
           "showgrid": false,
           "showline": true,
           "ticks": "outside",
           "title": {
            "standoff": 15
           },
           "zeroline": false,
           "zerolinecolor": "rgb(36,36,36)"
          }
         }
        },
        "title": {
         "font": {
          "color": "Black",
          "size": 22
         },
         "text": "<b>Topics over Time</b>",
         "x": 0.4,
         "xanchor": "center",
         "y": 0.95,
         "yanchor": "top"
        },
        "width": 1250,
        "xaxis": {
         "range": [
          2013,
          2023
         ],
         "showgrid": true
        },
        "yaxis": {
         "showgrid": true,
         "title": {
          "text": "Normalized Frequency"
         }
        }
       }
      }
     },
     "metadata": {},
     "output_type": "display_data"
    }
   ],
   "source": [
    "# Comme il s'agit d'un plotly, nous pouvons également tracer les étiquettes des sujets. (limiter de 2013 à 2023)\n",
    "fig_dtm = topic_model.visualize_topics_over_time(topics_over_time, custom_labels=True, normalize_frequency=True)\n",
    "fig_dtm.update_xaxes(range=[2013, 2023])\n",
    "fig_dtm.write_html(\"output/visualize_topics_over_time.html\")\n",
    "fig_dtm"
   ]
  }
 ],
 "metadata": {
  "kernelspec": {
   "display_name": "Python 3",
   "language": "python",
   "name": "python3"
  },
  "language_info": {
   "codemirror_mode": {
    "name": "ipython",
    "version": 3
   },
   "file_extension": ".py",
   "mimetype": "text/x-python",
   "name": "python",
   "nbconvert_exporter": "python",
   "pygments_lexer": "ipython3",
   "version": "3.11.5"
  }
 },
 "nbformat": 4,
 "nbformat_minor": 2
}
